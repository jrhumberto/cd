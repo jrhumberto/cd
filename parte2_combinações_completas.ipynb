{
  "nbformat": 4,
  "nbformat_minor": 0,
  "metadata": {
    "colab": {
      "name": "parte2_combinações_completas.ipynb",
      "provenance": [],
      "collapsed_sections": [
        "Nd-Ee4d1ym0x",
        "NwLR4VtkxqDx"
      ],
      "toc_visible": true,
      "include_colab_link": true
    },
    "kernelspec": {
      "name": "python3",
      "display_name": "Python 3"
    }
  },
  "cells": [
    {
      "cell_type": "markdown",
      "metadata": {
        "id": "view-in-github",
        "colab_type": "text"
      },
      "source": [
        "<a href=\"https://colab.research.google.com/github/jrhumberto/cd/blob/main/parte2_combina%C3%A7%C3%B5es_completas.ipynb\" target=\"_parent\"><img src=\"https://colab.research.google.com/assets/colab-badge.svg\" alt=\"Open In Colab\"/></a>"
      ]
    },
    {
      "cell_type": "markdown",
      "metadata": {
        "id": "Nd-Ee4d1ym0x"
      },
      "source": [
        "# 1 - Estratégia de Recursão\n",
        "\n",
        "Provavelmente a mais óbvia e adequada, ganha em todos os aspectos da combinação completa (com exceção da parelelização dos loops). A recursão permite um código mais elegante e controlado enquanto as funções que se encerram varrem da memória as variáveis temporárias."
      ]
    },
    {
      "cell_type": "code",
      "metadata": {
        "id": "wQTVbIvCzFih",
        "outputId": "4bdd3918-1501-4062-95df-c83a9d558bfd",
        "colab": {
          "base_uri": "https://localhost:8080/",
          "height": 50
        }
      },
      "source": [
        "import nltk\n",
        "nltk.download('punkt')\n",
        "from nltk.tokenize import word_tokenize"
      ],
      "execution_count": null,
      "outputs": [
        {
          "output_type": "stream",
          "text": [
            "[nltk_data] Downloading package punkt to /root/nltk_data...\n",
            "[nltk_data]   Package punkt is already up-to-date!\n"
          ],
          "name": "stdout"
        }
      ]
    },
    {
      "cell_type": "code",
      "metadata": {
        "id": "_bxKUZO4zGq3"
      },
      "source": [
        "#Função de recursão. Pega a primeira palavra e combina ou separa em relacao ao\n",
        "#resto da frade, recursivamente.\n",
        "def recursao_combinacao(frase):\n",
        "  if(len(frase)==1):\n",
        "    return frase\n",
        "\n",
        "  palavra_inicial = frase[0]\n",
        "  ultimas_palavras = frase[1:]\n",
        "\n",
        "  combinacoes_das_ultimas_palavras = recursao_combinacao(ultimas_palavras)\n",
        "\n",
        "  combinador = ' '\n",
        "  separador = ','\n",
        "  separados = []\n",
        "  combinados = []\n",
        "\n",
        "  for combinacao in combinacoes_das_ultimas_palavras:\n",
        "    combinados.append(combinador.join([palavra_inicial,combinacao]))\n",
        "    separados.append(separador.join([palavra_inicial,combinacao]))\n",
        "  return combinados + separados"
      ],
      "execution_count": null,
      "outputs": []
    },
    {
      "cell_type": "code",
      "metadata": {
        "id": "JtDXRfD5zXs4",
        "outputId": "678ce534-11c2-48a4-c25f-1431c6a24a0a",
        "colab": {
          "base_uri": "https://localhost:8080/",
          "height": 54
        }
      },
      "source": [
        "text = input('Digite o texto: ')\n",
        "\n",
        "token_text = word_tokenize(text)\n",
        "\n",
        "print(recursao_combinacao(token_text))"
      ],
      "execution_count": null,
      "outputs": [
        {
          "output_type": "stream",
          "text": [
            "['eu gosto de café', 'eu gosto de,café', 'eu gosto,de café', 'eu gosto,de,café', 'eu,gosto de café', 'eu,gosto de,café', 'eu,gosto,de café', 'eu,gosto,de,café']\n"
          ],
          "name": "stdout"
        }
      ]
    },
    {
      "cell_type": "markdown",
      "metadata": {
        "id": "NwLR4VtkxqDx"
      },
      "source": [
        "# 2 - Estratégia Bonus: combinação completa (pauzinhos e bolinhas):\n",
        "\n",
        "Também conhecida por combinação com repetição, as combinações completas permitem uma gama de aplicações, dentre elas determinar todas as divisões e combinações das palavras de uma frase em n-gramas não homogêneos. Ainda não havia visto essa utilziação das combinações completas, por isso achei interessante ressaltar que temos uma aplicação bem prática delas em NLP.\n",
        "\n",
        "Vale resaltar que o método é fraco em eficiência em relação a memória, porém é fácilmente paralelizavel por meio de seus loops.\n",
        "\n",
        "Como bonus extra extra, também é apresentado a paralelização através do pacote parsl (poderia ser através de Mpi, opencl ou cuda, mas o parsl é menos popular, portanto vamos tratar de popularizá-lo!)"
      ]
    },
    {
      "cell_type": "code",
      "metadata": {
        "id": "W4rr4lDr6lYa"
      },
      "source": [
        "!pip install parsl"
      ],
      "execution_count": null,
      "outputs": []
    },
    {
      "cell_type": "code",
      "metadata": {
        "id": "HX-svCw960n4",
        "outputId": "749e51f6-725b-486b-a734-bbc4cc1e54d8",
        "colab": {
          "base_uri": "https://localhost:8080/",
          "height": 34
        }
      },
      "source": [
        "import parsl\n",
        "parsl.load()"
      ],
      "execution_count": null,
      "outputs": [
        {
          "output_type": "execute_result",
          "data": {
            "text/plain": [
              "<parsl.dataflow.dflow.DataFlowKernel at 0x7f2ca6595e80>"
            ]
          },
          "metadata": {
            "tags": []
          },
          "execution_count": 46
        }
      ]
    },
    {
      "cell_type": "code",
      "metadata": {
        "id": "FfucNBf_U8hH",
        "outputId": "97381f3a-3511-4c18-99f4-48fff03a6a84",
        "colab": {
          "base_uri": "https://localhost:8080/",
          "height": 50
        }
      },
      "source": [
        "import string\n",
        "import nltk\n",
        "nltk.download('punkt')\n",
        "from nltk.tokenize import word_tokenize\n",
        "import re\n",
        "import itertools "
      ],
      "execution_count": null,
      "outputs": [
        {
          "output_type": "stream",
          "text": [
            "[nltk_data] Downloading package punkt to /root/nltk_data...\n",
            "[nltk_data]   Package punkt is already up-to-date!\n"
          ],
          "name": "stdout"
        }
      ]
    },
    {
      "cell_type": "code",
      "metadata": {
        "id": "-MWGTEej66kY"
      },
      "source": [
        "import os\n",
        "from parsl.app.app import python_app, bash_app\n",
        "from parsl.configs.local_threads import config\n",
        "import numpy as np\n",
        "\n",
        "@python_app\n",
        "def complete_combination(index,token_text):\n",
        "  combinator = ' '\n",
        "  separator = ','\n",
        "  combination = ''\n",
        "  id = 0\n",
        "  for i in range(len(index)-1):\n",
        "    step = index[i+1]-index[i]-1\n",
        "    if(step>0):\n",
        "      if len(combination)>0:\n",
        "        combination = combination + separator + combinator.join(token_text[id:id+step])\n",
        "      else:\n",
        "        combination =  combinator.join(token_text[id:id+step])\n",
        "      id = id + step\n",
        "  if(id<len(token_text)):\n",
        "    if len(combination)>0:\n",
        "      combination = combination + separator + combinator.join(token_text[id:len(token_text)])\n",
        "    else:\n",
        "      combination = combinator.join(token_text[id:len(token_text)])\n",
        "  if combination not in combinations:\n",
        "    combinations.append(combination)\n",
        "  return combinations"
      ],
      "execution_count": null,
      "outputs": []
    },
    {
      "cell_type": "code",
      "metadata": {
        "id": "83v-lhZZKasy",
        "outputId": "7f2bbf8b-e846-4330-e9ee-6cfd32446f93",
        "colab": {
          "base_uri": "https://localhost:8080/",
          "height": 50
        }
      },
      "source": [
        "#input de texto\n",
        "text = input('Digite o texto: ')\n",
        "\n",
        "#limpando e dividindo o texto em tokens\n",
        "text = text.lower()\n",
        "text =  re.sub(r'\\w*\\d\\w*', ' ', text)\n",
        "text = re.sub('[%s]' % re.escape(string.punctuation), ' ', text)\n",
        "token_text = word_tokenize(text)\n",
        "\n",
        "\n",
        "#criando a estratégia de combinações completas (2n-1 pauzinhos e bolinhas)\n",
        "arr = range(2*len(token_text)-1)\n",
        "k = len(token_text) -1\n",
        "\n",
        "#criando as combinações para as posições dos pauzinhos\n",
        "indexes = list(itertools.combinations(arr, k))\n",
        "\n",
        "\n",
        "#Verificando como a frase ficou dividida pelos pauzinhos e adicionando no vetor de combinações\n",
        "combinations = []\n",
        "parallel_array = []\n",
        "\n",
        "#loop paralelo pelos indices dos pauzinhos\n",
        "for index in indexes:\n",
        "  parallel_array.append(complete_combination(index,token_text))\n",
        "\n",
        "for conbination in parallel_array:\n",
        "  if conbination.result() not in combinations:\n",
        "    combinations.append(conbination.result())\n",
        "\n",
        "#adicionando por ultimo os tokens todos separados\n",
        "combinations.append(separator.join(token_text))\n",
        "\n",
        "#vizualizando\n",
        "print(combinations)"
      ],
      "execution_count": null,
      "outputs": [
        {
          "output_type": "stream",
          "text": [
            "Digite o texto: cafe e bom\n",
            "['cafe e bom', 'cafe,e bom', 'cafe e,bom', [...], 'cafe,e,bom']\n"
          ],
          "name": "stdout"
        }
      ]
    }
  ]
}