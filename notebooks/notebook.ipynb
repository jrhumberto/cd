{
 "cells": [
  {
   "cell_type": "markdown",
   "source": "# Análise Exploratória - 12/08/2021\n\n### Projeto de Mentoria DSA - Data Science Academy\n* Projeto a ser desenvolvido para o scrap e análise de cenários de queimadas no Brasil\n\n### Problema de Prevenção de Queimadas no Brasil \n* Dataset utlizado: \n\n### Participantes(alunos da Data Science Academy):\n\n- Angela\n- Humberto\n- Joao\n- Joice\n- Petronio\n\n",
   "metadata": {
    "tags": [],
    "cell_id": "00000-7677f83a-9ef2-4c34-91b3-e06769416c59",
    "deepnote_cell_type": "markdown"
   }
  },
  {
   "cell_type": "code",
   "metadata": {
    "tags": [],
    "cell_id": "00000-e680b825-e462-4920-8049-ac6983bcbff0",
    "deepnote_cell_type": "code"
   },
   "source": "#Autoviz\n!pip install git+git://github.com/AutoViML/AutoViz.git\n!pip install xlrd\n\n#Dataprep\n!pip install dataprep\n\n#D-tale\n!pip install dtale\n\n#Lux\n#pip install git+https://github.com/lux-org/lux.git\n!pip install lux-api\n!jupyter nbextension enable --py luxwidget\n\n# Pandas Profiling\n\n#Sweetviz\n!pip install sweetviz\n\n#Qgrid\n!pip install qgrid==0.3.3",
   "execution_count": null,
   "outputs": []
  },
  {
   "cell_type": "code",
   "source": "import pandas as pd\ndf = pd.read_csv('https://github.com/dsa2021/dsa2021.github.io/raw/main/data/Focos_2021-06-26_2021-06-27.csv')\ndf.head()",
   "metadata": {
    "tags": [],
    "cell_id": "00002-6c2dc69b-c326-4fe1-8def-de66ab59ba59",
    "deepnote_to_be_reexecuted": false,
    "source_hash": "23bd6cb3",
    "execution_start": 1628749489095,
    "execution_millis": 443,
    "deepnote_cell_type": "code"
   },
   "outputs": [
    {
     "output_type": "execute_result",
     "execution_count": 1,
     "data": {
      "application/vnd.deepnote.dataframe.v2+json": {
       "row_count": 5,
       "column_count": 12,
       "columns": [
        {
         "name": "datahora",
         "dtype": "object",
         "stats": {
          "unique_count": 1,
          "nan_count": 0,
          "categories": [
           {
            "name": "2021/06/26 17:00:00",
            "count": 5
           }
          ]
         }
        },
        {
         "name": "satelite",
         "dtype": "object",
         "stats": {
          "unique_count": 1,
          "nan_count": 0,
          "categories": [
           {
            "name": "AQUA_M-T",
            "count": 5
           }
          ]
         }
        },
        {
         "name": "pais",
         "dtype": "object",
         "stats": {
          "unique_count": 1,
          "nan_count": 0,
          "categories": [
           {
            "name": "Brasil",
            "count": 5
           }
          ]
         }
        },
        {
         "name": "estado",
         "dtype": "object",
         "stats": {
          "unique_count": 3,
          "nan_count": 0,
          "categories": [
           {
            "name": "RIO DE JANEIRO",
            "count": 2
           },
           {
            "name": "SAO PAULO",
            "count": 2
           },
           {
            "name": "MATO GROSSO DO SUL",
            "count": 1
           }
          ]
         }
        },
        {
         "name": "municipio",
         "dtype": "object",
         "stats": {
          "unique_count": 5,
          "nan_count": 0,
          "categories": [
           {
            "name": "SANTO ANTONIO DE PADUA",
            "count": 1
           },
           {
            "name": "IBITINGA",
            "count": 1
           },
           {
            "name": "3 others",
            "count": 3
           }
          ]
         }
        },
        {
         "name": "bioma",
         "dtype": "object",
         "stats": {
          "unique_count": 2,
          "nan_count": 0,
          "categories": [
           {
            "name": "Mata Atlantica",
            "count": 3
           },
           {
            "name": "Cerrado",
            "count": 2
           }
          ]
         }
        },
        {
         "name": "diasemchuva",
         "dtype": "float64",
         "stats": {
          "unique_count": 5,
          "nan_count": 0,
          "min": "-999.0",
          "max": "17.0",
          "histogram": [
           {
            "bin_start": -999,
            "bin_end": -897.4,
            "count": 1
           },
           {
            "bin_start": -897.4,
            "bin_end": -795.8,
            "count": 0
           },
           {
            "bin_start": -795.8,
            "bin_end": -694.2,
            "count": 0
           },
           {
            "bin_start": -694.2,
            "bin_end": -592.6,
            "count": 0
           },
           {
            "bin_start": -592.6,
            "bin_end": -491,
            "count": 0
           },
           {
            "bin_start": -491,
            "bin_end": -389.4000000000001,
            "count": 0
           },
           {
            "bin_start": -389.4000000000001,
            "bin_end": -287.80000000000007,
            "count": 0
           },
           {
            "bin_start": -287.80000000000007,
            "bin_end": -186.20000000000005,
            "count": 0
           },
           {
            "bin_start": -186.20000000000005,
            "bin_end": -84.60000000000002,
            "count": 0
           },
           {
            "bin_start": -84.60000000000002,
            "bin_end": 17,
            "count": 4
           }
          ]
         }
        },
        {
         "name": "precipitacao",
         "dtype": "float64",
         "stats": {
          "unique_count": 2,
          "nan_count": 0,
          "min": "0.0",
          "max": "0.1",
          "histogram": [
           {
            "bin_start": 0,
            "bin_end": 0.01,
            "count": 4
           },
           {
            "bin_start": 0.01,
            "bin_end": 0.02,
            "count": 0
           },
           {
            "bin_start": 0.02,
            "bin_end": 0.03,
            "count": 0
           },
           {
            "bin_start": 0.03,
            "bin_end": 0.04,
            "count": 0
           },
           {
            "bin_start": 0.04,
            "bin_end": 0.05,
            "count": 0
           },
           {
            "bin_start": 0.05,
            "bin_end": 0.06,
            "count": 0
           },
           {
            "bin_start": 0.06,
            "bin_end": 0.07,
            "count": 0
           },
           {
            "bin_start": 0.07,
            "bin_end": 0.08,
            "count": 0
           },
           {
            "bin_start": 0.08,
            "bin_end": 0.09,
            "count": 0
           },
           {
            "bin_start": 0.09,
            "bin_end": 0.1,
            "count": 1
           }
          ]
         }
        },
        {
         "name": "riscofogo",
         "dtype": "float64",
         "stats": {
          "unique_count": 3,
          "nan_count": 0,
          "min": "-999.0",
          "max": "1.0",
          "histogram": [
           {
            "bin_start": -999,
            "bin_end": -899,
            "count": 1
           },
           {
            "bin_start": -899,
            "bin_end": -799,
            "count": 0
           },
           {
            "bin_start": -799,
            "bin_end": -699,
            "count": 0
           },
           {
            "bin_start": -699,
            "bin_end": -599,
            "count": 0
           },
           {
            "bin_start": -599,
            "bin_end": -499,
            "count": 0
           },
           {
            "bin_start": -499,
            "bin_end": -399,
            "count": 0
           },
           {
            "bin_start": -399,
            "bin_end": -299,
            "count": 0
           },
           {
            "bin_start": -299,
            "bin_end": -199,
            "count": 0
           },
           {
            "bin_start": -199,
            "bin_end": -99,
            "count": 0
           },
           {
            "bin_start": -99,
            "bin_end": 1,
            "count": 4
           }
          ]
         }
        },
        {
         "name": "latitude",
         "dtype": "float64",
         "stats": {
          "unique_count": 5,
          "nan_count": 0,
          "min": "-22.851",
          "max": "-21.522",
          "histogram": [
           {
            "bin_start": -22.851,
            "bin_end": -22.7181,
            "count": 2
           },
           {
            "bin_start": -22.7181,
            "bin_end": -22.5852,
            "count": 0
           },
           {
            "bin_start": -22.5852,
            "bin_end": -22.452299999999997,
            "count": 0
           },
           {
            "bin_start": -22.452299999999997,
            "bin_end": -22.319399999999998,
            "count": 0
           },
           {
            "bin_start": -22.319399999999998,
            "bin_end": -22.1865,
            "count": 1
           },
           {
            "bin_start": -22.1865,
            "bin_end": -22.0536,
            "count": 0
           },
           {
            "bin_start": -22.0536,
            "bin_end": -21.9207,
            "count": 0
           },
           {
            "bin_start": -21.9207,
            "bin_end": -21.787799999999997,
            "count": 1
           },
           {
            "bin_start": -21.787799999999997,
            "bin_end": -21.654899999999998,
            "count": 0
           },
           {
            "bin_start": -21.654899999999998,
            "bin_end": -21.522,
            "count": 1
           }
          ]
         }
        },
        {
         "name": "longitude",
         "dtype": "float64",
         "stats": {
          "unique_count": 5,
          "nan_count": 0,
          "min": "-56.016",
          "max": "-42.201",
          "histogram": [
           {
            "bin_start": -56.016,
            "bin_end": -54.634499999999996,
            "count": 1
           },
           {
            "bin_start": -54.634499999999996,
            "bin_end": -53.253,
            "count": 0
           },
           {
            "bin_start": -53.253,
            "bin_end": -51.8715,
            "count": 0
           },
           {
            "bin_start": -51.8715,
            "bin_end": -50.49,
            "count": 0
           },
           {
            "bin_start": -50.49,
            "bin_end": -49.1085,
            "count": 0
           },
           {
            "bin_start": -49.1085,
            "bin_end": -47.727000000000004,
            "count": 1
           },
           {
            "bin_start": -47.727000000000004,
            "bin_end": -46.3455,
            "count": 1
           },
           {
            "bin_start": -46.3455,
            "bin_end": -44.964,
            "count": 0
           },
           {
            "bin_start": -44.964,
            "bin_end": -43.5825,
            "count": 0
           },
           {
            "bin_start": -43.5825,
            "bin_end": -42.201,
            "count": 2
           }
          ]
         }
        },
        {
         "name": "frp",
         "dtype": "float64",
         "stats": {
          "unique_count": 5,
          "nan_count": 0,
          "min": "4.7",
          "max": "28.9",
          "histogram": [
           {
            "bin_start": 4.7,
            "bin_end": 7.12,
            "count": 1
           },
           {
            "bin_start": 7.12,
            "bin_end": 9.54,
            "count": 1
           },
           {
            "bin_start": 9.54,
            "bin_end": 11.96,
            "count": 1
           },
           {
            "bin_start": 11.96,
            "bin_end": 14.379999999999999,
            "count": 0
           },
           {
            "bin_start": 14.379999999999999,
            "bin_end": 16.8,
            "count": 1
           },
           {
            "bin_start": 16.8,
            "bin_end": 19.22,
            "count": 0
           },
           {
            "bin_start": 19.22,
            "bin_end": 21.639999999999997,
            "count": 0
           },
           {
            "bin_start": 21.639999999999997,
            "bin_end": 24.06,
            "count": 0
           },
           {
            "bin_start": 24.06,
            "bin_end": 26.48,
            "count": 0
           },
           {
            "bin_start": 26.48,
            "bin_end": 28.9,
            "count": 1
           }
          ]
         }
        },
        {
         "name": "_deepnote_index_column",
         "dtype": "int64"
        }
       ],
       "rows_top": [
        {
         "datahora": "2021/06/26 17:00:00",
         "satelite": "AQUA_M-T",
         "pais": "Brasil",
         "estado": "RIO DE JANEIRO",
         "municipio": "SANTO ANTONIO DE PADUA",
         "bioma": "Mata Atlantica",
         "diasemchuva": 17,
         "precipitacao": 0,
         "riscofogo": -999,
         "latitude": -21.522,
         "longitude": -42.201,
         "frp": 11.4,
         "_deepnote_index_column": 0
        },
        {
         "datahora": "2021/06/26 17:00:00",
         "satelite": "AQUA_M-T",
         "pais": "Brasil",
         "estado": "SAO PAULO",
         "municipio": "IBITINGA",
         "bioma": "Cerrado",
         "diasemchuva": 15,
         "precipitacao": 0,
         "riscofogo": 1,
         "latitude": -21.87,
         "longitude": -48.799,
         "frp": 4.7,
         "_deepnote_index_column": 1
        },
        {
         "datahora": "2021/06/26 17:00:00",
         "satelite": "AQUA_M-T",
         "pais": "Brasil",
         "estado": "MATO GROSSO DO SUL",
         "municipio": "ANTONIO JOAO",
         "bioma": "Cerrado",
         "diasemchuva": 9,
         "precipitacao": 0,
         "riscofogo": 0.5,
         "latitude": -22.263,
         "longitude": -56.016,
         "frp": 28.9,
         "_deepnote_index_column": 2
        },
        {
         "datahora": "2021/06/26 17:00:00",
         "satelite": "AQUA_M-T",
         "pais": "Brasil",
         "estado": "SAO PAULO",
         "municipio": "SANTA BARBARA D'OESTE",
         "bioma": "Mata Atlantica",
         "diasemchuva": 4,
         "precipitacao": 0.1,
         "riscofogo": 1,
         "latitude": -22.844,
         "longitude": -47.454,
         "frp": 15.3,
         "_deepnote_index_column": 3
        },
        {
         "datahora": "2021/06/26 17:00:00",
         "satelite": "AQUA_M-T",
         "pais": "Brasil",
         "estado": "RIO DE JANEIRO",
         "municipio": "RIO DE JANEIRO",
         "bioma": "Mata Atlantica",
         "diasemchuva": -999,
         "precipitacao": 0,
         "riscofogo": 1,
         "latitude": -22.851,
         "longitude": -43.442,
         "frp": 9.3,
         "_deepnote_index_column": 4
        }
       ],
       "rows_bottom": null
      },
      "text/plain": "              datahora  satelite    pais              estado  \\\n0  2021/06/26 17:00:00  AQUA_M-T  Brasil      RIO DE JANEIRO   \n1  2021/06/26 17:00:00  AQUA_M-T  Brasil           SAO PAULO   \n2  2021/06/26 17:00:00  AQUA_M-T  Brasil  MATO GROSSO DO SUL   \n3  2021/06/26 17:00:00  AQUA_M-T  Brasil           SAO PAULO   \n4  2021/06/26 17:00:00  AQUA_M-T  Brasil      RIO DE JANEIRO   \n\n                municipio           bioma  diasemchuva  precipitacao  \\\n0  SANTO ANTONIO DE PADUA  Mata Atlantica         17.0           0.0   \n1                IBITINGA         Cerrado         15.0           0.0   \n2            ANTONIO JOAO         Cerrado          9.0           0.0   \n3   SANTA BARBARA D'OESTE  Mata Atlantica          4.0           0.1   \n4          RIO DE JANEIRO  Mata Atlantica       -999.0           0.0   \n\n   riscofogo  latitude  longitude   frp  \n0     -999.0   -21.522    -42.201  11.4  \n1        1.0   -21.870    -48.799   4.7  \n2        0.5   -22.263    -56.016  28.9  \n3        1.0   -22.844    -47.454  15.3  \n4        1.0   -22.851    -43.442   9.3  ",
      "text/html": "<div>\n<style scoped>\n    .dataframe tbody tr th:only-of-type {\n        vertical-align: middle;\n    }\n\n    .dataframe tbody tr th {\n        vertical-align: top;\n    }\n\n    .dataframe thead th {\n        text-align: right;\n    }\n</style>\n<table border=\"1\" class=\"dataframe\">\n  <thead>\n    <tr style=\"text-align: right;\">\n      <th></th>\n      <th>datahora</th>\n      <th>satelite</th>\n      <th>pais</th>\n      <th>estado</th>\n      <th>municipio</th>\n      <th>bioma</th>\n      <th>diasemchuva</th>\n      <th>precipitacao</th>\n      <th>riscofogo</th>\n      <th>latitude</th>\n      <th>longitude</th>\n      <th>frp</th>\n    </tr>\n  </thead>\n  <tbody>\n    <tr>\n      <th>0</th>\n      <td>2021/06/26 17:00:00</td>\n      <td>AQUA_M-T</td>\n      <td>Brasil</td>\n      <td>RIO DE JANEIRO</td>\n      <td>SANTO ANTONIO DE PADUA</td>\n      <td>Mata Atlantica</td>\n      <td>17.0</td>\n      <td>0.0</td>\n      <td>-999.0</td>\n      <td>-21.522</td>\n      <td>-42.201</td>\n      <td>11.4</td>\n    </tr>\n    <tr>\n      <th>1</th>\n      <td>2021/06/26 17:00:00</td>\n      <td>AQUA_M-T</td>\n      <td>Brasil</td>\n      <td>SAO PAULO</td>\n      <td>IBITINGA</td>\n      <td>Cerrado</td>\n      <td>15.0</td>\n      <td>0.0</td>\n      <td>1.0</td>\n      <td>-21.870</td>\n      <td>-48.799</td>\n      <td>4.7</td>\n    </tr>\n    <tr>\n      <th>2</th>\n      <td>2021/06/26 17:00:00</td>\n      <td>AQUA_M-T</td>\n      <td>Brasil</td>\n      <td>MATO GROSSO DO SUL</td>\n      <td>ANTONIO JOAO</td>\n      <td>Cerrado</td>\n      <td>9.0</td>\n      <td>0.0</td>\n      <td>0.5</td>\n      <td>-22.263</td>\n      <td>-56.016</td>\n      <td>28.9</td>\n    </tr>\n    <tr>\n      <th>3</th>\n      <td>2021/06/26 17:00:00</td>\n      <td>AQUA_M-T</td>\n      <td>Brasil</td>\n      <td>SAO PAULO</td>\n      <td>SANTA BARBARA D'OESTE</td>\n      <td>Mata Atlantica</td>\n      <td>4.0</td>\n      <td>0.1</td>\n      <td>1.0</td>\n      <td>-22.844</td>\n      <td>-47.454</td>\n      <td>15.3</td>\n    </tr>\n    <tr>\n      <th>4</th>\n      <td>2021/06/26 17:00:00</td>\n      <td>AQUA_M-T</td>\n      <td>Brasil</td>\n      <td>RIO DE JANEIRO</td>\n      <td>RIO DE JANEIRO</td>\n      <td>Mata Atlantica</td>\n      <td>-999.0</td>\n      <td>0.0</td>\n      <td>1.0</td>\n      <td>-22.851</td>\n      <td>-43.442</td>\n      <td>9.3</td>\n    </tr>\n  </tbody>\n</table>\n</div>"
     },
     "metadata": {}
    }
   ],
   "execution_count": 1
  },
  {
   "cell_type": "markdown",
   "source": "# Autoviz  [atv]\n\nhttps://github.com/AutoViML/AutoViz",
   "metadata": {
    "tags": [],
    "cell_id": "00002-d9f6a806-097f-4eb9-9ecd-e9f128c336fb",
    "deepnote_cell_type": "markdown"
   }
  },
  {
   "cell_type": "code",
   "source": "from autoviz.AutoViz_Class import AutoViz_Class\n\nAV = AutoViz_Class()\ndftc = AV.AutoViz(\n    filename='', \n    sep='' , \n    depVar='Class', \n    dfte=df, \n    header=0, \n    verbose=1, \n    lowess=False, \n    chart_format='png', \n    max_rows_analyzed=300000, \n    max_cols_analyzed=30\n)",
   "metadata": {
    "tags": [],
    "cell_id": "00004-b8a027ea-387b-43ca-8c74-167217612fb2",
    "deepnote_cell_type": "code"
   },
   "outputs": [],
   "execution_count": null
  },
  {
   "cell_type": "markdown",
   "source": "# Dataprep [dtp]\n\n* https://github.com/sfu-db/dataprep\n* https://docs.dataprep.ai/index.html",
   "metadata": {
    "tags": [],
    "cell_id": "00005-a2180c98-f7a8-4a18-a0f1-0dd83a9d2fc3",
    "deepnote_cell_type": "markdown"
   }
  },
  {
   "cell_type": "code",
   "source": "from dataprep.eda import plot, plot_correlation, create_report, plot_missing\n# Start of Pandas Profiling process\nstart_time = dt.datetime.now()\nprint(\"Started at \", start_time)\nplot(df)",
   "metadata": {
    "tags": [],
    "cell_id": "00002-7b6b9a09-5bf8-49c1-a96c-bfc0777e1afc",
    "deepnote_cell_type": "code"
   },
   "outputs": [],
   "execution_count": null
  },
  {
   "cell_type": "code",
   "source": "create_report(df)",
   "metadata": {
    "tags": [],
    "cell_id": "00003-f55fea5b-56b9-46f1-b05a-9942b17ead57",
    "deepnote_cell_type": "code"
   },
   "outputs": [],
   "execution_count": null
  },
  {
   "cell_type": "code",
   "source": "plot(df, \"Age\")",
   "metadata": {
    "tags": [],
    "cell_id": "00004-ca1cde62-fecb-444d-aad7-835058a94ca4",
    "deepnote_cell_type": "code"
   },
   "outputs": [],
   "execution_count": null
  },
  {
   "cell_type": "code",
   "source": "plot(df, \"Age\", \"Embarked\")",
   "metadata": {
    "tags": [],
    "cell_id": "00005-787d9aee-2077-4722-92cf-81c7e06d2136",
    "deepnote_cell_type": "code"
   },
   "outputs": [],
   "execution_count": null
  },
  {
   "cell_type": "code",
   "source": "print('Dataprep finished!!')\nfinish_time = dt.datetime.now()\nprint(\"Finished at \", finish_time)\nelapsed = finish_time - start_time\nprint(\"Elapsed time: \", elapsed)",
   "metadata": {
    "tags": [],
    "cell_id": "00006-3a77204a-70b1-47b2-b973-2cedaecb04ec",
    "deepnote_cell_type": "code"
   },
   "outputs": [],
   "execution_count": null
  },
  {
   "cell_type": "markdown",
   "source": "# D-tale [dtl]\n\n* https://dtale.readthedocs.io/en/latest/",
   "metadata": {
    "tags": [],
    "cell_id": "00004-caeb1eee-4ba2-4eeb-9058-cdb6e2a826a2",
    "deepnote_cell_type": "markdown"
   }
  },
  {
   "cell_type": "code",
   "source": "import pandas as pd\nimport dtale\n\ndf = pd.DataFrame(dict(a=[1,1,2,2,3,3], b=[1,2,3,4,5,6]))\ndtale.show(df)",
   "metadata": {
    "tags": [],
    "cell_id": "00004-3adca3ec-802b-4fdf-979d-2780c74c1b72",
    "deepnote_cell_type": "code"
   },
   "outputs": [],
   "execution_count": null
  },
  {
   "cell_type": "code",
   "source": "import dtale\nimport pandas as pd\ndf = pd.read_csv(‘data.csv’)\nd = dtale.show(df)\nd.open_browser()",
   "metadata": {
    "tags": [],
    "cell_id": "00014-749d1edf-be2b-47ab-910d-16bba2dc526f",
    "deepnote_cell_type": "code"
   },
   "outputs": [],
   "execution_count": null
  },
  {
   "cell_type": "markdown",
   "source": "# Lux [lux]\n\n* https://github.com/lux-org/lux\n* https://lux-api.readthedocs.io/en/latest/",
   "metadata": {
    "tags": [],
    "cell_id": "00014-7175c011-8f63-4a02-b94e-c9fdc2487468",
    "deepnote_cell_type": "markdown"
   }
  },
  {
   "cell_type": "code",
   "source": "# !jupyter nbextension enable --py luxwidget",
   "metadata": {
    "tags": [],
    "cell_id": "00015-1d198210-5a13-4269-b7d6-921ac31f1691",
    "deepnote_cell_type": "code"
   },
   "outputs": [],
   "execution_count": null
  },
  {
   "cell_type": "code",
   "source": "import lux\nimport pandas as pd\ndf",
   "metadata": {
    "tags": [],
    "cell_id": "00015-d5548a2d-d5fc-4988-b0af-1c948ed9a4a7",
    "deepnote_cell_type": "code"
   },
   "outputs": [],
   "execution_count": null
  },
  {
   "cell_type": "code",
   "source": "df.intent = [\"quality\"]\ndf",
   "metadata": {
    "tags": [],
    "cell_id": "00016-18212fca-0c61-4a3d-ba2e-ba35a563c85d",
    "deepnote_cell_type": "code"
   },
   "outputs": [],
   "execution_count": null
  },
  {
   "cell_type": "code",
   "source": "df.exported",
   "metadata": {
    "tags": [],
    "cell_id": "00017-bff7b3f6-5de0-4a44-bb17-5a04e0cc905d",
    "deepnote_cell_type": "code"
   },
   "outputs": [],
   "execution_count": null
  },
  {
   "cell_type": "markdown",
   "source": "# Pandas Profiling  [ppf]\n\n* https://github.com/pandas-profiling/pandas-profiling\n* https://pandas-profiling.github.io/pandas-profiling/docs/master/rtd/",
   "metadata": {
    "tags": [],
    "cell_id": "00005-67035116-fa6b-49d3-bbb9-a9414c8ada6d",
    "deepnote_cell_type": "markdown"
   }
  },
  {
   "cell_type": "code",
   "source": "from pandas_profiling import ProfileReport\nreport = ProfileReport(df)\nreport = ProfileReport(df, title=\"Pandas Profiling Relatório\", explorative=True)\nreport",
   "metadata": {
    "tags": [],
    "cell_id": "00006-52191ec4-71da-4180-9b2f-9c86b86110f1",
    "deepnote_cell_type": "code"
   },
   "outputs": [],
   "execution_count": null
  },
  {
   "cell_type": "code",
   "source": "report.to_widgets()",
   "metadata": {
    "tags": [],
    "cell_id": "00022-60abb950-a6d1-4521-a243-a0614326fad4",
    "deepnote_cell_type": "code"
   },
   "outputs": [],
   "execution_count": null
  },
  {
   "cell_type": "code",
   "source": "report.to_notebook_iframe()",
   "metadata": {
    "tags": [],
    "cell_id": "00023-80c96d00-688b-4c36-8df8-b32114fa2016",
    "deepnote_cell_type": "code"
   },
   "outputs": [],
   "execution_count": null
  },
  {
   "cell_type": "code",
   "source": "# As a string\n# json_data = report.to_json()\n# report.to_file(\"your_report.json\")\n\n# As a file\nreport.to_file(\"report.html\")\n",
   "metadata": {
    "tags": [],
    "cell_id": "00024-6f597e35-aa94-4606-bfe7-671edbff8ed8",
    "deepnote_cell_type": "code"
   },
   "outputs": [],
   "execution_count": null
  },
  {
   "cell_type": "markdown",
   "source": "# Sweetviz [swv]\n\n* https://github.com/fbdesignpro/sweetviz\n",
   "metadata": {
    "tags": [],
    "cell_id": "00007-3f09f923-6ba4-4bab-b881-1bba10eef5af",
    "deepnote_cell_type": "markdown"
   }
  },
  {
   "cell_type": "code",
   "source": "import sweetviz as sv\nadvert_report = sv.analyze([df, 'Data'])\nadvert_report.show_html()\n\n# advert_report.show_html('Relatorio.html')\n",
   "metadata": {
    "tags": [],
    "cell_id": "00008-db906a34-0b3b-4c34-8c18-c04b23ae554a",
    "deepnote_cell_type": "code"
   },
   "outputs": [],
   "execution_count": null
  },
  {
   "cell_type": "markdown",
   "source": "# Qgrid  [qgd]\n\n* https://github.com/quantopian/qgrid\n* http://qgrid.readthedocs.io/en/v0.3.3/",
   "metadata": {
    "tags": [],
    "cell_id": "00009-237d56bc-363a-4a2a-a715-94f6eff34528",
    "deepnote_cell_type": "markdown"
   }
  },
  {
   "cell_type": "code",
   "source": "import qgrid\nqgrid_widget = qgrid.show_grid(df, show_toolbar = True)\nqgrid_widget  ",
   "metadata": {
    "tags": [],
    "cell_id": "00015-2e7b6ada-db2f-45eb-bca8-44c137b0a455",
    "deepnote_cell_type": "code"
   },
   "outputs": [],
   "execution_count": null
  },
  {
   "cell_type": "code",
   "source": "qgrid_widget.get_changed_df()",
   "metadata": {
    "tags": [],
    "cell_id": "00010-03d0612d-c41c-4938-9055-168d2fee0e94",
    "deepnote_cell_type": "code"
   },
   "outputs": [],
   "execution_count": null
  },
  {
   "cell_type": "markdown",
   "source": "# Referências\n\n* Albert Sanchez Lafuente, Introduction to D-tale - https://towardsdatascience.com/introduction-to-d-tale-5eddd81abe3f\n* Analytics Vidha, Making Exploratory Data Analysis Sweeter with Sweetviz 2.0 - https://www.analyticsvidhya.com/blog/2021/01/making-exploratory-data-analysis-sweeter-with-sweetviz-2-0/\n* Andrew Schonfeld, Bring your Pandas Dataframes to life with D-Tale - https://www.kdnuggets.com/2020/08/bring-pandas-dataframes-life-d-tale.html\n* Bex T., 7 cool python packages kagglers are using without telling you - https://towardsdatascience.com/7-cool-python-packages-kagglers-are-using-without-telling-you-e83298781cf4\n* Dan Roth, AutoViz: A New Tool for Automated Visualization - https://towardsdatascience.com/autoviz-a-new-tool-for-automated-visualization-ec9c1744a6ad\n* George Vyshnya, PROs and CONs of Rapid EDA Tools - https://medium.com/sbc-group-blog/pros-and-cons-of-rapid-eda-tools-e1ccd159ab07\n* Himanshu Sharma, SweetViz: Automated EDA in Python - https://towardsdatascience.com/sweetviz-automated-eda-in-python-a97e4cabacde\n* Satyam Kumar, Sweetviz: EDA in 2 Lines of Python Code - https://medium.com/swlh/sweetviz-eda-in-2-lines-of-python-code-47617f08c883\n\n",
   "metadata": {
    "tags": [],
    "cell_id": "00015-482547ed-9f7a-4056-a209-100c50d8c786",
    "deepnote_cell_type": "markdown"
   }
  },
  {
   "cell_type": "markdown",
   "source": "<a style='text-decoration:none;line-height:16px;display:flex;color:#5B5B62;padding:10px;justify-content:end;' href='https://deepnote.com?utm_source=created-in-deepnote-cell&projectId=199c3ef0-1339-4168-9a9a-b6726a4ba40d' target=\"_blank\">\n<img alt='Created in deepnote.com' style='display:inline;max-height:16px;margin:0px;margin-right:7.5px;' src='data:image/svg+xml;base64,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' > </img>\nCreated in <span style='font-weight:600;margin-left:4px;'>Deepnote</span></a>",
   "metadata": {
    "tags": [],
    "created_in_deepnote_cell": true,
    "deepnote_cell_type": "markdown"
   }
  }
 ],
 "nbformat": 4,
 "nbformat_minor": 2,
 "metadata": {
  "orig_nbformat": 2,
  "deepnote": {
   "is_reactive": false
  },
  "deepnote_notebook_id": "61254a3e-c3e5-4b2e-a2e2-ea34d7609b04",
  "deepnote_execution_queue": []
 }
}