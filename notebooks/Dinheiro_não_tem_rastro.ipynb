{
  "nbformat": 4,
  "nbformat_minor": 0,
  "metadata": {
    "colab": {
      "name": "Dinheiro não tem rastro.ipynb",
      "provenance": [],
      "include_colab_link": true
    },
    "kernelspec": {
      "name": "python3",
      "display_name": "Python 3"
    },
    "language_info": {
      "name": "python"
    }
  },
  "cells": [
    {
      "cell_type": "markdown",
      "metadata": {
        "id": "view-in-github",
        "colab_type": "text"
      },
      "source": [
        "<a href=\"https://colab.research.google.com/github/jrhumberto/cd/blob/main/notebooks/Dinheiro_n%C3%A3o_tem_rastro.ipynb\" target=\"_parent\"><img src=\"https://colab.research.google.com/assets/colab-badge.svg\" alt=\"Open In Colab\"/></a>"
      ]
    },
    {
      "cell_type": "markdown",
      "metadata": {
        "id": "TN39Nyqntd21"
      },
      "source": [
        "A análise dos dados de Financiamento de Campanha Eleitoral requer uma atenção redobrada em função do tipo de doação que foi destinada a cada um dos agentes partidários (AGP). Por exemplo, uma doação feita ao partido por uma pessoa física ou jurídica pode não ser encaminhada a um determinado candidato, ou seja, uma vez que a doação entra no caixa de um AGP, este não necessariamente será utilizado para um determinado candidato. Esta realidade se encaixa no ditado popular que diz “**dinheiro não tem rastro**”, ou seja, uma vez que o dinheiro entra em uma conta-corrente única (no caso a conta corrente de um agente partidário), perde-se o rastro de como ele será gasto ou transferido no futuro.\n",
        "\n",
        "Para tentar rastrear o caminho do dinheiro, o TSE procurou meios de registrar as doações feitas indiretamente ao candidato a partir das doações feitas pelo AGP a um candidato, criando um atributo com a identificação do “Doador Original”, ou seja, a doação veio do partido mas o doador original foi uma pessoa física ou jurídica. Entretanto, fica a critério do AGP definir como será feito o rateio entre os candidatos de uma doação específica.\n",
        "\n",
        "Ou seja, se o AGP não tem o interesse em deixar esse rastro evidente, essa informação se perde no emaranhado de transferências que os AGPs realizam durante a campanha eleitoral.\n",
        "\n",
        "Esse notebook procura evidenciar um exemplo que mostra o caso acima narrado.\n",
        "\n",
        "Os dados iniciais de teste são de 2014, quando a legislação ainda permitia doações de Pessoas Jurídicas. Os dados estão vindo da base de financiamento copiadas para o servidor do FARMI. Caso você queira validar os dados, basta copiar estes mesmos arquivos para o seu ambiente do Google Colab.\n",
        "\n",
        "Caso você tenha alguma dúvida ou consideração, envie um email pra trocarmos uma ideia: josircg@gmail.com\n",
        "\n",
        "A primeira consulta vai na base de doações feitas diretamente ao partido."
      ]
    },
    {
      "cell_type": "code",
      "metadata": {
        "colab": {
          "base_uri": "https://localhost:8080/"
        },
        "id": "SYLI2eGYzgTp",
        "outputId": "e5ea4a3e-c43e-4000-9816-205fd559d65a"
      },
      "source": [
        "import io\n",
        "import csv\n",
        "import requests\n",
        "\n",
        "count = 0\n",
        "total = 0\n",
        "response = requests.get('http://www.farmi.pro.br/media/uploads/financiamento/receitas_partidos_2014_brasil.txt')\n",
        "for registro in csv.DictReader(io.StringIO(response.text), delimiter=';'):\n",
        "    partido = registro['Sigla  Partido']\n",
        "    fonte = registro['Tipo receita']\n",
        "    valor = float(registro['Valor receita'].replace(',','.'))\n",
        "    doador = registro['CPF/CNPJ do doador originário'].strip()\n",
        "    if doador == '#NULO':\n",
        "        doador = registro['CPF/CNPJ do doador'].strip()\n",
        "    \n",
        "    # if fonte in ('Recursos de pessoas físicas','Recursos de pessoas jurídicas') and \\\n",
        "    if doador == '48540421000131' and registro['Sigla  Partido'] == 'PT':\n",
        "        # print(fonte)\n",
        "        print('%s: %s -> %s: %s' % (registro['Data da receita'], registro['Nome do doador'], registro['UF'], valor))        \n",
        "        count += 1\n",
        "        total += valor\n",
        "print('Total: %s' % total)"
      ],
      "execution_count": null,
      "outputs": [
        {
          "output_type": "stream",
          "text": [
            "12-SEP-14: Direção Nacional -> AC: 95000.0\n",
            "09-OCT-14: SERVENG CIVILSAN S A EMPRESAS ASSOCIADAS DE ENGENHARIA -> BA: 1500000.0\n",
            "30-SEP-14: SERVENG CIVILSAN SA EMPRESAS ASSOCIADAS DE ENGENHARIA -> SC: 100000.0\n",
            "05-SEP-14: SERVENG CIVILSAN SA EMPRESAS ASSOCIADAS DE ENGENHARIA -> SC: 200000.0\n",
            "27-AUG-14: SERVENG CIVILSAN SA EMPRESAS ASSOCIADAS DE ENGENHARIA -> SC: 200000.0\n",
            "02-OCT-14: SERVENG CIVILSAN S A EMPRESAS ASSOCIADAS DE ENGENHARIA -> BR: 750000.0\n",
            "12-SEP-14: SERVENG CIVILSAN S A EMPRESAS ASSOCIADAS DE ENGENHARIA -> BR: 550000.0\n",
            "Total: 3395000.0\n"
          ],
          "name": "stdout"
        }
      ]
    },
    {
      "cell_type": "markdown",
      "metadata": {
        "id": "lPJy7co61Z0x"
      },
      "source": [
        "O resultado indica 7 doações da empresa para a Direção Nacional e que estas foram repassadas para os diretórios estaduais. Reparem entretanto que o total final está *errado* pois uma das doações foi um repasse para o Acre, ou seja, o valor total doado pela empresa **não** pode considerar a transferência da Direção Nacional para o Diretório do Acre!\n",
        "\n",
        "Ou seja, não basta apenas somar os valores. Deve-se interpretar a transação realizada.\n",
        "\n",
        "Vamos agora ao segundo arquivo que contém as transferências entre diretórios estaduais, municipais e comitês eleitorais."
      ]
    },
    {
      "cell_type": "code",
      "metadata": {
        "colab": {
          "base_uri": "https://localhost:8080/"
        },
        "id": "SroUYKcHvcM8",
        "outputId": "d7a4b099-2622-4958-a2be-2c734123bcce"
      },
      "source": [
        "count = 0\n",
        "response = requests.get('http://www.farmi.pro.br/media/uploads/financiamento/receitas_comites_2014_brasil.txt')\n",
        "for registro in csv.DictReader(io.StringIO(response.text), delimiter=';'):\n",
        "    partido = registro['Sigla  Partido']\n",
        "    fonte = registro['Tipo receita']\n",
        "    valor = float(registro['Valor receita'].replace(',','.'))\n",
        "    doador = registro['CPF/CNPJ do doador originário'].strip()\n",
        "    if doador == '#NULO':\n",
        "        doador = registro['CPF/CNPJ do doador'].strip()\n",
        "    if doador == '48540421000131' and partido == 'PT':\n",
        "        # print(fonte)\n",
        "        print('%s: %s -> %s(%s): %s' % (registro['Data da receita'], registro['Nome do doador'], registro['Tipo Comite'], registro['UF'], valor))\n",
        "        count += 1"
      ],
      "execution_count": null,
      "outputs": [
        {
          "output_type": "stream",
          "text": [
            "15/09/201400:00:00: Direção Estadual/Distrital -> Comitê Financeiro Distrital/Estadual para Governador(AC): 44000.0\n",
            "11/09/201400:00:00: ELEIÇÃO 2014 FERNANDO DAMATA PIMETEL GOVERNADOR -> Comitê Financeiro Único(MG): 500000.0\n"
          ],
          "name": "stdout"
        }
      ]
    },
    {
      "cell_type": "markdown",
      "metadata": {
        "id": "UI2ABqEq41Pq"
      },
      "source": [
        "Encontramos nesse arquivo 2 movimentações: uma do diretório do Acre para o comitê financeiro do Governador e uma movimentação da campanha do candidato a governador para o comitê central do Estado de Minas.\n",
        "\n",
        "Reparem que apenas parte da doação de 95.000 recebida pelo diretório do Acre é repassada para o governador. Ou seja, o diretório continuou com 51.000 em caixa.\n",
        "\n",
        "Algumas considerações: \n",
        "\n",
        "1) na base de candidatos, não se pode considerar uma doação feita pelo Diretório Nacional ou Federal como uma doação do partido para o candidato. Deve-se sempre verificar o doador original e considerar nesse caso que a doação veio na verdade de uma pessoa jurídica ou física.\n",
        "\n",
        "2) Para uma análise fina, é sempre é interessante consultar a SPCE (Sistema de Prestação de Contas Eleitorais). É uma forma de conferir se os dados analisados estão compatíveis com os relatórios do TSE.\n",
        "\n",
        "Vamos fazer a verificação no arquivo maior das doações dos candidatos:"
      ]
    },
    {
      "cell_type": "code",
      "metadata": {
        "colab": {
          "base_uri": "https://localhost:8080/"
        },
        "id": "EwO2yAoW9O4W",
        "outputId": "0744d4f1-ca14-43fb-e3b6-82daf3c6df93"
      },
      "source": [
        "count = 0\n",
        "response = requests.get('http://www.farmi.pro.br/media/uploads/financiamento/receitas_candidatos_2014_brasil.txt')\n",
        "for registro in csv.DictReader(io.StringIO(response.text), delimiter=';'):\n",
        "    partido = registro['Sigla  Partido']\n",
        "    fonte = registro['Tipo receita']\n",
        "    valor = float(registro['Valor receita'].replace(',','.'))\n",
        "    doador = registro['CPF/CNPJ do doador originário'].strip()\n",
        "    if doador == '#NULO':\n",
        "        doador = registro['CPF/CNPJ do doador'].strip()    \n",
        "    # if registro['CPF/CNPJ do doador'] != registro['CPF/CNPJ do doador originário'] and \\\n",
        "    if doador == '48540421000131' and registro['Sigla  Partido'] == 'PT':\n",
        "        print('%s (%s) -> %s: %s (%s)' % (registro['Nome do doador'], registro['UF'], \n",
        "                                          registro['Nome candidato'], valor, fonte))\n",
        "        count += 1"
      ],
      "execution_count": null,
      "outputs": [
        {
          "output_type": "stream",
          "text": [
            "ELEIÇÃO 2014 ADRIANO DIOGO DEPUTADO FEDERAL (SP) -> JOSÉ PRADO DE ANDRADE: 13600.0 (Recursos de outros candidatos/comitês)\n",
            "ELEIÇÃO 2014 JOSÉ VIEIRA FILHO (MG) -> GABRIEL GUIMARÃES DE ANDRADE: 243.0 (Recursos de outros candidatos/comitês)\n",
            "Direção Nacional (MG) -> GABRIEL GUIMARÃES DE ANDRADE: 75000.0 (Recursos de partido político)\n",
            "Direção Nacional (SP) -> LUIZ CLAUDIO MARCOLINO: 190000.0 (Recursos de partido político)\n",
            "Direção Nacional (RJ) -> EDSON SANTOS DE SOUZA: 95000.0 (Recursos de partido político)\n",
            "Direção Nacional (SP) -> ARLINDO CHIGNALIA JUNIOR: 237500.0 (Recursos de partido político)\n",
            "Direção Nacional (SP) -> CANDIDO ELPIDIO DE SOUZA VACCAREZZA: 237500.0 (Recursos de partido político)\n",
            "Direção Nacional (PA) -> PAULO ROBERTO GALVAO DA ROCHA: 37500.0 (Recursos de partido político)\n",
            "Direção Nacional (SP) -> ADRIANO DIOGO: 95000.0 (Recursos de partido político)\n",
            "ELEIÇÃO 2014 ARLINDO CHINAGLIA JUNIOR DEPUTADO FEDERAL (SP) -> JOÃO PAULO RILLO: 50000.0 (Recursos de outros candidatos/comitês)\n",
            "ELEIÇÕES 2014 ARLINDO CHINAGLIA JUNIOR DEPUTADO FEDERAL (SP) -> STELA REGINA DALECIO: 20000.0 (Recursos de outros candidatos/comitês)\n",
            "ARLINDO CHINAGLIA JUNIOR (SP) -> IARA BERNARDI: 15000.0 (Recursos de outros candidatos/comitês)\n",
            "ELEIÇÃO 2014 - ARLINDO CHIGNALI JUNIOR - DEP. FEDERAL (SP) -> JOSE ANTONIO DA SILVA: 18000.0 (Recursos de outros candidatos/comitês)\n",
            "ELEIÇÕES 2014 ARLINDO CHIGNALIA JUNIOR DEPUTADO FEDERAL (SP) -> SANDRA DE ALMEIDA LAURA: 50000.0 (Recursos de outros candidatos/comitês)\n",
            "Direção Estadual/Distrital (BA) -> RUI COSTA DOS SANTOS: 9600.0 (Recursos de partido político)\n",
            "Direção Estadual/Distrital (BA) -> RUI COSTA DOS SANTOS: 30000.0 (Recursos de partido político)\n",
            "Direção Estadual/Distrital (BA) -> RUI COSTA DOS SANTOS: 4250.0 (Recursos de partido político)\n",
            "Direção Estadual/Distrital (BA) -> RUI COSTA DOS SANTOS: 750000.0 (Recursos de partido político)\n",
            "Direção Estadual/Distrital (BA) -> RUI COSTA DOS SANTOS: 190000.0 (Recursos de partido político)\n",
            "Direção Estadual/Distrital (BA) -> RUI COSTA DOS SANTOS: 72000.0 (Recursos de partido político)\n",
            "Direção Estadual/Distrital (BA) -> RUI COSTA DOS SANTOS: 6666.68 (Recursos de partido político)\n",
            "Direção Estadual/Distrital (BA) -> RUI COSTA DOS SANTOS: 90000.0 (Recursos de partido político)\n",
            "Direção Estadual/Distrital (BA) -> RUI COSTA DOS SANTOS: 200160.0 (Recursos de partido político)\n",
            "Direção Estadual/Distrital (BA) -> RUI COSTA DOS SANTOS: 363.9 (Recursos de partido político)\n",
            "Direção Estadual/Distrital (BA) -> RUI COSTA DOS SANTOS: 150000.0 (Recursos de partido político)\n",
            "Direção Nacional (DF) -> AGNELO SANTOS QUEIROZ FILHO: 2000000.0 (Recursos de partido político)\n",
            "Direção Estadual/Distrital (DF) -> AGNELO SANTOS QUEIROZ FILHO: 420000.0 (Recursos de partido político)\n",
            "Direção Estadual/Distrital (SC) -> DÉCIO NERY DE LIMA: 200000.0 (Recursos de partido político)\n",
            "Direção Estadual/Distrital (SC) -> DÉCIO NERY DE LIMA: 200000.0 (Recursos de partido político)\n",
            "Direção Estadual/Distrital (SC) -> ANA PAULA DE SOUZA LIMA: 100000.0 (Recursos de partido político)\n",
            "Direção Estadual/Distrital (DF) -> AGNELO SANTOS QUEIROZ FILHO: 990000.0 (Recursos de partido político)\n",
            "Comitê Financeiro Único (MG) -> FERNANDO DAMATA PIMENTEL: 500000.0 (Recursos de outros candidatos/comitês)\n",
            "Comitê Financeiro Único (MG) -> JOSE TARCISIO CAIXETA: 12156.53 (Recursos de outros candidatos/comitês)\n",
            "SERVENG CIVILSAN S/A. - EMPRESAS ASSOCIADAS DE ENGENHARIA (MG) -> FERNANDO DAMATA PIMENTEL: 500000.0 (Recursos de pessoas jurídicas)\n",
            "SERVENG CIVILSAN S/A E.A. ENGENHARIA (RN) -> MARIA DE FÁTIMA BEZERRA: 58000.0 (Recursos de pessoas jurídicas)\n",
            "SERVENG CIVILSAN SA EMPRESAS ASSOCIADAS DE ENGENHARIA (SP) -> LUIZ FERNANDO TEIXEIRA FERREIRA: 75000.0 (Recursos de pessoas jurídicas)\n"
          ],
          "name": "stdout"
        }
      ]
    },
    {
      "cell_type": "markdown",
      "metadata": {
        "id": "AgHdcqbJnJll"
      },
      "source": [
        "Reparem que não existe referência de nenhuma doação da campanha do governador do Acre indicando que houve uma doação da referida empresa, ou seja, apesar da empresa ter doado para a campanha, ela não aparece como doadora da campanha do governador ou de qualquer outro candidato do PT no Acre!"
      ]
    },
    {
      "cell_type": "markdown",
      "metadata": {
        "id": "f3guoqYAot9q"
      },
      "source": [
        "# Visualização Gráfica\n",
        "\n",
        "Vamos agora tentar visualizar estes mesmos dados graficamente. Para tal utilizaremos o tipo de gráfico Sanken.\n",
        "\n",
        "Para tal, montaremos um grafo com os principais atores destas movimentações:\n",
        "\n",
        "* PJ: Pessoa Jurídica, ou seja, a empresa que está fazendo a doação\n",
        "* BR: O diretório nacional do Partido\n",
        "* UF: A unidade da federação do Diretório Estadual ou Municipal\n",
        "* COM-UF: O conjunto de comitês de um determinada UF\n",
        "* CAN: O conjunto de candidatos"
      ]
    },
    {
      "cell_type": "code",
      "metadata": {
        "id": "2AnSoYXvmaMX"
      },
      "source": [
        "grafo = {}\n",
        "\n",
        "def add_node(origem, destino, valor):\n",
        "    if origem != destino:\n",
        "        chave = origem+'/'+destino\n",
        "        if chave not in grafo:\n",
        "            grafo[chave] = {'origem':origem, 'destino':destino, 'total':0 }\n",
        "        grafo[chave]['total'] += valor"
      ],
      "execution_count": null,
      "outputs": []
    },
    {
      "cell_type": "code",
      "metadata": {
        "colab": {
          "base_uri": "https://localhost:8080/"
        },
        "id": "u9tEQyNQo55u",
        "outputId": "c6c0c238-6589-4756-b44b-868f5eb569eb"
      },
      "source": [
        "import csv\n",
        "import io\n",
        "import requests\n",
        "\n",
        "count = 0\n",
        "response = requests.get('http://www.farmi.pro.br/media/uploads/financiamento/receitas_partidos_2014_brasil.txt')\n",
        "for registro in csv.DictReader(io.StringIO(response.text), delimiter=';'):\n",
        "    count += 1\n",
        "    partido = registro['Sigla  Partido']\n",
        "    fonte = registro['Tipo receita']\n",
        "    valor = float(registro['Valor receita'].replace(',','.'))\n",
        "    doador = registro['CPF/CNPJ do doador originário'].strip()\n",
        "    if doador == '#NULO':\n",
        "        doador = registro['CPF/CNPJ do doador'].strip()\n",
        "        direto = True\n",
        "    else:\n",
        "        direto = False\n",
        "    \n",
        "    # if fonte in ('Recursos de pessoas físicas','Recursos de pessoas jurídicas') and \\\n",
        "    if doador == '48540421000131' and registro['Sigla  Partido'] == 'PT':\n",
        "        print('%s: %s -> %s: %s' % (registro['Data da receita'], registro['Nome do doador'], registro['UF'], valor))\n",
        "        if direto:\n",
        "            origem = 'PJ'\n",
        "            destino = registro['UF']\n",
        "        else:\n",
        "            origem = registro['Sigla UE doador'] \n",
        "            destino = registro['UF']\n",
        "        add_node(origem, destino, valor)\n",
        "\n",
        "print('Total de registros lidos: %d' % count)"
      ],
      "execution_count": null,
      "outputs": [
        {
          "output_type": "stream",
          "text": [
            "12-SEP-14: Direção Nacional -> AC: 95000.0\n",
            "09-OCT-14: SERVENG CIVILSAN S A EMPRESAS ASSOCIADAS DE ENGENHARIA -> BA: 1500000.0\n",
            "30-SEP-14: SERVENG CIVILSAN SA EMPRESAS ASSOCIADAS DE ENGENHARIA -> SC: 100000.0\n",
            "05-SEP-14: SERVENG CIVILSAN SA EMPRESAS ASSOCIADAS DE ENGENHARIA -> SC: 200000.0\n",
            "27-AUG-14: SERVENG CIVILSAN SA EMPRESAS ASSOCIADAS DE ENGENHARIA -> SC: 200000.0\n",
            "02-OCT-14: SERVENG CIVILSAN S A EMPRESAS ASSOCIADAS DE ENGENHARIA -> BR: 750000.0\n",
            "12-SEP-14: SERVENG CIVILSAN S A EMPRESAS ASSOCIADAS DE ENGENHARIA -> BR: 550000.0\n",
            "Total de registros lidos: 12247\n"
          ],
          "name": "stdout"
        }
      ]
    },
    {
      "cell_type": "code",
      "metadata": {
        "colab": {
          "base_uri": "https://localhost:8080/"
        },
        "id": "Xb_Kbx2xpz7b",
        "outputId": "cc85bf54-a8aa-4c1f-df14-e58ced0ece52"
      },
      "source": [
        "# Como ficou o grafo\n",
        "for item in grafo.values():\n",
        "    print(item)"
      ],
      "execution_count": null,
      "outputs": [
        {
          "output_type": "stream",
          "text": [
            "{'origem': 'BR', 'destino': 'AC', 'total': 95000.0}\n",
            "{'origem': 'PJ', 'destino': 'BA', 'total': 1500000.0}\n",
            "{'origem': 'PJ', 'destino': 'SC', 'total': 500000.0}\n",
            "{'origem': 'PJ', 'destino': 'BR', 'total': 1300000.0}\n"
          ],
          "name": "stdout"
        }
      ]
    },
    {
      "cell_type": "code",
      "metadata": {
        "colab": {
          "base_uri": "https://localhost:8080/"
        },
        "id": "5Ie4LzvqqDEA",
        "outputId": "0a80af72-86d9-4866-c4b8-b08c154d82f1"
      },
      "source": [
        "# Importação das movimentações dos comitês e diretórios\n",
        "\n",
        "count = 0\n",
        "response = requests.get('http://www.farmi.pro.br/media/uploads/financiamento/receitas_comites_2014_brasil.txt')\n",
        "for registro in csv.DictReader(io.StringIO(response.text), delimiter=';'):\n",
        "    count += 1\n",
        "    partido = registro['Sigla  Partido']\n",
        "    fonte = registro['Tipo receita']\n",
        "    valor = float(registro['Valor receita'].replace(',','.'))\n",
        "    doador = registro['CPF/CNPJ do doador originário'].strip()\n",
        "    if doador == '#NULO':\n",
        "        doador = registro['CPF/CNPJ do doador'].strip()\n",
        "    if doador == '48540421000131' and partido == 'PT':\n",
        "        print('%s: %s -> %s(%s): %s' % (registro['Data da receita'], registro['Nome do doador'], \n",
        "                                   registro['Tipo Comite'], registro['UF'], valor))\n",
        "        if fonte == 'Recursos de outros candidatos/comitês':\n",
        "            origem = 'CAN'\n",
        "        else:\n",
        "            origem = registro['Sigla UE doador']\n",
        "        if registro['Tipo Comite'].find('Comitê') != -1:\n",
        "            destino = 'COM-'+registro['UF']\n",
        "        else:\n",
        "            destino = registro['UF']\n",
        "        add_node(origem,destino,valor)\n",
        "        print(origem,destino)\n",
        "\n",
        "print('Total de registros lidos: %d' % count)"
      ],
      "execution_count": null,
      "outputs": [
        {
          "output_type": "stream",
          "text": [
            "15/09/201400:00:00: Direção Estadual/Distrital -> Comitê Financeiro Distrital/Estadual para Governador(AC): 44000.0\n",
            "AC COM-AC\n",
            "11/09/201400:00:00: ELEIÇÃO 2014 FERNANDO DAMATA PIMETEL GOVERNADOR -> Comitê Financeiro Único(MG): 500000.0\n",
            "CAN COM-MG\n",
            "Total de registros lidos: 9173\n"
          ],
          "name": "stdout"
        }
      ]
    },
    {
      "cell_type": "code",
      "metadata": {
        "colab": {
          "base_uri": "https://localhost:8080/"
        },
        "id": "9ahmGvqXq4KA",
        "outputId": "08eb1477-e092-40ed-cdef-cf431fbb699d"
      },
      "source": [
        "count = 0\n",
        "response = requests.get('http://www.farmi.pro.br/media/uploads/financiamento/receitas_candidatos_2014_brasil.txt')\n",
        "for registro in csv.DictReader(io.StringIO(response.text), delimiter=';'):\n",
        "    count += 1\n",
        "    partido = registro['Sigla  Partido']\n",
        "    fonte = registro['Tipo receita']\n",
        "    valor = float(registro['Valor receita'].replace(',','.'))\n",
        "    doador = registro['CPF/CNPJ do doador originário'].strip()\n",
        "    if doador == '#NULO':\n",
        "        doador = registro['CPF/CNPJ do doador'].strip()    \n",
        "    # if registro['CPF/CNPJ do doador'] != registro['CPF/CNPJ do doador originário'] and \\\n",
        "    if doador == '48540421000131' and registro['Sigla  Partido'] == 'PT':\n",
        "        print('%s (%s) -> %s: %s (%s)' % (registro['Nome do doador'], registro['Sigla UE doador'], \n",
        "                                          registro['Nome candidato'], valor, fonte))\n",
        "        if fonte == 'Recursos de partido político':\n",
        "            origem = registro['Sigla UE doador']\n",
        "\n",
        "        elif fonte == 'Recursos de outros candidatos/comitês':\n",
        "            if registro['Nome do doador'].find('Comitê') != -1:\n",
        "                origem = 'COM-'+registro['Sigla UE doador']\n",
        "            else:\n",
        "                origem = 'CAN'\n",
        "        else:\n",
        "            origem = 'PJ'\n",
        "        destino = 'CAN'\n",
        "        if origem != destino:\n",
        "            add_node(origem, destino, valor)\n",
        "            print('%s > %s' % (origem, destino))\n",
        "\n",
        "print('Total de registros lidos: %d' % count)"
      ],
      "execution_count": null,
      "outputs": [
        {
          "output_type": "stream",
          "text": [
            "ELEIÇÃO 2014 ADRIANO DIOGO DEPUTADO FEDERAL (SP) -> JOSÉ PRADO DE ANDRADE: 13600.0 (Recursos de outros candidatos/comitês)\n",
            "ELEIÇÃO 2014 JOSÉ VIEIRA FILHO (MG) -> GABRIEL GUIMARÃES DE ANDRADE: 243.0 (Recursos de outros candidatos/comitês)\n",
            "Direção Nacional (BR) -> GABRIEL GUIMARÃES DE ANDRADE: 75000.0 (Recursos de partido político)\n",
            "BR > CAN\n",
            "Direção Nacional (BR) -> LUIZ CLAUDIO MARCOLINO: 190000.0 (Recursos de partido político)\n",
            "BR > CAN\n",
            "Direção Nacional (BR) -> EDSON SANTOS DE SOUZA: 95000.0 (Recursos de partido político)\n",
            "BR > CAN\n",
            "Direção Nacional (BR) -> ARLINDO CHIGNALIA JUNIOR: 237500.0 (Recursos de partido político)\n",
            "BR > CAN\n",
            "Direção Nacional (BR) -> CANDIDO ELPIDIO DE SOUZA VACCAREZZA: 237500.0 (Recursos de partido político)\n",
            "BR > CAN\n",
            "Direção Nacional (BR) -> PAULO ROBERTO GALVAO DA ROCHA: 37500.0 (Recursos de partido político)\n",
            "BR > CAN\n",
            "Direção Nacional (BR) -> ADRIANO DIOGO: 95000.0 (Recursos de partido político)\n",
            "BR > CAN\n",
            "ELEIÇÃO 2014 ARLINDO CHINAGLIA JUNIOR DEPUTADO FEDERAL (SP) -> JOÃO PAULO RILLO: 50000.0 (Recursos de outros candidatos/comitês)\n",
            "ELEIÇÕES 2014 ARLINDO CHINAGLIA JUNIOR DEPUTADO FEDERAL (SP) -> STELA REGINA DALECIO: 20000.0 (Recursos de outros candidatos/comitês)\n",
            "ARLINDO CHINAGLIA JUNIOR (SP) -> IARA BERNARDI: 15000.0 (Recursos de outros candidatos/comitês)\n",
            "ELEIÇÃO 2014 - ARLINDO CHIGNALI JUNIOR - DEP. FEDERAL (SP) -> JOSE ANTONIO DA SILVA: 18000.0 (Recursos de outros candidatos/comitês)\n",
            "ELEIÇÕES 2014 ARLINDO CHIGNALIA JUNIOR DEPUTADO FEDERAL (SP) -> SANDRA DE ALMEIDA LAURA: 50000.0 (Recursos de outros candidatos/comitês)\n",
            "Direção Estadual/Distrital (BA) -> RUI COSTA DOS SANTOS: 9600.0 (Recursos de partido político)\n",
            "BA > CAN\n",
            "Direção Estadual/Distrital (BA) -> RUI COSTA DOS SANTOS: 30000.0 (Recursos de partido político)\n",
            "BA > CAN\n",
            "Direção Estadual/Distrital (BA) -> RUI COSTA DOS SANTOS: 4250.0 (Recursos de partido político)\n",
            "BA > CAN\n",
            "Direção Estadual/Distrital (BA) -> RUI COSTA DOS SANTOS: 750000.0 (Recursos de partido político)\n",
            "BA > CAN\n",
            "Direção Estadual/Distrital (BA) -> RUI COSTA DOS SANTOS: 190000.0 (Recursos de partido político)\n",
            "BA > CAN\n",
            "Direção Estadual/Distrital (BA) -> RUI COSTA DOS SANTOS: 72000.0 (Recursos de partido político)\n",
            "BA > CAN\n",
            "Direção Estadual/Distrital (BA) -> RUI COSTA DOS SANTOS: 6666.68 (Recursos de partido político)\n",
            "BA > CAN\n",
            "Direção Estadual/Distrital (BA) -> RUI COSTA DOS SANTOS: 90000.0 (Recursos de partido político)\n",
            "BA > CAN\n",
            "Direção Estadual/Distrital (BA) -> RUI COSTA DOS SANTOS: 200160.0 (Recursos de partido político)\n",
            "BA > CAN\n",
            "Direção Estadual/Distrital (BA) -> RUI COSTA DOS SANTOS: 363.9 (Recursos de partido político)\n",
            "BA > CAN\n",
            "Direção Estadual/Distrital (BA) -> RUI COSTA DOS SANTOS: 150000.0 (Recursos de partido político)\n",
            "BA > CAN\n",
            "Direção Nacional (BR) -> AGNELO SANTOS QUEIROZ FILHO: 2000000.0 (Recursos de partido político)\n",
            "BR > CAN\n",
            "Direção Estadual/Distrital (DF) -> AGNELO SANTOS QUEIROZ FILHO: 420000.0 (Recursos de partido político)\n",
            "DF > CAN\n",
            "Direção Estadual/Distrital (SC) -> DÉCIO NERY DE LIMA: 200000.0 (Recursos de partido político)\n",
            "SC > CAN\n",
            "Direção Estadual/Distrital (SC) -> DÉCIO NERY DE LIMA: 200000.0 (Recursos de partido político)\n",
            "SC > CAN\n",
            "Direção Estadual/Distrital (SC) -> ANA PAULA DE SOUZA LIMA: 100000.0 (Recursos de partido político)\n",
            "SC > CAN\n",
            "Direção Estadual/Distrital (DF) -> AGNELO SANTOS QUEIROZ FILHO: 990000.0 (Recursos de partido político)\n",
            "DF > CAN\n",
            "Comitê Financeiro Único (MG) -> FERNANDO DAMATA PIMENTEL: 500000.0 (Recursos de outros candidatos/comitês)\n",
            "COM-MG > CAN\n",
            "Comitê Financeiro Único (MG) -> JOSE TARCISIO CAIXETA: 12156.53 (Recursos de outros candidatos/comitês)\n",
            "COM-MG > CAN\n",
            "SERVENG CIVILSAN S/A. - EMPRESAS ASSOCIADAS DE ENGENHARIA (#NULO) -> FERNANDO DAMATA PIMENTEL: 500000.0 (Recursos de pessoas jurídicas)\n",
            "PJ > CAN\n",
            "SERVENG CIVILSAN S/A E.A. ENGENHARIA (#NULO) -> MARIA DE FÁTIMA BEZERRA: 58000.0 (Recursos de pessoas jurídicas)\n",
            "PJ > CAN\n",
            "SERVENG CIVILSAN SA EMPRESAS ASSOCIADAS DE ENGENHARIA (#NULO) -> LUIZ FERNANDO TEIXEIRA FERREIRA: 75000.0 (Recursos de pessoas jurídicas)\n",
            "PJ > CAN\n",
            "Total de registros lidos: 427489\n"
          ],
          "name": "stdout"
        }
      ]
    },
    {
      "cell_type": "code",
      "metadata": {
        "colab": {
          "base_uri": "https://localhost:8080/"
        },
        "id": "vQNi4DEFs_-B",
        "outputId": "7421a358-fc6b-468f-f1ef-444fdaf9de6d"
      },
      "source": [
        "for item in grafo.values():\n",
        "    print(item)"
      ],
      "execution_count": null,
      "outputs": [
        {
          "output_type": "stream",
          "text": [
            "{'origem': 'BR', 'destino': 'AC', 'total': 95000.0}\n",
            "{'origem': 'PJ', 'destino': 'BA', 'total': 1500000.0}\n",
            "{'origem': 'PJ', 'destino': 'SC', 'total': 500000.0}\n",
            "{'origem': 'PJ', 'destino': 'BR', 'total': 1300000.0}\n",
            "{'origem': 'AC', 'destino': 'COM-AC', 'total': 44000.0}\n",
            "{'origem': 'CAN', 'destino': 'COM-MG', 'total': 500000.0}\n",
            "{'origem': 'BR', 'destino': 'CAN', 'total': 2967500.0}\n",
            "{'origem': 'BA', 'destino': 'CAN', 'total': 1503040.5799999998}\n",
            "{'origem': 'DF', 'destino': 'CAN', 'total': 1410000.0}\n",
            "{'origem': 'SC', 'destino': 'CAN', 'total': 500000.0}\n",
            "{'origem': 'COM-MG', 'destino': 'CAN', 'total': 512156.53}\n",
            "{'origem': 'PJ', 'destino': 'CAN', 'total': 633000.0}\n"
          ],
          "name": "stdout"
        }
      ]
    },
    {
      "cell_type": "code",
      "metadata": {
        "colab": {
          "base_uri": "https://localhost:8080/"
        },
        "id": "SH_pKNxHtQQk",
        "outputId": "c54b4a2c-8e53-4ba0-a6a5-fb4393a5d623"
      },
      "source": [
        "!pip install plotly"
      ],
      "execution_count": null,
      "outputs": [
        {
          "output_type": "stream",
          "text": [
            "Requirement already satisfied: plotly in /usr/local/lib/python3.7/dist-packages (4.4.1)\n",
            "Requirement already satisfied: six in /usr/local/lib/python3.7/dist-packages (from plotly) (1.15.0)\n",
            "Requirement already satisfied: retrying>=1.3.3 in /usr/local/lib/python3.7/dist-packages (from plotly) (1.3.3)\n"
          ],
          "name": "stdout"
        }
      ]
    },
    {
      "cell_type": "code",
      "metadata": {
        "colab": {
          "base_uri": "https://localhost:8080/"
        },
        "id": "frDh7DTytZMQ",
        "outputId": "147995ee-80cd-4a37-b83f-98f1ae1c0862"
      },
      "source": [
        "# Primeiro, vamos montar a lista de atores (nós do gráfico)\n",
        "# Fixando o primeiro como a empresa (PJ)\n",
        "count_atores = 0\n",
        "atores = {'PJ': count_atores}\n",
        "labels = ['PJ']\n",
        "origem = []\n",
        "destino = []\n",
        "values = []\n",
        "for chave in grafo:\n",
        "    r = grafo[chave]\n",
        "    index_origem = atores.get(r['origem'], None)\n",
        "    if index_origem is None:\n",
        "        count_atores += 1\n",
        "        index_origem = count_atores\n",
        "        atores[r['origem']] = index_origem\n",
        "        labels.append(r['origem'])\n",
        "\n",
        "    index_destino = atores.get(r['destino'], None)\n",
        "    if index_destino is None:\n",
        "        count_atores += 1\n",
        "        index_destino = count_atores\n",
        "        atores[r['destino']] = index_destino\n",
        "        labels.append(r['destino'])\n",
        "    \n",
        "    origem.append( index_origem )\n",
        "    destino.append( index_destino )\n",
        "    values.append( int(r['total']) )\n",
        "    \n",
        "print('Total de Nós:%d' % (count_atores+1))"
      ],
      "execution_count": null,
      "outputs": [
        {
          "output_type": "stream",
          "text": [
            "Total de Nós:9\n"
          ],
          "name": "stdout"
        }
      ]
    },
    {
      "cell_type": "code",
      "metadata": {
        "colab": {
          "base_uri": "https://localhost:8080/",
          "height": 542
        },
        "id": "4ZQaqSSttmpW",
        "outputId": "eeabe209-461f-4453-b1af-689e8b18938d"
      },
      "source": [
        "# Por fim, tentamos mostrar graficamente a movimentação das doações feitas pela empresa entre os atores\n",
        "\n",
        "import plotly.graph_objects as go\n",
        "\n",
        "fig = go.Figure(data=[go.Sankey(\n",
        "    node = dict(\n",
        "      pad = 20,\n",
        "      thickness = 20,\n",
        "      line = dict(color = \"black\", width = 0.5),\n",
        "      label = labels,\n",
        "      color = \"blue\"\n",
        "    ),\n",
        "    link = dict(\n",
        "      source = origem,\n",
        "      target = destino,\n",
        "      value = values\n",
        "  ))])\n",
        "\n",
        "fig.update_layout(title_text=\"Doações do CNPJ 48.540.421/0001-31 em 2014 para o PT\", font_size=12)\n",
        "fig.show()"
      ],
      "execution_count": null,
      "outputs": [
        {
          "output_type": "display_data",
          "data": {
            "text/html": [
              "<html>\n",
              "<head><meta charset=\"utf-8\" /></head>\n",
              "<body>\n",
              "    <div>\n",
              "            <script src=\"https://cdnjs.cloudflare.com/ajax/libs/mathjax/2.7.5/MathJax.js?config=TeX-AMS-MML_SVG\"></script><script type=\"text/javascript\">if (window.MathJax) {MathJax.Hub.Config({SVG: {font: \"STIX-Web\"}});}</script>\n",
              "                <script type=\"text/javascript\">window.PlotlyConfig = {MathJaxConfig: 'local'};</script>\n",
              "        <script src=\"https://cdn.plot.ly/plotly-latest.min.js\"></script>    \n",
              "            <div id=\"3583d3f8-65e4-4bbb-8546-94acdf0ffccc\" class=\"plotly-graph-div\" style=\"height:525px; width:100%;\"></div>\n",
              "            <script type=\"text/javascript\">\n",
              "                \n",
              "                    window.PLOTLYENV=window.PLOTLYENV || {};\n",
              "                    \n",
              "                if (document.getElementById(\"3583d3f8-65e4-4bbb-8546-94acdf0ffccc\")) {\n",
              "                    Plotly.newPlot(\n",
              "                        '3583d3f8-65e4-4bbb-8546-94acdf0ffccc',\n",
              "                        [{\"link\": {\"source\": [1, 0, 0, 0, 2, 6, 1, 3, 8, 4, 7, 0], \"target\": [2, 3, 4, 1, 5, 7, 6, 6, 6, 6, 6, 6], \"value\": [95000, 1500000, 500000, 1300000, 44000, 500000, 2967500, 1503040, 1410000, 500000, 512156, 633000]}, \"node\": {\"color\": \"blue\", \"label\": [\"PJ\", \"BR\", \"AC\", \"BA\", \"SC\", \"COM-AC\", \"CAN\", \"COM-MG\", \"DF\"], \"line\": {\"color\": \"black\", \"width\": 0.5}, \"pad\": 20, \"thickness\": 20}, \"type\": \"sankey\"}],\n",
              "                        {\"font\": {\"size\": 12}, \"template\": {\"data\": {\"bar\": [{\"error_x\": {\"color\": \"#2a3f5f\"}, \"error_y\": {\"color\": \"#2a3f5f\"}, \"marker\": {\"line\": {\"color\": \"#E5ECF6\", \"width\": 0.5}}, \"type\": \"bar\"}], \"barpolar\": [{\"marker\": {\"line\": {\"color\": \"#E5ECF6\", \"width\": 0.5}}, \"type\": \"barpolar\"}], \"carpet\": [{\"aaxis\": {\"endlinecolor\": \"#2a3f5f\", \"gridcolor\": \"white\", \"linecolor\": \"white\", \"minorgridcolor\": \"white\", \"startlinecolor\": \"#2a3f5f\"}, \"baxis\": {\"endlinecolor\": \"#2a3f5f\", \"gridcolor\": \"white\", \"linecolor\": \"white\", \"minorgridcolor\": \"white\", \"startlinecolor\": \"#2a3f5f\"}, \"type\": \"carpet\"}], \"choropleth\": [{\"colorbar\": {\"outlinewidth\": 0, \"ticks\": \"\"}, \"type\": \"choropleth\"}], \"contour\": [{\"colorbar\": {\"outlinewidth\": 0, \"ticks\": \"\"}, \"colorscale\": [[0.0, \"#0d0887\"], [0.1111111111111111, \"#46039f\"], [0.2222222222222222, \"#7201a8\"], [0.3333333333333333, \"#9c179e\"], [0.4444444444444444, \"#bd3786\"], [0.5555555555555556, \"#d8576b\"], [0.6666666666666666, \"#ed7953\"], [0.7777777777777778, \"#fb9f3a\"], [0.8888888888888888, \"#fdca26\"], [1.0, \"#f0f921\"]], \"type\": \"contour\"}], \"contourcarpet\": [{\"colorbar\": {\"outlinewidth\": 0, \"ticks\": \"\"}, \"type\": \"contourcarpet\"}], \"heatmap\": [{\"colorbar\": {\"outlinewidth\": 0, \"ticks\": \"\"}, \"colorscale\": [[0.0, \"#0d0887\"], [0.1111111111111111, \"#46039f\"], [0.2222222222222222, \"#7201a8\"], [0.3333333333333333, \"#9c179e\"], [0.4444444444444444, \"#bd3786\"], [0.5555555555555556, \"#d8576b\"], [0.6666666666666666, \"#ed7953\"], [0.7777777777777778, \"#fb9f3a\"], [0.8888888888888888, \"#fdca26\"], [1.0, \"#f0f921\"]], \"type\": \"heatmap\"}], \"heatmapgl\": [{\"colorbar\": {\"outlinewidth\": 0, \"ticks\": \"\"}, \"colorscale\": [[0.0, \"#0d0887\"], [0.1111111111111111, \"#46039f\"], [0.2222222222222222, \"#7201a8\"], [0.3333333333333333, \"#9c179e\"], [0.4444444444444444, \"#bd3786\"], [0.5555555555555556, \"#d8576b\"], [0.6666666666666666, \"#ed7953\"], [0.7777777777777778, \"#fb9f3a\"], [0.8888888888888888, \"#fdca26\"], [1.0, \"#f0f921\"]], \"type\": \"heatmapgl\"}], \"histogram\": [{\"marker\": {\"colorbar\": {\"outlinewidth\": 0, \"ticks\": \"\"}}, \"type\": \"histogram\"}], \"histogram2d\": [{\"colorbar\": {\"outlinewidth\": 0, \"ticks\": \"\"}, \"colorscale\": [[0.0, \"#0d0887\"], [0.1111111111111111, \"#46039f\"], [0.2222222222222222, \"#7201a8\"], [0.3333333333333333, \"#9c179e\"], [0.4444444444444444, \"#bd3786\"], [0.5555555555555556, \"#d8576b\"], [0.6666666666666666, \"#ed7953\"], [0.7777777777777778, \"#fb9f3a\"], [0.8888888888888888, \"#fdca26\"], [1.0, \"#f0f921\"]], \"type\": \"histogram2d\"}], \"histogram2dcontour\": [{\"colorbar\": {\"outlinewidth\": 0, \"ticks\": \"\"}, \"colorscale\": [[0.0, \"#0d0887\"], [0.1111111111111111, \"#46039f\"], [0.2222222222222222, \"#7201a8\"], [0.3333333333333333, \"#9c179e\"], [0.4444444444444444, \"#bd3786\"], [0.5555555555555556, \"#d8576b\"], [0.6666666666666666, \"#ed7953\"], [0.7777777777777778, \"#fb9f3a\"], [0.8888888888888888, \"#fdca26\"], [1.0, \"#f0f921\"]], \"type\": \"histogram2dcontour\"}], \"mesh3d\": [{\"colorbar\": {\"outlinewidth\": 0, \"ticks\": \"\"}, \"type\": \"mesh3d\"}], \"parcoords\": [{\"line\": {\"colorbar\": {\"outlinewidth\": 0, \"ticks\": \"\"}}, \"type\": \"parcoords\"}], \"pie\": [{\"automargin\": true, \"type\": \"pie\"}], \"scatter\": [{\"marker\": {\"colorbar\": {\"outlinewidth\": 0, \"ticks\": \"\"}}, \"type\": \"scatter\"}], \"scatter3d\": [{\"line\": {\"colorbar\": {\"outlinewidth\": 0, \"ticks\": \"\"}}, \"marker\": {\"colorbar\": {\"outlinewidth\": 0, \"ticks\": \"\"}}, \"type\": \"scatter3d\"}], \"scattercarpet\": [{\"marker\": {\"colorbar\": {\"outlinewidth\": 0, \"ticks\": \"\"}}, \"type\": \"scattercarpet\"}], \"scattergeo\": [{\"marker\": {\"colorbar\": {\"outlinewidth\": 0, \"ticks\": \"\"}}, \"type\": \"scattergeo\"}], \"scattergl\": [{\"marker\": {\"colorbar\": {\"outlinewidth\": 0, \"ticks\": \"\"}}, \"type\": \"scattergl\"}], \"scattermapbox\": [{\"marker\": {\"colorbar\": {\"outlinewidth\": 0, \"ticks\": \"\"}}, \"type\": \"scattermapbox\"}], \"scatterpolar\": [{\"marker\": {\"colorbar\": {\"outlinewidth\": 0, \"ticks\": \"\"}}, \"type\": \"scatterpolar\"}], \"scatterpolargl\": [{\"marker\": {\"colorbar\": {\"outlinewidth\": 0, \"ticks\": \"\"}}, \"type\": \"scatterpolargl\"}], \"scatterternary\": [{\"marker\": {\"colorbar\": {\"outlinewidth\": 0, \"ticks\": \"\"}}, \"type\": \"scatterternary\"}], \"surface\": [{\"colorbar\": {\"outlinewidth\": 0, \"ticks\": \"\"}, \"colorscale\": [[0.0, \"#0d0887\"], [0.1111111111111111, \"#46039f\"], [0.2222222222222222, \"#7201a8\"], [0.3333333333333333, \"#9c179e\"], [0.4444444444444444, \"#bd3786\"], [0.5555555555555556, \"#d8576b\"], [0.6666666666666666, \"#ed7953\"], [0.7777777777777778, \"#fb9f3a\"], [0.8888888888888888, \"#fdca26\"], [1.0, \"#f0f921\"]], \"type\": \"surface\"}], \"table\": [{\"cells\": {\"fill\": {\"color\": \"#EBF0F8\"}, \"line\": {\"color\": \"white\"}}, \"header\": {\"fill\": {\"color\": \"#C8D4E3\"}, \"line\": {\"color\": \"white\"}}, \"type\": \"table\"}]}, \"layout\": {\"annotationdefaults\": {\"arrowcolor\": \"#2a3f5f\", \"arrowhead\": 0, \"arrowwidth\": 1}, \"coloraxis\": {\"colorbar\": {\"outlinewidth\": 0, \"ticks\": \"\"}}, \"colorscale\": {\"diverging\": [[0, \"#8e0152\"], [0.1, \"#c51b7d\"], [0.2, \"#de77ae\"], [0.3, \"#f1b6da\"], [0.4, \"#fde0ef\"], [0.5, \"#f7f7f7\"], [0.6, \"#e6f5d0\"], [0.7, \"#b8e186\"], [0.8, \"#7fbc41\"], [0.9, \"#4d9221\"], [1, \"#276419\"]], \"sequential\": [[0.0, \"#0d0887\"], [0.1111111111111111, \"#46039f\"], [0.2222222222222222, \"#7201a8\"], [0.3333333333333333, \"#9c179e\"], [0.4444444444444444, \"#bd3786\"], [0.5555555555555556, \"#d8576b\"], [0.6666666666666666, \"#ed7953\"], [0.7777777777777778, \"#fb9f3a\"], [0.8888888888888888, \"#fdca26\"], [1.0, \"#f0f921\"]], \"sequentialminus\": [[0.0, \"#0d0887\"], [0.1111111111111111, \"#46039f\"], [0.2222222222222222, \"#7201a8\"], [0.3333333333333333, \"#9c179e\"], [0.4444444444444444, \"#bd3786\"], [0.5555555555555556, \"#d8576b\"], [0.6666666666666666, \"#ed7953\"], [0.7777777777777778, \"#fb9f3a\"], [0.8888888888888888, \"#fdca26\"], [1.0, \"#f0f921\"]]}, \"colorway\": [\"#636efa\", \"#EF553B\", \"#00cc96\", \"#ab63fa\", \"#FFA15A\", \"#19d3f3\", \"#FF6692\", \"#B6E880\", \"#FF97FF\", \"#FECB52\"], \"font\": {\"color\": \"#2a3f5f\"}, \"geo\": {\"bgcolor\": \"white\", \"lakecolor\": \"white\", \"landcolor\": \"#E5ECF6\", \"showlakes\": true, \"showland\": true, \"subunitcolor\": \"white\"}, \"hoverlabel\": {\"align\": \"left\"}, \"hovermode\": \"closest\", \"mapbox\": {\"style\": \"light\"}, \"paper_bgcolor\": \"white\", \"plot_bgcolor\": \"#E5ECF6\", \"polar\": {\"angularaxis\": {\"gridcolor\": \"white\", \"linecolor\": \"white\", \"ticks\": \"\"}, \"bgcolor\": \"#E5ECF6\", \"radialaxis\": {\"gridcolor\": \"white\", \"linecolor\": \"white\", \"ticks\": \"\"}}, \"scene\": {\"xaxis\": {\"backgroundcolor\": \"#E5ECF6\", \"gridcolor\": \"white\", \"gridwidth\": 2, \"linecolor\": \"white\", \"showbackground\": true, \"ticks\": \"\", \"zerolinecolor\": \"white\"}, \"yaxis\": {\"backgroundcolor\": \"#E5ECF6\", \"gridcolor\": \"white\", \"gridwidth\": 2, \"linecolor\": \"white\", \"showbackground\": true, \"ticks\": \"\", \"zerolinecolor\": \"white\"}, \"zaxis\": {\"backgroundcolor\": \"#E5ECF6\", \"gridcolor\": \"white\", \"gridwidth\": 2, \"linecolor\": \"white\", \"showbackground\": true, \"ticks\": \"\", \"zerolinecolor\": \"white\"}}, \"shapedefaults\": {\"line\": {\"color\": \"#2a3f5f\"}}, \"ternary\": {\"aaxis\": {\"gridcolor\": \"white\", \"linecolor\": \"white\", \"ticks\": \"\"}, \"baxis\": {\"gridcolor\": \"white\", \"linecolor\": \"white\", \"ticks\": \"\"}, \"bgcolor\": \"#E5ECF6\", \"caxis\": {\"gridcolor\": \"white\", \"linecolor\": \"white\", \"ticks\": \"\"}}, \"title\": {\"x\": 0.05}, \"xaxis\": {\"automargin\": true, \"gridcolor\": \"white\", \"linecolor\": \"white\", \"ticks\": \"\", \"title\": {\"standoff\": 15}, \"zerolinecolor\": \"white\", \"zerolinewidth\": 2}, \"yaxis\": {\"automargin\": true, \"gridcolor\": \"white\", \"linecolor\": \"white\", \"ticks\": \"\", \"title\": {\"standoff\": 15}, \"zerolinecolor\": \"white\", \"zerolinewidth\": 2}}}, \"title\": {\"text\": \"Doa\\u00e7\\u00f5es do CNPJ 48.540.421/0001-31 em 2014 para o PT\"}},\n",
              "                        {\"responsive\": true}\n",
              "                    ).then(function(){\n",
              "                            \n",
              "var gd = document.getElementById('3583d3f8-65e4-4bbb-8546-94acdf0ffccc');\n",
              "var x = new MutationObserver(function (mutations, observer) {{\n",
              "        var display = window.getComputedStyle(gd).display;\n",
              "        if (!display || display === 'none') {{\n",
              "            console.log([gd, 'removed!']);\n",
              "            Plotly.purge(gd);\n",
              "            observer.disconnect();\n",
              "        }}\n",
              "}});\n",
              "\n",
              "// Listen for the removal of the full notebook cells\n",
              "var notebookContainer = gd.closest('#notebook-container');\n",
              "if (notebookContainer) {{\n",
              "    x.observe(notebookContainer, {childList: true});\n",
              "}}\n",
              "\n",
              "// Listen for the clearing of the current output cell\n",
              "var outputEl = gd.closest('.output');\n",
              "if (outputEl) {{\n",
              "    x.observe(outputEl, {childList: true});\n",
              "}}\n",
              "\n",
              "                        })\n",
              "                };\n",
              "                \n",
              "            </script>\n",
              "        </div>\n",
              "</body>\n",
              "</html>"
            ]
          },
          "metadata": {
            "tags": []
          }
        }
      ]
    },
    {
      "cell_type": "markdown",
      "metadata": {
        "id": "kPbKE-w3Ncbf"
      },
      "source": [
        "Problemas encontrados:\n",
        "\n",
        "1) O Diretório do DF indicou que doações feitas a candidatos tiveram origem de doações da empresa. Entretanto não houve nenhuma doação da empresa ou do Diretório Nacional para o Diretório do DF!\n",
        "\n",
        "2) A empresa doou 1,3 milhões ao Diretório Nacional (BR) mas o mesmo diretório indicou que houveram doações aos candidatos originários da empresa por um valor maior (2,97M)!\n",
        "\n",
        "Ou seja, tem algo que não está batendo nessa análise. Vamos rever as doações do DF para tentar encontrar o problema."
      ]
    },
    {
      "cell_type": "code",
      "metadata": {
        "colab": {
          "base_uri": "https://localhost:8080/"
        },
        "id": "mgJGsJw-MQgu",
        "outputId": "f4c798a0-bda8-45ae-8560-e78fe78d1b61"
      },
      "source": [
        "import csv\n",
        "import io\n",
        "import requests\n",
        "\n",
        "count = 0\n",
        "response = requests.get('http://www.farmi.pro.br/media/uploads/financiamento/receitas_candidatos_2014_brasil.txt')\n",
        "for registro in csv.DictReader(io.StringIO(response.text), delimiter=';'):\n",
        "    partido = registro['Sigla  Partido']\n",
        "    fonte = registro['Tipo receita']\n",
        "    valor = float(registro['Valor receita'].replace(',','.'))\n",
        "    if registro['Numero Recibo Eleitoral'] == '000130300000DF002045': # Caso Agnelo\n",
        "        break\n",
        "\n",
        "registro"
      ],
      "execution_count": null,
      "outputs": [
        {
          "output_type": "execute_result",
          "data": {
            "text/plain": [
              "OrderedDict([('Cód. Eleição', '143'),\n",
              "             ('Desc. Eleição', 'Eleições Gerais 2014'),\n",
              "             ('Data e hora', '09/07/201617:15:01'),\n",
              "             ('CNPJ Prestador Conta', '20574235000102'),\n",
              "             ('Sequencial Candidato', '70000000818'),\n",
              "             ('UF', 'DF'),\n",
              "             ('Sigla  Partido', 'PT'),\n",
              "             ('Numero candidato', '13'),\n",
              "             ('Cargo', 'Governador'),\n",
              "             ('Nome candidato', 'AGNELO SANTOS QUEIROZ FILHO'),\n",
              "             ('CPF do candidato', '19667655504'),\n",
              "             ('Numero Recibo Eleitoral', '000130300000DF002045'),\n",
              "             ('Numero do documento', '850503'),\n",
              "             ('CPF/CNPJ do doador', '00676213000138'),\n",
              "             ('Nome do doador', 'Direção Nacional'),\n",
              "             ('Nome do doador (Receita Federal)',\n",
              "              'PARTIDO DO MOVIMENTO DEMOCRATICO BRASILEIRO - DIRETORIO NACIONAL'),\n",
              "             ('Sigla UE doador', 'BR'),\n",
              "             ('Número partido doador', '15'),\n",
              "             ('Número candidato doador', '13'),\n",
              "             ('Cod setor econômico do doador', '9492800'),\n",
              "             ('Setor econômico do doador',\n",
              "              'Atividades de organizações políticas'),\n",
              "             ('Data da receita', '23/10/201400:00:00'),\n",
              "             ('Valor receita', '2000000'),\n",
              "             ('Tipo receita', 'Recursos de partido político'),\n",
              "             ('Fonte recurso', 'Outros Recursos nao descritos'),\n",
              "             ('Especie recurso', 'Cheque'),\n",
              "             ('Descricao da receita', '#NULO'),\n",
              "             ('CPF/CNPJ do doador originário', '48540421000131'),\n",
              "             ('Nome do doador originário',\n",
              "              'SERVENG CIVILSAN SA EMPRESAS ASSOCIADAS DE ENGENHARIAR'),\n",
              "             ('Tipo doador originário', 'J'),\n",
              "             ('Setor econômico do doador originário',\n",
              "              'Construção de rodovias e ferrovias'),\n",
              "             ('Nome do doador originário (Receita Federal)',\n",
              "              'SERVENG CIVILSAN S A EMPRESAS ASSOCIADAS DE ENGENHARIA')])"
            ]
          },
          "metadata": {
            "tags": []
          },
          "execution_count": 2
        }
      ]
    },
    {
      "cell_type": "markdown",
      "metadata": {
        "id": "eBfbBii4M1N3"
      },
      "source": [
        "Reparem no atributo 'Número partido doador'. Essa doação não veio da Diretório Estadual do PT. **Veio do PMDB!** Ou seja, muitas doações são intra-partidos, ou seja, um partido envia a doação para outro partido.\n",
        "\n",
        "Teremos que refazer o grafo considerando outros partidos como novos nós na rede.\n",
        "\n",
        "O primeiro problema para resolver a equação é realizar um tratamento de dados pois o arquivo do TSE não informa a Sigla do Partido Doador e sim o número do partido. Dessa forma, teremos que fazer uma correção entre a sigla e o número."
      ]
    },
    {
      "cell_type": "code",
      "metadata": {
        "colab": {
          "base_uri": "https://localhost:8080/"
        },
        "id": "c0aVYaiIOMrR",
        "outputId": "52f3c38f-5595-4420-e6c1-a66f05b4cb1a"
      },
      "source": [
        "# Montar a lista de numeração dos partidos\n",
        "# Essa lista é necessária pois a tabela de doações de partido não contém o número do partido recebedor (necessário para que possamos comparar com o número do partido doador)\n",
        "import io\n",
        "import csv\n",
        "import requests\n",
        "\n",
        "partidos = {}\n",
        "response = requests.get('http://www.farmi.pro.br/media/uploads/financiamento/receitas_candidatos_2014_brasil.txt')\n",
        "for registro in csv.DictReader(io.StringIO(response.text), delimiter=';'):\n",
        "    partido = registro['Sigla  Partido']\n",
        "    numero = registro['Numero candidato'][:2]\n",
        "    if partido in partidos:\n",
        "        if partidos[partido] != numero:\n",
        "            print('Inconsistência %s atual:%s novo:%s' % (partido, partidos[partido], numero) )\n",
        "    else:\n",
        "        partidos[partido] = numero\n",
        "        \n",
        "# Cria índice invertido (para encontrar a sigla a partir do seu número)\n",
        "partidos_numero = {}\n",
        "for item in partidos:\n",
        "    partidos_numero[ partidos[item] ] = item\n",
        "\n",
        "for item in partidos:\n",
        "    print(item, partidos[item])"
      ],
      "execution_count": null,
      "outputs": [
        {
          "output_type": "stream",
          "text": [
            "PSDB 45\n",
            "PSD 55\n",
            "PSB 40\n",
            "PMDB 15\n",
            "PRB 10\n",
            "PT 13\n",
            "PPL 54\n",
            "PTB 14\n",
            "PP 11\n",
            "PROS 90\n",
            "PSOL 50\n",
            "PPS 23\n",
            "PV 43\n",
            "PR 22\n",
            "PC do B 65\n",
            "PDT 12\n",
            "PMN 33\n",
            "PRP 44\n",
            "PSC 20\n",
            "DEM 25\n",
            "PT do B 70\n",
            "PRTB 28\n",
            "PEN 51\n",
            "SD 77\n",
            "PHS 31\n",
            "PSL 17\n",
            "PTN 19\n",
            "PTC 36\n",
            "PSDC 27\n",
            "PSTU 16\n",
            "PCB 21\n",
            "PCO 29\n"
          ],
          "name": "stdout"
        }
      ]
    },
    {
      "cell_type": "markdown",
      "metadata": {
        "id": "1AvpfNPBT8SC"
      },
      "source": [
        "Vamos estender a consulta, estendendo o grafo para indicar também os partidos.\n",
        "\n",
        "A codificação do autores ficará da seguinte forma:\n",
        "\n",
        "* PJ: Pessoa Jurídica, ou seja, a empresa que está fazendo a doação\n",
        "* Sigla do Partido-BR: O diretório nacional do Partido\n",
        "* Sigla do Partido-UF: A unidade da federação do Diretório Estadual ou Municipal\n",
        "* CAN: O conjunto de candidatos\n",
        "\n",
        "Neste estudo, iremos agrupar os diretórios estaduais e comissões em um mesmo nó para facilitar o entedimento e desenho do gráfico.\n",
        "\n",
        "Vamos refazer o grafo para os 3 arquivos: Partido, Comitê e Candidato:"
      ]
    },
    {
      "cell_type": "code",
      "metadata": {
        "colab": {
          "base_uri": "https://localhost:8080/"
        },
        "id": "Um2J8CFrPGhn",
        "outputId": "e1ba13d9-3e11-4b0c-e28e-a70e0b401c5e"
      },
      "source": [
        "# Próximo passo é zerar o grafo e refazê-lo considerando as movimentações entre partido.\n",
        "# Repare que a busca continua sendo apenas para as doações feitas ao PT mas agora especificamos de qual partido veio a doação.\n",
        "\n",
        "grafo = {}\n",
        "\n",
        "import csv\n",
        "\n",
        "count = 0\n",
        "partidos_diferentes = 0\n",
        "response = requests.get('http://www.farmi.pro.br/media/uploads/financiamento/receitas_partidos_2014_brasil.txt')\n",
        "for registro in csv.DictReader(io.StringIO(response.text), delimiter=';'):\n",
        "    count += 1    \n",
        "    partido = registro['Sigla  Partido']\n",
        "    fonte = registro['Tipo receita']\n",
        "    valor = float(registro['Valor receita'].replace(',','.'))\n",
        "    doador = registro['CPF/CNPJ do doador originário'].strip()\n",
        "    if doador == '#NULO':\n",
        "        doador = registro['CPF/CNPJ do doador'].strip()\n",
        "        direto = True\n",
        "    else:\n",
        "        direto = False\n",
        "        \n",
        "    numero_origem = registro['Número partido doador']\n",
        "    numero_destino = partidos[ partido ]\n",
        "    if numero_origem != '#NULO' and numero_origem != numero_destino:\n",
        "        partidos_diferentes += 1\n",
        "        partido_origem = partidos_numero[ numero_origem ]\n",
        "    else:\n",
        "        partido_origem = partido\n",
        "    \n",
        "    # if fonte in ('Recursos de pessoas físicas','Recursos de pessoas jurídicas') and \\\n",
        "    if doador == '48540421000131':\n",
        "        print('%s: %s -> %s: %s' % (registro['Data da receita'], registro['Nome do doador'], registro['UF'], valor))\n",
        "        if direto:\n",
        "            origem = 'PJ'\n",
        "            destino = partido+'-'+registro['UF']\n",
        "        else:\n",
        "            origem = partido_origem+'-'+registro['Sigla UE doador']\n",
        "            destino = partido+'-'+registro['UF']\n",
        "        add_node(origem, destino, valor)\n",
        "        \n",
        "print('Total de Registros: %d' % count)\n",
        "print('Total de Doações entre partidos: %d' % partidos_diferentes)\n",
        "print('Total de Nós registrados: %d' % len(grafo))"
      ],
      "execution_count": null,
      "outputs": [
        {
          "output_type": "stream",
          "text": [
            "26-AUG-14: Comitê Financeiro Distrital/Estadual para Governador -> BR: 145.0\n",
            "12-SEP-14: Direção Nacional -> AC: 95000.0\n",
            "02-OCT-14: Direção Nacional -> BR: 237500.0\n",
            "02-OCT-14: Direção Nacional -> AL: 400000.0\n",
            "18-SEP-14: Direção Nacional -> DF: 420000.0\n",
            "29-JUL-14: Direção Nacional -> DF: 1000000.0\n",
            "09-OCT-14: SERVENG CIVILSAN S A EMPRESAS ASSOCIADAS DE ENGENHARIA -> BA: 1500000.0\n",
            "30-SEP-14: SERVENG CIVILSAN SA EMPRESAS ASSOCIADAS DE ENGENHARIA -> SC: 100000.0\n",
            "05-SEP-14: SERVENG CIVILSAN SA EMPRESAS ASSOCIADAS DE ENGENHARIA -> SC: 200000.0\n",
            "27-AUG-14: SERVENG CIVILSAN SA EMPRESAS ASSOCIADAS DE ENGENHARIA -> SC: 200000.0\n",
            "02-OCT-14: SERVENG CIVILSAN S A EMPRESAS ASSOCIADAS DE ENGENHARIA -> BR: 750000.0\n",
            "12-SEP-14: SERVENG CIVILSAN S A EMPRESAS ASSOCIADAS DE ENGENHARIA -> BR: 550000.0\n",
            "25-JUL-14: SERVENG CIVILSAN S A EMPRESAS ASSOCIADAS DE ENGENHARIA  -> BR: 1000000.0\n",
            "12-SEP-14: SERVENG CIVILSAN S A EMPRESAS ASSOCIADAS DE ENGENHARIA  -> BR: 420000.0\n",
            "30-SEP-14: SERVENG CIVILSAN S A EMPRESAS ASSOCIADAS DE ENGENHARIA  -> BR: 400000.0\n",
            "16-OCT-14: SERVENG CIVILSAN S A EMPRESAS ASSOCIADAS DE ENGENHARIA  -> BR: 400000.0\n",
            "21-OCT-14: SERVENG CIVILSAN S A EMPRESAS ASSOCIADAS DE ENGENHARIA  -> BR: 2000000.0\n",
            "03-OCT-14: SERVENG CIVILSAN S A EMPRESAS ASSOCIADAS DE ENGENHARIA -> MG: 20000.0\n",
            "17-SEP-14: SERVENG CIVILSAN S A EMPRESAS ASSOCIADAS DE ENGENHARIA -> BR: 100000.0\n",
            "17-SEP-14: SERVENG CIVILSAN S.A. EMPRESAS ASSOCIADAS DE ENGENHARIA -> SP: 200000.0\n",
            "03-OCT-14: SERVENG CIVILSAN S/A E. A. ENGENHARIA -> DF: 100000.0\n",
            "28-AUG-14: SERVENG CIVILSAN S.A E. A. ENGENHARIA -> SC: 300000.0\n",
            "05-SEP-14: SERVENG CIVILSAN S.A E. A. ENGENHARIA -> SC: 200000.0\n",
            "16-OCT-14: SERVENG CIVILSAN S/A E A ENGENHARIA -> BR: 500000.0\n",
            "17-SEP-14: SERVENG CIVILSAN S/A EMPRESAS ASSOCIADAS DE ENGENHARIA -> SP: 1000000.0\n",
            "05-SEP-14: SERVENG CIVILSAN S/A EMPRESAS ASSOCIADAS DE ENGENHARIA -> SP: 125000.0\n",
            "13-AUG-14: SERVENG CIVILSAN S/A EMPRESAS ASSOCIADAS DE ENGENHARIA -> SP: 125000.0\n",
            "30-JUL-14: SERVENG CIVILSAN S/A EMPRESAS ASSOCIADAS DE ENGENHARIA -> SP: 1000000.0\n",
            "30-JUN-14: SERVENG CIVILSAN S/A EMPRESAS ASSOCIADAS DE ENGENHARIA -> SP: 1000000.0\n",
            "Total de Registros: 12247\n",
            "Total de Doações entre partidos: 863\n",
            "Total de Nós registrados: 16\n"
          ],
          "name": "stdout"
        }
      ]
    },
    {
      "cell_type": "code",
      "metadata": {
        "colab": {
          "base_uri": "https://localhost:8080/"
        },
        "id": "VzuQCwZLjlQP",
        "outputId": "0cd5761d-2eff-428e-b2be-6d116d85753e"
      },
      "source": [
        "for item in grafo.values():\n",
        "    print(item)"
      ],
      "execution_count": null,
      "outputs": [
        {
          "output_type": "stream",
          "text": [
            "{'origem': 'PSDB-SP', 'destino': 'PTN-BR', 'total': 145.0}\n",
            "{'origem': 'PT-BR', 'destino': 'PT-AC', 'total': 95000.0}\n",
            "{'origem': 'PT-BR', 'destino': 'PC do B-BR', 'total': 237500.0}\n",
            "{'origem': 'PMDB-BR', 'destino': 'PMDB-AL', 'total': 400000.0}\n",
            "{'origem': 'PMDB-BR', 'destino': 'PMDB-DF', 'total': 1420000.0}\n",
            "{'origem': 'PJ', 'destino': 'PT-BA', 'total': 1500000.0}\n",
            "{'origem': 'PJ', 'destino': 'PT-SC', 'total': 500000.0}\n",
            "{'origem': 'PJ', 'destino': 'PT-BR', 'total': 1300000.0}\n",
            "{'origem': 'PJ', 'destino': 'PMDB-BR', 'total': 4220000.0}\n",
            "{'origem': 'PJ', 'destino': 'PSC-MG', 'total': 20000.0}\n",
            "{'origem': 'PJ', 'destino': 'PR-BR', 'total': 100000.0}\n",
            "{'origem': 'PJ', 'destino': 'DEM-SP', 'total': 200000.0}\n",
            "{'origem': 'PJ', 'destino': 'DEM-DF', 'total': 100000.0}\n",
            "{'origem': 'PJ', 'destino': 'PSB-SC', 'total': 500000.0}\n",
            "{'origem': 'PJ', 'destino': 'PSB-BR', 'total': 500000.0}\n",
            "{'origem': 'PJ', 'destino': 'PSDB-SP', 'total': 3250000.0}\n"
          ],
          "name": "stdout"
        }
      ]
    },
    {
      "cell_type": "code",
      "metadata": {
        "id": "EGUz0EUpYUWp",
        "colab": {
          "base_uri": "https://localhost:8080/"
        },
        "outputId": "90036ed9-2f72-4af0-eb9c-c6cc499af1d0"
      },
      "source": [
        "import csv\n",
        "import io\n",
        "import requests\n",
        "\n",
        "count = 0\n",
        "response = requests.get('http://www.farmi.pro.br/media/uploads/financiamento/receitas_comites_2014_brasil.txt')\n",
        "for registro in csv.DictReader(io.StringIO(response.text), delimiter=';'):\n",
        "    partido = registro['Sigla  Partido']\n",
        "    fonte = registro['Tipo receita']\n",
        "    valor = float(registro['Valor receita'].replace(',','.'))\n",
        "    doador = registro['CPF/CNPJ do doador originário'].strip()\n",
        "    if doador == '#NULO':\n",
        "        doador = registro['CPF/CNPJ do doador'].strip()\n",
        "    else:\n",
        "        nome_doador = registro['Nome do doador originário']\n",
        "        \n",
        "    numero_origem = registro['Número partido doador']\n",
        "    numero_destino = partidos[ partido ]\n",
        "    if numero_origem != '#NULO' and numero_origem != numero_destino:\n",
        "        partidos_diferentes += 1\n",
        "        partido_origem = partidos_numero[ numero_origem ]\n",
        "    else:\n",
        "        partido_origem = partido\n",
        "\n",
        "    if fonte == 'Recursos de pessoas jurídicas':\n",
        "        origem = 'PJ'\n",
        "        nome_doador = registro['Nome do doador']\n",
        "    else:\n",
        "        nome_doador = '%s (%s-%s)' % (\n",
        "            registro['Nome do doador'].strip(), \n",
        "            partido_origem, \n",
        "            registro['Sigla UE doador'])\n",
        "        if fonte == 'Recursos de outros candidatos/comitês':\n",
        "            if nome_doador.find('Comitê') != -1:\n",
        "                # origem = partido_origem+'-COM-'+registro['Sigla UE doador']\n",
        "                origem = partido_origem+'-'+registro['Sigla UE doador']\n",
        "            else:\n",
        "                origem = partido_origem+'-CAN'\n",
        "        else:\n",
        "            origem = partido_origem+'-'+registro['Sigla UE doador']\n",
        "        \n",
        "    if doador == '48540421000131':\n",
        "        print('%s: %s -> %s(%s-%s): %s' % ( \n",
        "            registro['Data da receita'][:5], nome_doador,\n",
        "            registro['Tipo Comite'], partido, registro['UF'], valor))\n",
        "        # Não iremos diferencia o comitê do diretório estadual para que o gráfico final não fique poluído.\n",
        "        # if registro['Tipo Comite'].find('Comitê') != -1:\n",
        "        #    destino = partido+'-COM-'+registro['UF']\n",
        "        # else:\n",
        "        destino = partido+'-'+registro['UF']\n",
        "        add_node(origem,destino,valor)\n",
        "        print(origem,destino)\n",
        "        count += 1"
      ],
      "execution_count": null,
      "outputs": [
        {
          "output_type": "stream",
          "text": [
            "19/09: SERVENG CIVILSAN S A EMPRESAS ASSOCIADAS DE ENGENHARIA -> Comitê Financeiro Único(PSDB-RN): 100000.0\n",
            "PJ PSDB-RN\n",
            "30/09: SERVENG CIVILSAN S/A EMPRESAS ASSOCIADAS DE ENGENHARIA -> Comitê Financeiro Único(PRB-SP): 200000.0\n",
            "PJ PRB-SP\n",
            "19/09: SERVENG CIVILSAN S/A EMPRESAS ASSOSSIADAS DE ENGENHARIA -> Comitê Financeiro Único(PSB-SP): 200000.0\n",
            "PJ PSB-SP\n",
            "15/09: SERVENG CIVILSAN S/A EMPRESAS ASSOCIADAS DE ENGENHARIA -> Comitê Financeiro Único(PMDB-DF): 8000.0\n",
            "PJ PMDB-DF\n",
            "15/09: Direção Estadual/Distrital (PT-AC) -> Comitê Financeiro Distrital/Estadual para Governador(PT-AC): 44000.0\n",
            "PT-AC PT-AC\n",
            "23/07: Direção Estadual/Distrital (PSDB-SP) -> Comitê Financeiro Distrital/Estadual para Governador(PSDB-SP): 1000000.0\n",
            "PSDB-SP PSDB-SP\n",
            "18/08: Direção Estadual/Distrital (PSDB-SP) -> Comitê Financeiro Distrital/Estadual para Governador(PSDB-SP): 1000000.0\n",
            "PSDB-SP PSDB-SP\n",
            "08/10: Direção Estadual/Distrital (PSDB-SP) -> Comitê Financeiro Distrital/Estadual para Governador(PSDB-SP): 900000.0\n",
            "PSDB-SP PSDB-SP\n",
            "21/10: Direção Nacional (PMDB-BR) -> Comitê Financeiro Distrital/Estadual para Governador(PMDB-CE): 400000.0\n",
            "PMDB-BR PMDB-CE\n",
            "11/09: ELEIÇÃO 2014 FERNANDO DAMATA PIMETEL GOVERNADOR (PT-MG) -> Comitê Financeiro Único(PT-MG): 500000.0\n",
            "PT-CAN PT-MG\n",
            "04/09: Comitê Financeiro Distrital/Estadual para Governador (PSDB-SP) -> Comitê Financeiro Único(PRB-SP): 290.0\n",
            "PSDB-SP PRB-SP\n",
            "04/09: Comitê Financeiro Distrital/Estadual para Governador (PSDB-SP) -> Comitê Financeiro Único(PSB-SP): 1885.0\n",
            "PSDB-SP PSB-SP\n",
            "26/08: Comitê Financeiro Distrital/Estadual para Governador (PSDB-SP) -> Comitê Financeiro Único(PSB-SP): 7540.0\n",
            "PSDB-SP PSB-SP\n"
          ],
          "name": "stdout"
        }
      ]
    },
    {
      "cell_type": "code",
      "metadata": {
        "colab": {
          "base_uri": "https://localhost:8080/"
        },
        "id": "54br99aKl7yQ",
        "outputId": "4ee30557-1ba0-4388-a7cb-7e3f54eab8c0"
      },
      "source": [
        "count = 0\n",
        "response = requests.get('http://www.farmi.pro.br/media/uploads/financiamento/receitas_candidatos_2014_brasil.txt')\n",
        "for registro in csv.DictReader(io.StringIO(response.text), delimiter=';'):\n",
        "    count += 1\n",
        "    partido = registro['Sigla  Partido']\n",
        "    fonte = registro['Tipo receita']\n",
        "    valor = float(registro['Valor receita'].replace(',','.'))\n",
        "    doador = registro['CPF/CNPJ do doador originário'].strip()\n",
        "    if doador == '#NULO':\n",
        "        doador = registro['CPF/CNPJ do doador'].strip()\n",
        "\n",
        "\n",
        "    if doador == '48540421000131':\n",
        "        # print('%s (%s) -> %s: %s (%s)' % (\n",
        "        #    registro['Nome do doador'], registro['UF'], \n",
        "        #    registro['Nome candidato'], valor, fonte))\n",
        "\n",
        "        numero_origem = registro['Número partido doador']\n",
        "        numero_destino = partidos[ partido ]\n",
        "        if numero_origem != '#NULO' and numero_origem != numero_destino:\n",
        "            partidos_diferentes += 1\n",
        "            partido_origem = partidos_numero[ numero_origem ]\n",
        "        else:\n",
        "            partido_origem = partido\n",
        "\n",
        "        if fonte == 'Recursos de partido político':\n",
        "            if registro['Nome do doador'] == 'Direção Nacional':\n",
        "                origem = partido_origem+'-BR'\n",
        "            else:\n",
        "                origem = partido_origem+'-'+registro['UF']\n",
        "\n",
        "        elif fonte == 'Recursos de outros candidatos/comitês':\n",
        "            if registro['Nome do doador'].find('Comitê') != -1:\n",
        "                # origem = partido_origem+'-COM-'+registro['UF']\n",
        "                origem = partido_origem+'-'+registro['UF']\n",
        "            else:\n",
        "                origem = partido_origem+'-CAN'\n",
        "        else:\n",
        "            origem = 'PJ'\n",
        "            \n",
        "        destino = partido+'-CAN'\n",
        "        add_node(origem, destino, valor)\n",
        "        # if origem != destino:\n",
        "        #    print('%s > %s' % (origem, destino))\n",
        "\n",
        "print('Total de registros lidos: %d' % count)"
      ],
      "execution_count": null,
      "outputs": [
        {
          "output_type": "stream",
          "text": [
            "Total de registros lidos: 427489\n"
          ],
          "name": "stdout"
        }
      ]
    },
    {
      "cell_type": "code",
      "metadata": {
        "colab": {
          "base_uri": "https://localhost:8080/"
        },
        "id": "Jm1knsPWn1tR",
        "outputId": "64c7a5c1-9147-466b-fcb7-6b046f76b4e8"
      },
      "source": [
        "# Montando a lista de atores (nós do gráfico)\n",
        "# Fixando o primeiro como a empresa (PJ)\n",
        "count_atores = 0\n",
        "atores = {'PJ': count_atores}\n",
        "labels = ['PJ']\n",
        "origem = []\n",
        "destino = []\n",
        "values = []\n",
        "for chave in grafo:\n",
        "    r = grafo[chave]\n",
        "    index_origem = atores.get(r['origem'], None)\n",
        "    if index_origem is None:\n",
        "        count_atores += 1\n",
        "        index_origem = count_atores\n",
        "        atores[r['origem']] = index_origem\n",
        "        labels.append(r['origem'])\n",
        "\n",
        "    index_destino = atores.get(r['destino'], None)\n",
        "    if index_destino is None:\n",
        "        count_atores += 1\n",
        "        index_destino = count_atores\n",
        "        atores[r['destino']] = index_destino\n",
        "        labels.append(r['destino'])\n",
        "    \n",
        "    origem.append( index_origem )\n",
        "    destino.append( index_destino )\n",
        "    values.append( int(r['total']) )\n",
        "    \n",
        "print('Total de Nós:%d' % (count_atores+1))"
      ],
      "execution_count": null,
      "outputs": [
        {
          "output_type": "stream",
          "text": [
            "Total de Nós:41\n"
          ],
          "name": "stdout"
        }
      ]
    },
    {
      "cell_type": "code",
      "metadata": {
        "colab": {
          "base_uri": "https://localhost:8080/",
          "height": 542
        },
        "id": "HqTDRTnvoI2b",
        "outputId": "83051f11-8e80-4ecd-d02f-35b495ec93e0"
      },
      "source": [
        "# Por fim, mostramos graficamente a movimentação das doações feitas pela empresa entre os atores\n",
        "\n",
        "import plotly.graph_objects as go\n",
        "\n",
        "fig = go.Figure(data=[go.Sankey(\n",
        "    node = dict(\n",
        "      pad = 20,\n",
        "      thickness = 20,\n",
        "      line = dict(color = \"black\", width = 0.5),\n",
        "      label = labels,\n",
        "      color = \"blue\"\n",
        "    ),\n",
        "    link = dict(\n",
        "      source = origem,\n",
        "      target = destino,\n",
        "      value = values\n",
        "  ))])\n",
        "\n",
        "fig.update_layout(title_text=\"Doações do CNPJ 48.540.421/0001-31 em 2014\", font_size=12)\n",
        "fig.show()"
      ],
      "execution_count": null,
      "outputs": [
        {
          "output_type": "display_data",
          "data": {
            "text/html": [
              "<html>\n",
              "<head><meta charset=\"utf-8\" /></head>\n",
              "<body>\n",
              "    <div>\n",
              "            <script src=\"https://cdnjs.cloudflare.com/ajax/libs/mathjax/2.7.5/MathJax.js?config=TeX-AMS-MML_SVG\"></script><script type=\"text/javascript\">if (window.MathJax) {MathJax.Hub.Config({SVG: {font: \"STIX-Web\"}});}</script>\n",
              "                <script type=\"text/javascript\">window.PlotlyConfig = {MathJaxConfig: 'local'};</script>\n",
              "        <script src=\"https://cdn.plot.ly/plotly-latest.min.js\"></script>    \n",
              "            <div id=\"9915b78c-bda3-4dcf-afc8-dff643618b27\" class=\"plotly-graph-div\" style=\"height:525px; width:100%;\"></div>\n",
              "            <script type=\"text/javascript\">\n",
              "                \n",
              "                    window.PLOTLYENV=window.PLOTLYENV || {};\n",
              "                    \n",
              "                if (document.getElementById(\"9915b78c-bda3-4dcf-afc8-dff643618b27\")) {\n",
              "                    Plotly.newPlot(\n",
              "                        '9915b78c-bda3-4dcf-afc8-dff643618b27',\n",
              "                        [{\"link\": {\"source\": [1, 3, 3, 6, 6, 0, 0, 0, 0, 0, 0, 0, 0, 0, 0, 0, 0, 0, 0, 0, 6, 21, 1, 1, 16, 1, 1, 26, 20, 3, 14, 9, 9, 6, 13, 24, 24, 8, 10, 18, 19, 22, 15, 12, 0, 0, 0, 0, 0, 15, 7, 0, 0, 15, 11, 0, 0, 0, 0, 0], \"target\": [2, 4, 5, 7, 8, 9, 10, 3, 6, 11, 12, 13, 14, 15, 16, 1, 17, 18, 19, 8, 20, 22, 18, 19, 23, 24, 25, 27, 28, 27, 29, 27, 30, 27, 29, 31, 32, 27, 27, 33, 23, 27, 23, 34, 35, 36, 30, 37, 23, 25, 28, 26, 38, 37, 31, 39, 24, 31, 40, 27], \"value\": [145, 95000, 237500, 400000, 1420000, 1500000, 500000, 1300000, 4220000, 20000, 100000, 200000, 100000, 500000, 500000, 3250000, 100000, 200000, 200000, 8000, 400000, 500000, 290, 9425, 500000, 3205314, 15695, 243, 399176, 967500, 100000, 1503040, 6666, 2000000, 200000, 1054, 5300, 1410000, 500000, 168355, 104134, 512156, 395108, 100000, 63740, 396000, 300000, 10000, 270000, 50000, 400000, 20000, 320000, 4000, 10000, 123000, 180000, 71050, 20000, 633000]}, \"node\": {\"color\": \"blue\", \"label\": [\"PJ\", \"PSDB-SP\", \"PTN-BR\", \"PT-BR\", \"PT-AC\", \"PC do B-BR\", \"PMDB-BR\", \"PMDB-AL\", \"PMDB-DF\", \"PT-BA\", \"PT-SC\", \"PSC-MG\", \"PR-BR\", \"DEM-SP\", \"DEM-DF\", \"PSB-SC\", \"PSB-BR\", \"PSDB-RN\", \"PRB-SP\", \"PSB-SP\", \"PMDB-CE\", \"CAN-PT\", \"PT-MG\", \"PSB-CAN\", \"PSDB-CAN\", \"PPS-CAN\", \"PC do B-CAN\", \"PT-CAN\", \"PMDB-CAN\", \"DEM-CAN\", \"PSD-CAN\", \"PSC-CAN\", \"PHS-CAN\", \"PRB-CAN\", \"PR-CAN\", \"PV-CAN\", \"PT do B-CAN\", \"PTN-CAN\", \"PTB-CAN\", \"PP-CAN\", \"PRP-CAN\"], \"line\": {\"color\": \"black\", \"width\": 0.5}, \"pad\": 20, \"thickness\": 20}, \"type\": \"sankey\"}],\n",
              "                        {\"font\": {\"size\": 12}, \"template\": {\"data\": {\"bar\": [{\"error_x\": {\"color\": \"#2a3f5f\"}, \"error_y\": {\"color\": \"#2a3f5f\"}, \"marker\": {\"line\": {\"color\": \"#E5ECF6\", \"width\": 0.5}}, \"type\": \"bar\"}], \"barpolar\": [{\"marker\": {\"line\": {\"color\": \"#E5ECF6\", \"width\": 0.5}}, \"type\": \"barpolar\"}], \"carpet\": [{\"aaxis\": {\"endlinecolor\": \"#2a3f5f\", \"gridcolor\": \"white\", \"linecolor\": \"white\", \"minorgridcolor\": \"white\", \"startlinecolor\": \"#2a3f5f\"}, \"baxis\": {\"endlinecolor\": \"#2a3f5f\", \"gridcolor\": \"white\", \"linecolor\": \"white\", \"minorgridcolor\": \"white\", \"startlinecolor\": \"#2a3f5f\"}, \"type\": \"carpet\"}], \"choropleth\": [{\"colorbar\": {\"outlinewidth\": 0, \"ticks\": \"\"}, \"type\": \"choropleth\"}], \"contour\": [{\"colorbar\": {\"outlinewidth\": 0, \"ticks\": \"\"}, \"colorscale\": [[0.0, \"#0d0887\"], [0.1111111111111111, \"#46039f\"], [0.2222222222222222, \"#7201a8\"], [0.3333333333333333, \"#9c179e\"], [0.4444444444444444, \"#bd3786\"], [0.5555555555555556, \"#d8576b\"], [0.6666666666666666, \"#ed7953\"], [0.7777777777777778, \"#fb9f3a\"], [0.8888888888888888, \"#fdca26\"], [1.0, \"#f0f921\"]], \"type\": \"contour\"}], \"contourcarpet\": [{\"colorbar\": {\"outlinewidth\": 0, \"ticks\": \"\"}, \"type\": \"contourcarpet\"}], \"heatmap\": [{\"colorbar\": {\"outlinewidth\": 0, \"ticks\": \"\"}, \"colorscale\": [[0.0, \"#0d0887\"], [0.1111111111111111, \"#46039f\"], [0.2222222222222222, \"#7201a8\"], [0.3333333333333333, \"#9c179e\"], [0.4444444444444444, \"#bd3786\"], [0.5555555555555556, \"#d8576b\"], [0.6666666666666666, \"#ed7953\"], [0.7777777777777778, \"#fb9f3a\"], [0.8888888888888888, \"#fdca26\"], [1.0, \"#f0f921\"]], \"type\": \"heatmap\"}], \"heatmapgl\": [{\"colorbar\": {\"outlinewidth\": 0, \"ticks\": \"\"}, \"colorscale\": [[0.0, \"#0d0887\"], [0.1111111111111111, \"#46039f\"], [0.2222222222222222, \"#7201a8\"], [0.3333333333333333, \"#9c179e\"], [0.4444444444444444, \"#bd3786\"], [0.5555555555555556, \"#d8576b\"], [0.6666666666666666, \"#ed7953\"], [0.7777777777777778, \"#fb9f3a\"], [0.8888888888888888, \"#fdca26\"], [1.0, \"#f0f921\"]], \"type\": \"heatmapgl\"}], \"histogram\": [{\"marker\": {\"colorbar\": {\"outlinewidth\": 0, \"ticks\": \"\"}}, \"type\": \"histogram\"}], \"histogram2d\": [{\"colorbar\": {\"outlinewidth\": 0, \"ticks\": \"\"}, \"colorscale\": [[0.0, \"#0d0887\"], [0.1111111111111111, \"#46039f\"], [0.2222222222222222, \"#7201a8\"], [0.3333333333333333, \"#9c179e\"], [0.4444444444444444, \"#bd3786\"], [0.5555555555555556, \"#d8576b\"], [0.6666666666666666, \"#ed7953\"], [0.7777777777777778, \"#fb9f3a\"], [0.8888888888888888, \"#fdca26\"], [1.0, \"#f0f921\"]], \"type\": \"histogram2d\"}], \"histogram2dcontour\": [{\"colorbar\": {\"outlinewidth\": 0, \"ticks\": \"\"}, \"colorscale\": [[0.0, \"#0d0887\"], [0.1111111111111111, \"#46039f\"], [0.2222222222222222, \"#7201a8\"], [0.3333333333333333, \"#9c179e\"], [0.4444444444444444, \"#bd3786\"], [0.5555555555555556, \"#d8576b\"], [0.6666666666666666, \"#ed7953\"], [0.7777777777777778, \"#fb9f3a\"], [0.8888888888888888, \"#fdca26\"], [1.0, \"#f0f921\"]], \"type\": \"histogram2dcontour\"}], \"mesh3d\": [{\"colorbar\": {\"outlinewidth\": 0, \"ticks\": \"\"}, \"type\": \"mesh3d\"}], \"parcoords\": [{\"line\": {\"colorbar\": {\"outlinewidth\": 0, \"ticks\": \"\"}}, \"type\": \"parcoords\"}], \"pie\": [{\"automargin\": true, \"type\": \"pie\"}], \"scatter\": [{\"marker\": {\"colorbar\": {\"outlinewidth\": 0, \"ticks\": \"\"}}, \"type\": \"scatter\"}], \"scatter3d\": [{\"line\": {\"colorbar\": {\"outlinewidth\": 0, \"ticks\": \"\"}}, \"marker\": {\"colorbar\": {\"outlinewidth\": 0, \"ticks\": \"\"}}, \"type\": \"scatter3d\"}], \"scattercarpet\": [{\"marker\": {\"colorbar\": {\"outlinewidth\": 0, \"ticks\": \"\"}}, \"type\": \"scattercarpet\"}], \"scattergeo\": [{\"marker\": {\"colorbar\": {\"outlinewidth\": 0, \"ticks\": \"\"}}, \"type\": \"scattergeo\"}], \"scattergl\": [{\"marker\": {\"colorbar\": {\"outlinewidth\": 0, \"ticks\": \"\"}}, \"type\": \"scattergl\"}], \"scattermapbox\": [{\"marker\": {\"colorbar\": {\"outlinewidth\": 0, \"ticks\": \"\"}}, \"type\": \"scattermapbox\"}], \"scatterpolar\": [{\"marker\": {\"colorbar\": {\"outlinewidth\": 0, \"ticks\": \"\"}}, \"type\": \"scatterpolar\"}], \"scatterpolargl\": [{\"marker\": {\"colorbar\": {\"outlinewidth\": 0, \"ticks\": \"\"}}, \"type\": \"scatterpolargl\"}], \"scatterternary\": [{\"marker\": {\"colorbar\": {\"outlinewidth\": 0, \"ticks\": \"\"}}, \"type\": \"scatterternary\"}], \"surface\": [{\"colorbar\": {\"outlinewidth\": 0, \"ticks\": \"\"}, \"colorscale\": [[0.0, \"#0d0887\"], [0.1111111111111111, \"#46039f\"], [0.2222222222222222, \"#7201a8\"], [0.3333333333333333, \"#9c179e\"], [0.4444444444444444, \"#bd3786\"], [0.5555555555555556, \"#d8576b\"], [0.6666666666666666, \"#ed7953\"], [0.7777777777777778, \"#fb9f3a\"], [0.8888888888888888, \"#fdca26\"], [1.0, \"#f0f921\"]], \"type\": \"surface\"}], \"table\": [{\"cells\": {\"fill\": {\"color\": \"#EBF0F8\"}, \"line\": {\"color\": \"white\"}}, \"header\": {\"fill\": {\"color\": \"#C8D4E3\"}, \"line\": {\"color\": \"white\"}}, \"type\": \"table\"}]}, \"layout\": {\"annotationdefaults\": {\"arrowcolor\": \"#2a3f5f\", \"arrowhead\": 0, \"arrowwidth\": 1}, \"coloraxis\": {\"colorbar\": {\"outlinewidth\": 0, \"ticks\": \"\"}}, \"colorscale\": {\"diverging\": [[0, \"#8e0152\"], [0.1, \"#c51b7d\"], [0.2, \"#de77ae\"], [0.3, \"#f1b6da\"], [0.4, \"#fde0ef\"], [0.5, \"#f7f7f7\"], [0.6, \"#e6f5d0\"], [0.7, \"#b8e186\"], [0.8, \"#7fbc41\"], [0.9, \"#4d9221\"], [1, \"#276419\"]], \"sequential\": [[0.0, \"#0d0887\"], [0.1111111111111111, \"#46039f\"], [0.2222222222222222, \"#7201a8\"], [0.3333333333333333, \"#9c179e\"], [0.4444444444444444, \"#bd3786\"], [0.5555555555555556, \"#d8576b\"], [0.6666666666666666, \"#ed7953\"], [0.7777777777777778, \"#fb9f3a\"], [0.8888888888888888, \"#fdca26\"], [1.0, \"#f0f921\"]], \"sequentialminus\": [[0.0, \"#0d0887\"], [0.1111111111111111, \"#46039f\"], [0.2222222222222222, \"#7201a8\"], [0.3333333333333333, \"#9c179e\"], [0.4444444444444444, \"#bd3786\"], [0.5555555555555556, \"#d8576b\"], [0.6666666666666666, \"#ed7953\"], [0.7777777777777778, \"#fb9f3a\"], [0.8888888888888888, \"#fdca26\"], [1.0, \"#f0f921\"]]}, \"colorway\": [\"#636efa\", \"#EF553B\", \"#00cc96\", \"#ab63fa\", \"#FFA15A\", \"#19d3f3\", \"#FF6692\", \"#B6E880\", \"#FF97FF\", \"#FECB52\"], \"font\": {\"color\": \"#2a3f5f\"}, \"geo\": {\"bgcolor\": \"white\", \"lakecolor\": \"white\", \"landcolor\": \"#E5ECF6\", \"showlakes\": true, \"showland\": true, \"subunitcolor\": \"white\"}, \"hoverlabel\": {\"align\": \"left\"}, \"hovermode\": \"closest\", \"mapbox\": {\"style\": \"light\"}, \"paper_bgcolor\": \"white\", \"plot_bgcolor\": \"#E5ECF6\", \"polar\": {\"angularaxis\": {\"gridcolor\": \"white\", \"linecolor\": \"white\", \"ticks\": \"\"}, \"bgcolor\": \"#E5ECF6\", \"radialaxis\": {\"gridcolor\": \"white\", \"linecolor\": \"white\", \"ticks\": \"\"}}, \"scene\": {\"xaxis\": {\"backgroundcolor\": \"#E5ECF6\", \"gridcolor\": \"white\", \"gridwidth\": 2, \"linecolor\": \"white\", \"showbackground\": true, \"ticks\": \"\", \"zerolinecolor\": \"white\"}, \"yaxis\": {\"backgroundcolor\": \"#E5ECF6\", \"gridcolor\": \"white\", \"gridwidth\": 2, \"linecolor\": \"white\", \"showbackground\": true, \"ticks\": \"\", \"zerolinecolor\": \"white\"}, \"zaxis\": {\"backgroundcolor\": \"#E5ECF6\", \"gridcolor\": \"white\", \"gridwidth\": 2, \"linecolor\": \"white\", \"showbackground\": true, \"ticks\": \"\", \"zerolinecolor\": \"white\"}}, \"shapedefaults\": {\"line\": {\"color\": \"#2a3f5f\"}}, \"ternary\": {\"aaxis\": {\"gridcolor\": \"white\", \"linecolor\": \"white\", \"ticks\": \"\"}, \"baxis\": {\"gridcolor\": \"white\", \"linecolor\": \"white\", \"ticks\": \"\"}, \"bgcolor\": \"#E5ECF6\", \"caxis\": {\"gridcolor\": \"white\", \"linecolor\": \"white\", \"ticks\": \"\"}}, \"title\": {\"x\": 0.05}, \"xaxis\": {\"automargin\": true, \"gridcolor\": \"white\", \"linecolor\": \"white\", \"ticks\": \"\", \"title\": {\"standoff\": 15}, \"zerolinecolor\": \"white\", \"zerolinewidth\": 2}, \"yaxis\": {\"automargin\": true, \"gridcolor\": \"white\", \"linecolor\": \"white\", \"ticks\": \"\", \"title\": {\"standoff\": 15}, \"zerolinecolor\": \"white\", \"zerolinewidth\": 2}}}, \"title\": {\"text\": \"Doa\\u00e7\\u00f5es do CNPJ 48.540.421/0001-31 em 2014\"}},\n",
              "                        {\"responsive\": true}\n",
              "                    ).then(function(){\n",
              "                            \n",
              "var gd = document.getElementById('9915b78c-bda3-4dcf-afc8-dff643618b27');\n",
              "var x = new MutationObserver(function (mutations, observer) {{\n",
              "        var display = window.getComputedStyle(gd).display;\n",
              "        if (!display || display === 'none') {{\n",
              "            console.log([gd, 'removed!']);\n",
              "            Plotly.purge(gd);\n",
              "            observer.disconnect();\n",
              "        }}\n",
              "}});\n",
              "\n",
              "// Listen for the removal of the full notebook cells\n",
              "var notebookContainer = gd.closest('#notebook-container');\n",
              "if (notebookContainer) {{\n",
              "    x.observe(notebookContainer, {childList: true});\n",
              "}}\n",
              "\n",
              "// Listen for the clearing of the current output cell\n",
              "var outputEl = gd.closest('.output');\n",
              "if (outputEl) {{\n",
              "    x.observe(outputEl, {childList: true});\n",
              "}}\n",
              "\n",
              "                        })\n",
              "                };\n",
              "                \n",
              "            </script>\n",
              "        </div>\n",
              "</body>\n",
              "</html>"
            ]
          },
          "metadata": {
            "tags": []
          }
        }
      ]
    }
  ]
}