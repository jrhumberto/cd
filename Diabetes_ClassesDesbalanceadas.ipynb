{
  "nbformat": 4,
  "nbformat_minor": 0,
  "metadata": {
    "colab": {
      "name": "Diabetes-ClassesDesbalanceadas.ipynb",
      "provenance": [],
      "include_colab_link": true
    },
    "kernelspec": {
      "name": "python3",
      "display_name": "Python 3"
    }
  },
  "cells": [
    {
      "cell_type": "markdown",
      "metadata": {
        "id": "view-in-github",
        "colab_type": "text"
      },
      "source": [
        "<a href=\"https://colab.research.google.com/github/jrhumberto/cd/blob/main/Diabetes_ClassesDesbalanceadas.ipynb\" target=\"_parent\"><img src=\"https://colab.research.google.com/assets/colab-badge.svg\" alt=\"Open In Colab\"/></a>"
      ]
    },
    {
      "cell_type": "markdown",
      "metadata": {
        "id": "ld7aiwMque20"
      },
      "source": [
        "# Trabalhando com classes desbalanceadas em problemas de classificação\n",
        "\n",
        "Código do artigo: https://medium.com/@tatianae_79457/trabalhando-com-classes-desbalanceadas-em-problemas-machine-learning-29ee8db4a049"
      ]
    },
    {
      "cell_type": "code",
      "metadata": {
        "id": "BCOM1Q_wuech"
      },
      "source": [
        "# Imports\n",
        "import pandas as pd\n",
        "import numpy as np\n",
        "from collections import Counter\n",
        "from sklearn.model_selection import train_test_split\n",
        "from sklearn.linear_model import LogisticRegression\n",
        "from sklearn.metrics import accuracy_score\n",
        "from sklearn.metrics import precision_score\n",
        "from sklearn.metrics import recall_score\n",
        "from sklearn.metrics import f1_score\n",
        "from imblearn.under_sampling import RandomUnderSampler\n",
        "from imblearn.over_sampling import SMOTE\n",
        "from imblearn.combine import SMOTEENN"
      ],
      "execution_count": null,
      "outputs": []
    },
    {
      "cell_type": "code",
      "metadata": {
        "id": "WuBqCHcAcrvM"
      },
      "source": [
        "# ignorando future warnings\n",
        "from warnings import simplefilter\n",
        "simplefilter(action='ignore', category=FutureWarning)"
      ],
      "execution_count": null,
      "outputs": []
    },
    {
      "cell_type": "code",
      "metadata": {
        "id": "S3ao8jYMuzkk",
        "colab": {
          "base_uri": "https://localhost:8080/",
          "height": 204
        },
        "outputId": "c66b024d-a9fb-41cf-9ae1-6788abd8b312"
      },
      "source": [
        "# Carrega arquivo csv usando Pandas usando uma URL\n",
        "\n",
        "# Informa a URL de importação do dataset\n",
        "url = \"https://raw.githubusercontent.com/jbrownlee/Datasets/master/pima-indians-diabetes.data.csv\"\n",
        "\n",
        "# Informa o cabeçalho das colunas\n",
        "colunas = ['preg', 'plas', 'pres', 'skin', 'test', 'mass', 'pedi', 'age', 'class']\n",
        "\n",
        "# Lê o arquivo utilizando as colunas informadas\n",
        "dataset = pd.read_csv(url, names=colunas, skiprows=0, delimiter=',')\n",
        "\n",
        "# Exibe as primeiras linhas do dataset\n",
        "dataset.head()"
      ],
      "execution_count": null,
      "outputs": [
        {
          "output_type": "execute_result",
          "data": {
            "text/html": [
              "<div>\n",
              "<style scoped>\n",
              "    .dataframe tbody tr th:only-of-type {\n",
              "        vertical-align: middle;\n",
              "    }\n",
              "\n",
              "    .dataframe tbody tr th {\n",
              "        vertical-align: top;\n",
              "    }\n",
              "\n",
              "    .dataframe thead th {\n",
              "        text-align: right;\n",
              "    }\n",
              "</style>\n",
              "<table border=\"1\" class=\"dataframe\">\n",
              "  <thead>\n",
              "    <tr style=\"text-align: right;\">\n",
              "      <th></th>\n",
              "      <th>preg</th>\n",
              "      <th>plas</th>\n",
              "      <th>pres</th>\n",
              "      <th>skin</th>\n",
              "      <th>test</th>\n",
              "      <th>mass</th>\n",
              "      <th>pedi</th>\n",
              "      <th>age</th>\n",
              "      <th>class</th>\n",
              "    </tr>\n",
              "  </thead>\n",
              "  <tbody>\n",
              "    <tr>\n",
              "      <th>0</th>\n",
              "      <td>6</td>\n",
              "      <td>148</td>\n",
              "      <td>72</td>\n",
              "      <td>35</td>\n",
              "      <td>0</td>\n",
              "      <td>33.6</td>\n",
              "      <td>0.627</td>\n",
              "      <td>50</td>\n",
              "      <td>1</td>\n",
              "    </tr>\n",
              "    <tr>\n",
              "      <th>1</th>\n",
              "      <td>1</td>\n",
              "      <td>85</td>\n",
              "      <td>66</td>\n",
              "      <td>29</td>\n",
              "      <td>0</td>\n",
              "      <td>26.6</td>\n",
              "      <td>0.351</td>\n",
              "      <td>31</td>\n",
              "      <td>0</td>\n",
              "    </tr>\n",
              "    <tr>\n",
              "      <th>2</th>\n",
              "      <td>8</td>\n",
              "      <td>183</td>\n",
              "      <td>64</td>\n",
              "      <td>0</td>\n",
              "      <td>0</td>\n",
              "      <td>23.3</td>\n",
              "      <td>0.672</td>\n",
              "      <td>32</td>\n",
              "      <td>1</td>\n",
              "    </tr>\n",
              "    <tr>\n",
              "      <th>3</th>\n",
              "      <td>1</td>\n",
              "      <td>89</td>\n",
              "      <td>66</td>\n",
              "      <td>23</td>\n",
              "      <td>94</td>\n",
              "      <td>28.1</td>\n",
              "      <td>0.167</td>\n",
              "      <td>21</td>\n",
              "      <td>0</td>\n",
              "    </tr>\n",
              "    <tr>\n",
              "      <th>4</th>\n",
              "      <td>0</td>\n",
              "      <td>137</td>\n",
              "      <td>40</td>\n",
              "      <td>35</td>\n",
              "      <td>168</td>\n",
              "      <td>43.1</td>\n",
              "      <td>2.288</td>\n",
              "      <td>33</td>\n",
              "      <td>1</td>\n",
              "    </tr>\n",
              "  </tbody>\n",
              "</table>\n",
              "</div>"
            ],
            "text/plain": [
              "   preg  plas  pres  skin  test  mass   pedi  age  class\n",
              "0     6   148    72    35     0  33.6  0.627   50      1\n",
              "1     1    85    66    29     0  26.6  0.351   31      0\n",
              "2     8   183    64     0     0  23.3  0.672   32      1\n",
              "3     1    89    66    23    94  28.1  0.167   21      0\n",
              "4     0   137    40    35   168  43.1  2.288   33      1"
            ]
          },
          "metadata": {
            "tags": []
          },
          "execution_count": 131
        }
      ]
    },
    {
      "cell_type": "code",
      "metadata": {
        "id": "8KWQJtxAvFL2",
        "colab": {
          "base_uri": "https://localhost:8080/",
          "height": 85
        },
        "outputId": "c8bdeaaf-dae2-4a52-ad30-f12a859baeb7"
      },
      "source": [
        "# Verifica a distribuição das classes\n",
        "dataset.groupby('class').size()"
      ],
      "execution_count": null,
      "outputs": [
        {
          "output_type": "execute_result",
          "data": {
            "text/plain": [
              "class\n",
              "0    500\n",
              "1    268\n",
              "dtype: int64"
            ]
          },
          "metadata": {
            "tags": []
          },
          "execution_count": 132
        }
      ]
    },
    {
      "cell_type": "code",
      "metadata": {
        "id": "ojAwvn3LvR38"
      },
      "source": [
        "# Separa os atributos e a classe do dataset em X e y\n",
        "X = dataset.values[:,0:8]\n",
        "y = dataset.values[:,8]"
      ],
      "execution_count": null,
      "outputs": []
    },
    {
      "cell_type": "markdown",
      "metadata": {
        "id": "nNQkdrPIwqdR"
      },
      "source": [
        "## Avaliação de modelos"
      ]
    },
    {
      "cell_type": "code",
      "metadata": {
        "id": "3LO6TusAZwVz"
      },
      "source": [
        "np.random.seed(7) # definindo uma seed global \n",
        "\n",
        "# particionando em conjuntos de treino e teste mantendo a proporção de classes\n",
        "X_train, X_test, Y_train, Y_test = train_test_split(X, y, test_size=0.2, stratify=y)"
      ],
      "execution_count": null,
      "outputs": []
    },
    {
      "cell_type": "code",
      "metadata": {
        "id": "bs_Hn4n7wCFL",
        "colab": {
          "base_uri": "https://localhost:8080/",
          "height": 85
        },
        "outputId": "0deb6c72-4dcd-48e8-a9c3-f1df57e35381"
      },
      "source": [
        "# Modelo de Classificação\n",
        "\n",
        "# criando o modelo\n",
        "model = LogisticRegression(solver='liblinear')\n",
        "\n",
        "# treinando o modelo com o conjunto de treino\n",
        "model.fit(X_train, Y_train)\n",
        "\n",
        "# fazendo as predições no conjunto de teste\n",
        "Y_predito = model.predict(X_test)\n",
        "\n",
        "# métricas de avaliação das predições\n",
        "print('Acurácia: %.2f' % accuracy_score(Y_test, Y_predito))\n",
        "print('Precisão: %.2f' % precision_score(Y_test, Y_predito))\n",
        "print('Recall: %.2f' % recall_score(Y_test, Y_predito))\n",
        "print('F-score: %.2f' % f1_score(Y_test, Y_predito))"
      ],
      "execution_count": null,
      "outputs": [
        {
          "output_type": "stream",
          "text": [
            "Acurácia: 0.75\n",
            "Precisão: 0.69\n",
            "Recall: 0.50\n",
            "F-score: 0.58\n"
          ],
          "name": "stdout"
        }
      ]
    },
    {
      "cell_type": "markdown",
      "metadata": {
        "id": "dqHCHNZTwtjc"
      },
      "source": [
        "## Sub-amostragem da classe majoritária"
      ]
    },
    {
      "cell_type": "code",
      "metadata": {
        "id": "UW0ez9lYw2iR",
        "colab": {
          "base_uri": "https://localhost:8080/"
        },
        "outputId": "00ed6f40-bac0-4d61-b412-54484325bf96"
      },
      "source": [
        "# exibindo a distribuição de classes\n",
        "print(\"Antes: \", Counter(Y_train))\n",
        "\n",
        "# definindo a estratégia de sub-amostragem\n",
        "undersample = RandomUnderSampler(sampling_strategy=1)\n",
        "\n",
        "# aplicando a transformação de reamsostragem\n",
        "X_under, Y_under = undersample.fit_resample(X_train, Y_train)\n",
        "\n",
        "# exibindo a distribuição de classes\n",
        "print(\"Depois: \", Counter(Y_under))"
      ],
      "execution_count": null,
      "outputs": [
        {
          "output_type": "stream",
          "text": [
            "Antes:  Counter({0.0: 400, 1.0: 214})\n",
            "Depois:  Counter({0.0: 214, 1.0: 214})\n"
          ],
          "name": "stdout"
        }
      ]
    },
    {
      "cell_type": "code",
      "metadata": {
        "id": "irZRteOBbpxS",
        "colab": {
          "base_uri": "https://localhost:8080/"
        },
        "outputId": "dd5917fe-f132-4901-d1b6-97be4e201fca"
      },
      "source": [
        "# Modelo de Classificação\n",
        "\n",
        "# criando o modelo\n",
        "model = LogisticRegression(solver='liblinear')\n",
        "\n",
        "# treinando o modelo com o conjunto de treino\n",
        "model.fit(X_under, Y_under)\n",
        "\n",
        "# fazendo as predições no conjunto de teste\n",
        "Y_predito = model.predict(X_test)\n",
        "\n",
        "# métricas de avaliação das predições\n",
        "print('Acurácia: %.2f' % accuracy_score(Y_test, Y_predito))\n",
        "print('Precisão: %.2f' % precision_score(Y_test, Y_predito))\n",
        "print('Recall: %.2f' % recall_score(Y_test, Y_predito))\n",
        "print('F-score: %.2f' % f1_score(Y_test, Y_predito))"
      ],
      "execution_count": null,
      "outputs": [
        {
          "output_type": "stream",
          "text": [
            "Acurácia: 0.74\n",
            "Precisão: 0.61\n",
            "Recall: 0.70\n",
            "F-score: 0.66\n"
          ],
          "name": "stdout"
        }
      ]
    },
    {
      "cell_type": "markdown",
      "metadata": {
        "id": "oouMoGyIxIia"
      },
      "source": [
        "## Super-amostragem da classe minoritária"
      ]
    },
    {
      "cell_type": "code",
      "metadata": {
        "id": "lYFAk5n5xH1Y",
        "colab": {
          "base_uri": "https://localhost:8080/",
          "height": 51
        },
        "outputId": "c57f202d-1ace-4602-8758-5758cddedf8f"
      },
      "source": [
        "# exibindo a distribuição de classes\n",
        "print(\"Antes: \", Counter(Y_train))\n",
        "\n",
        "# definindo a estratégia de super-amostragem\n",
        "oversample = SMOTE(sampling_strategy=1)\n",
        "\n",
        "# aplicando a transformação de reamsostragem\n",
        "X_over, Y_over = oversample.fit_resample(X_train, Y_train)\n",
        "\n",
        "# exibindo a distribuição de classes\n",
        "print(\"Depois: \", Counter(Y_over))"
      ],
      "execution_count": null,
      "outputs": [
        {
          "output_type": "stream",
          "text": [
            "Antes:  Counter({0.0: 400, 1.0: 214})\n",
            "Depois:  Counter({1.0: 400, 0.0: 400})\n"
          ],
          "name": "stdout"
        }
      ]
    },
    {
      "cell_type": "code",
      "metadata": {
        "id": "PnumVVXpfcvs",
        "colab": {
          "base_uri": "https://localhost:8080/",
          "height": 85
        },
        "outputId": "b5c08876-8a8c-46de-ce4a-96332f690faa"
      },
      "source": [
        "# Modelo de Classificação\n",
        "\n",
        "# criando o modelo\n",
        "model = LogisticRegression(solver='liblinear')\n",
        "\n",
        "# treinando o modelo com o conjunto de treino\n",
        "model.fit(X_over, Y_over)\n",
        "\n",
        "# fazendo as predições no conjunto de teste\n",
        "Y_predito = model.predict(X_test)\n",
        "\n",
        "# métricas de avaliação das predições\n",
        "print('Acurácia: %.2f' % accuracy_score(Y_test, Y_predito))\n",
        "print('Precisão: %.2f' % precision_score(Y_test, Y_predito))\n",
        "print('Recall: %.2f' % recall_score(Y_test, Y_predito))\n",
        "print('F-score: %.2f' % f1_score(Y_test, Y_predito))"
      ],
      "execution_count": null,
      "outputs": [
        {
          "output_type": "stream",
          "text": [
            "Acurácia: 0.74\n",
            "Precisão: 0.62\n",
            "Recall: 0.69\n",
            "F-score: 0.65\n"
          ],
          "name": "stdout"
        }
      ]
    },
    {
      "cell_type": "markdown",
      "metadata": {
        "id": "aAw5FxvWxzUl"
      },
      "source": [
        "## Combinando Sub-amostragem e Super-amostragem"
      ]
    },
    {
      "cell_type": "code",
      "metadata": {
        "id": "4QrHIYepx4m6",
        "colab": {
          "base_uri": "https://localhost:8080/",
          "height": 51
        },
        "outputId": "5063671a-247d-413f-a3ca-185094e4c436"
      },
      "source": [
        "# exibindo a distribuição de classes\n",
        "print(\"Antes: \", Counter(Y_train))\n",
        "\n",
        "# definindo a estratégia de reamostragem\n",
        "sample = SMOTEENN(sampling_strategy=1)\n",
        "\n",
        "# aplicando a transformação de reamsostragem\n",
        "X_sample, Y_sample = sample.fit_resample(X_train, Y_train)\n",
        "\n",
        "# exibindo a distribuição de classes\n",
        "print(\"Depois: \", Counter(Y_sample))"
      ],
      "execution_count": null,
      "outputs": [
        {
          "output_type": "stream",
          "text": [
            "Antes:  Counter({0.0: 400, 1.0: 214})\n",
            "Depois:  Counter({1.0: 225, 0.0: 169})\n"
          ],
          "name": "stdout"
        }
      ]
    },
    {
      "cell_type": "code",
      "metadata": {
        "id": "GGkYV5lVf74v",
        "colab": {
          "base_uri": "https://localhost:8080/",
          "height": 85
        },
        "outputId": "403cb909-d269-44e7-ec92-b1912ff552db"
      },
      "source": [
        "# Modelo de Classificação\n",
        "\n",
        "# criando o modelo\n",
        "model = LogisticRegression(solver='liblinear')\n",
        "\n",
        "# treinando o modelo com o conjunto de treino\n",
        "model.fit(X_sample, Y_sample)\n",
        "\n",
        "# fazendo as predições no conjunto de teste\n",
        "Y_predito = model.predict(X_test)\n",
        "\n",
        "# métricas de avaliação das predições\n",
        "print('Acurácia: %.2f' % accuracy_score(Y_test, Y_predito))\n",
        "print('Precisão: %.2f' % precision_score(Y_test, Y_predito))\n",
        "print('Recall: %.2f' % recall_score(Y_test, Y_predito))\n",
        "print('F-score: %.2f' % f1_score(Y_test, Y_predito))"
      ],
      "execution_count": null,
      "outputs": [
        {
          "output_type": "stream",
          "text": [
            "Acurácia: 0.68\n",
            "Precisão: 0.53\n",
            "Recall: 0.70\n",
            "F-score: 0.60\n"
          ],
          "name": "stdout"
        }
      ]
    },
    {
      "cell_type": "markdown",
      "metadata": {
        "id": "rLajjA2ax95U"
      },
      "source": [
        "## Algoritmos sensíveis a custos"
      ]
    },
    {
      "cell_type": "code",
      "metadata": {
        "id": "Nv27jQdzyke9",
        "colab": {
          "base_uri": "https://localhost:8080/",
          "height": 85
        },
        "outputId": "8a1589e8-c9ed-4e1b-b350-9820f528a3f4"
      },
      "source": [
        "# Modelo de Classificação\n",
        "\n",
        "# criando o modelo\n",
        "model = LogisticRegression(solver='liblinear', class_weight='balanced')\n",
        "\n",
        "# treinando o modelo com o conjunto de treino\n",
        "model.fit(X_train, Y_train)\n",
        "\n",
        "# fazendo as predições no conjunto de teste\n",
        "Y_predito = model.predict(X_test)\n",
        "\n",
        "# métricas de avaliação das predições\n",
        "print('Acurácia: %.2f' % accuracy_score(Y_test, Y_predito))\n",
        "print('Precisão: %.2f' % precision_score(Y_test, Y_predito))\n",
        "print('Recall: %.2f' % recall_score(Y_test, Y_predito))\n",
        "print('F-score: %.2f' % f1_score(Y_test, Y_predito))"
      ],
      "execution_count": null,
      "outputs": [
        {
          "output_type": "stream",
          "text": [
            "Acurácia: 0.73\n",
            "Precisão: 0.60\n",
            "Recall: 0.70\n",
            "F-score: 0.65\n"
          ],
          "name": "stdout"
        }
      ]
    }
  ]
}