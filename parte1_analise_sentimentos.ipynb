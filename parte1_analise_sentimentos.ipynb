{
  "nbformat": 4,
  "nbformat_minor": 0,
  "metadata": {
    "colab": {
      "name": "parte1_analise_sentimentos.ipynb",
      "provenance": [],
      "collapsed_sections": [
        "IyVv4tThYnsD",
        "6mE3nbA7sAqB",
        "SaDjgkZGtpmc",
        "rOEOwD-Ut0up",
        "MZ3Vm1IV4ycA",
        "Hgz7QD90MKkT",
        "kCgE6e5YOWWa",
        "O5lmTpBabCMW",
        "5-5s4zZCuD3x",
        "jLO2Y7G8N5a1",
        "u_YjZUfe42L-"
      ],
      "toc_visible": true,
      "include_colab_link": true
    },
    "kernelspec": {
      "name": "python3",
      "display_name": "Python 3"
    },
    "accelerator": "TPU",
    "widgets": {
      "application/vnd.jupyter.widget-state+json": {
        "c826053f421242488cb6d52d46c63648": {
          "model_module": "@jupyter-widgets/controls",
          "model_name": "HBoxModel",
          "state": {
            "_view_name": "HBoxView",
            "_dom_classes": [],
            "_model_name": "HBoxModel",
            "_view_module": "@jupyter-widgets/controls",
            "_model_module_version": "1.5.0",
            "_view_count": null,
            "_view_module_version": "1.5.0",
            "box_style": "",
            "layout": "IPY_MODEL_f704a327072e4f4eb7de070c04b27926",
            "_model_module": "@jupyter-widgets/controls",
            "children": [
              "IPY_MODEL_2910ce6b5e634eb3b296dc0d8bd7010a",
              "IPY_MODEL_70e0454ea1184ccbbc6226e56b2bba2b"
            ]
          },
          "model_module_version": "1.5.0"
        },
        "f704a327072e4f4eb7de070c04b27926": {
          "model_module": "@jupyter-widgets/base",
          "model_name": "LayoutModel",
          "state": {
            "_view_name": "LayoutView",
            "grid_template_rows": null,
            "right": null,
            "justify_content": null,
            "_view_module": "@jupyter-widgets/base",
            "overflow": null,
            "_model_module_version": "1.2.0",
            "_view_count": null,
            "flex_flow": null,
            "width": null,
            "min_width": null,
            "border": null,
            "align_items": null,
            "bottom": null,
            "_model_module": "@jupyter-widgets/base",
            "top": null,
            "grid_column": null,
            "overflow_y": null,
            "overflow_x": null,
            "grid_auto_flow": null,
            "grid_area": null,
            "grid_template_columns": null,
            "flex": null,
            "_model_name": "LayoutModel",
            "justify_items": null,
            "grid_row": null,
            "max_height": null,
            "align_content": null,
            "visibility": null,
            "align_self": null,
            "height": null,
            "min_height": null,
            "padding": null,
            "grid_auto_rows": null,
            "grid_gap": null,
            "max_width": null,
            "order": null,
            "_view_module_version": "1.2.0",
            "grid_template_areas": null,
            "object_position": null,
            "object_fit": null,
            "grid_auto_columns": null,
            "margin": null,
            "display": null,
            "left": null
          },
          "model_module_version": "1.2.0"
        },
        "2910ce6b5e634eb3b296dc0d8bd7010a": {
          "model_module": "@jupyter-widgets/controls",
          "model_name": "FloatProgressModel",
          "state": {
            "_view_name": "ProgressView",
            "style": "IPY_MODEL_2cd70cca69bc4ab1a59dae60e749aa4f",
            "_dom_classes": [],
            "description": "Downloading: 100%",
            "_model_name": "FloatProgressModel",
            "bar_style": "success",
            "max": 995526,
            "_view_module": "@jupyter-widgets/controls",
            "_model_module_version": "1.5.0",
            "value": 995526,
            "_view_count": null,
            "_view_module_version": "1.5.0",
            "orientation": "horizontal",
            "min": 0,
            "description_tooltip": null,
            "_model_module": "@jupyter-widgets/controls",
            "layout": "IPY_MODEL_4e1e169845ed4155a6f1781443b04749"
          },
          "model_module_version": "1.5.0"
        },
        "70e0454ea1184ccbbc6226e56b2bba2b": {
          "model_module": "@jupyter-widgets/controls",
          "model_name": "HTMLModel",
          "state": {
            "_view_name": "HTMLView",
            "style": "IPY_MODEL_56e35fb1300048a4a01bacaf5e1012ca",
            "_dom_classes": [],
            "description": "",
            "_model_name": "HTMLModel",
            "placeholder": "​",
            "_view_module": "@jupyter-widgets/controls",
            "_model_module_version": "1.5.0",
            "value": " 996k/996k [00:00&lt;00:00, 3.63MB/s]",
            "_view_count": null,
            "_view_module_version": "1.5.0",
            "description_tooltip": null,
            "_model_module": "@jupyter-widgets/controls",
            "layout": "IPY_MODEL_2d06621add5b403789a64442623d7ccd"
          },
          "model_module_version": "1.5.0"
        },
        "2cd70cca69bc4ab1a59dae60e749aa4f": {
          "model_module": "@jupyter-widgets/controls",
          "model_name": "ProgressStyleModel",
          "state": {
            "_view_name": "StyleView",
            "_model_name": "ProgressStyleModel",
            "description_width": "initial",
            "_view_module": "@jupyter-widgets/base",
            "_model_module_version": "1.5.0",
            "_view_count": null,
            "_view_module_version": "1.2.0",
            "bar_color": null,
            "_model_module": "@jupyter-widgets/controls"
          },
          "model_module_version": "1.5.0"
        },
        "4e1e169845ed4155a6f1781443b04749": {
          "model_module": "@jupyter-widgets/base",
          "model_name": "LayoutModel",
          "state": {
            "_view_name": "LayoutView",
            "grid_template_rows": null,
            "right": null,
            "justify_content": null,
            "_view_module": "@jupyter-widgets/base",
            "overflow": null,
            "_model_module_version": "1.2.0",
            "_view_count": null,
            "flex_flow": null,
            "width": null,
            "min_width": null,
            "border": null,
            "align_items": null,
            "bottom": null,
            "_model_module": "@jupyter-widgets/base",
            "top": null,
            "grid_column": null,
            "overflow_y": null,
            "overflow_x": null,
            "grid_auto_flow": null,
            "grid_area": null,
            "grid_template_columns": null,
            "flex": null,
            "_model_name": "LayoutModel",
            "justify_items": null,
            "grid_row": null,
            "max_height": null,
            "align_content": null,
            "visibility": null,
            "align_self": null,
            "height": null,
            "min_height": null,
            "padding": null,
            "grid_auto_rows": null,
            "grid_gap": null,
            "max_width": null,
            "order": null,
            "_view_module_version": "1.2.0",
            "grid_template_areas": null,
            "object_position": null,
            "object_fit": null,
            "grid_auto_columns": null,
            "margin": null,
            "display": null,
            "left": null
          },
          "model_module_version": "1.2.0"
        },
        "56e35fb1300048a4a01bacaf5e1012ca": {
          "model_module": "@jupyter-widgets/controls",
          "model_name": "DescriptionStyleModel",
          "state": {
            "_view_name": "StyleView",
            "_model_name": "DescriptionStyleModel",
            "description_width": "",
            "_view_module": "@jupyter-widgets/base",
            "_model_module_version": "1.5.0",
            "_view_count": null,
            "_view_module_version": "1.2.0",
            "_model_module": "@jupyter-widgets/controls"
          },
          "model_module_version": "1.5.0"
        },
        "2d06621add5b403789a64442623d7ccd": {
          "model_module": "@jupyter-widgets/base",
          "model_name": "LayoutModel",
          "state": {
            "_view_name": "LayoutView",
            "grid_template_rows": null,
            "right": null,
            "justify_content": null,
            "_view_module": "@jupyter-widgets/base",
            "overflow": null,
            "_model_module_version": "1.2.0",
            "_view_count": null,
            "flex_flow": null,
            "width": null,
            "min_width": null,
            "border": null,
            "align_items": null,
            "bottom": null,
            "_model_module": "@jupyter-widgets/base",
            "top": null,
            "grid_column": null,
            "overflow_y": null,
            "overflow_x": null,
            "grid_auto_flow": null,
            "grid_area": null,
            "grid_template_columns": null,
            "flex": null,
            "_model_name": "LayoutModel",
            "justify_items": null,
            "grid_row": null,
            "max_height": null,
            "align_content": null,
            "visibility": null,
            "align_self": null,
            "height": null,
            "min_height": null,
            "padding": null,
            "grid_auto_rows": null,
            "grid_gap": null,
            "max_width": null,
            "order": null,
            "_view_module_version": "1.2.0",
            "grid_template_areas": null,
            "object_position": null,
            "object_fit": null,
            "grid_auto_columns": null,
            "margin": null,
            "display": null,
            "left": null
          },
          "model_module_version": "1.2.0"
        },
        "94f00e9eac2e4305a59e260df02af803": {
          "model_module": "@jupyter-widgets/controls",
          "model_name": "HBoxModel",
          "state": {
            "_view_name": "HBoxView",
            "_dom_classes": [],
            "_model_name": "HBoxModel",
            "_view_module": "@jupyter-widgets/controls",
            "_model_module_version": "1.5.0",
            "_view_count": null,
            "_view_module_version": "1.5.0",
            "box_style": "",
            "layout": "IPY_MODEL_79babde7fa3f4a929a290fab8899d1a9",
            "_model_module": "@jupyter-widgets/controls",
            "children": [
              "IPY_MODEL_654eb4fddc67463aa7a9388488215e2c",
              "IPY_MODEL_48b7db0f855a4e81a3479b97bd9699f9"
            ]
          },
          "model_module_version": "1.5.0"
        },
        "79babde7fa3f4a929a290fab8899d1a9": {
          "model_module": "@jupyter-widgets/base",
          "model_name": "LayoutModel",
          "state": {
            "_view_name": "LayoutView",
            "grid_template_rows": null,
            "right": null,
            "justify_content": null,
            "_view_module": "@jupyter-widgets/base",
            "overflow": null,
            "_model_module_version": "1.2.0",
            "_view_count": null,
            "flex_flow": null,
            "width": null,
            "min_width": null,
            "border": null,
            "align_items": null,
            "bottom": null,
            "_model_module": "@jupyter-widgets/base",
            "top": null,
            "grid_column": null,
            "overflow_y": null,
            "overflow_x": null,
            "grid_auto_flow": null,
            "grid_area": null,
            "grid_template_columns": null,
            "flex": null,
            "_model_name": "LayoutModel",
            "justify_items": null,
            "grid_row": null,
            "max_height": null,
            "align_content": null,
            "visibility": null,
            "align_self": null,
            "height": null,
            "min_height": null,
            "padding": null,
            "grid_auto_rows": null,
            "grid_gap": null,
            "max_width": null,
            "order": null,
            "_view_module_version": "1.2.0",
            "grid_template_areas": null,
            "object_position": null,
            "object_fit": null,
            "grid_auto_columns": null,
            "margin": null,
            "display": null,
            "left": null
          },
          "model_module_version": "1.2.0"
        },
        "654eb4fddc67463aa7a9388488215e2c": {
          "model_module": "@jupyter-widgets/controls",
          "model_name": "FloatProgressModel",
          "state": {
            "_view_name": "ProgressView",
            "style": "IPY_MODEL_f7ab6f7775ae4e0aba775ab0abfc855a",
            "_dom_classes": [],
            "description": "Downloading: 100%",
            "_model_name": "FloatProgressModel",
            "bar_style": "success",
            "max": 625,
            "_view_module": "@jupyter-widgets/controls",
            "_model_module_version": "1.5.0",
            "value": 625,
            "_view_count": null,
            "_view_module_version": "1.5.0",
            "orientation": "horizontal",
            "min": 0,
            "description_tooltip": null,
            "_model_module": "@jupyter-widgets/controls",
            "layout": "IPY_MODEL_21a0ed55e35046618d8b870c30689940"
          },
          "model_module_version": "1.5.0"
        },
        "48b7db0f855a4e81a3479b97bd9699f9": {
          "model_module": "@jupyter-widgets/controls",
          "model_name": "HTMLModel",
          "state": {
            "_view_name": "HTMLView",
            "style": "IPY_MODEL_ed08b63d925c457aa26120c597adb138",
            "_dom_classes": [],
            "description": "",
            "_model_name": "HTMLModel",
            "placeholder": "​",
            "_view_module": "@jupyter-widgets/controls",
            "_model_module_version": "1.5.0",
            "value": " 625/625 [00:15&lt;00:00, 41.1B/s]",
            "_view_count": null,
            "_view_module_version": "1.5.0",
            "description_tooltip": null,
            "_model_module": "@jupyter-widgets/controls",
            "layout": "IPY_MODEL_0b270964d887492a8dfbbbf447946672"
          },
          "model_module_version": "1.5.0"
        },
        "f7ab6f7775ae4e0aba775ab0abfc855a": {
          "model_module": "@jupyter-widgets/controls",
          "model_name": "ProgressStyleModel",
          "state": {
            "_view_name": "StyleView",
            "_model_name": "ProgressStyleModel",
            "description_width": "initial",
            "_view_module": "@jupyter-widgets/base",
            "_model_module_version": "1.5.0",
            "_view_count": null,
            "_view_module_version": "1.2.0",
            "bar_color": null,
            "_model_module": "@jupyter-widgets/controls"
          },
          "model_module_version": "1.5.0"
        },
        "21a0ed55e35046618d8b870c30689940": {
          "model_module": "@jupyter-widgets/base",
          "model_name": "LayoutModel",
          "state": {
            "_view_name": "LayoutView",
            "grid_template_rows": null,
            "right": null,
            "justify_content": null,
            "_view_module": "@jupyter-widgets/base",
            "overflow": null,
            "_model_module_version": "1.2.0",
            "_view_count": null,
            "flex_flow": null,
            "width": null,
            "min_width": null,
            "border": null,
            "align_items": null,
            "bottom": null,
            "_model_module": "@jupyter-widgets/base",
            "top": null,
            "grid_column": null,
            "overflow_y": null,
            "overflow_x": null,
            "grid_auto_flow": null,
            "grid_area": null,
            "grid_template_columns": null,
            "flex": null,
            "_model_name": "LayoutModel",
            "justify_items": null,
            "grid_row": null,
            "max_height": null,
            "align_content": null,
            "visibility": null,
            "align_self": null,
            "height": null,
            "min_height": null,
            "padding": null,
            "grid_auto_rows": null,
            "grid_gap": null,
            "max_width": null,
            "order": null,
            "_view_module_version": "1.2.0",
            "grid_template_areas": null,
            "object_position": null,
            "object_fit": null,
            "grid_auto_columns": null,
            "margin": null,
            "display": null,
            "left": null
          },
          "model_module_version": "1.2.0"
        },
        "ed08b63d925c457aa26120c597adb138": {
          "model_module": "@jupyter-widgets/controls",
          "model_name": "DescriptionStyleModel",
          "state": {
            "_view_name": "StyleView",
            "_model_name": "DescriptionStyleModel",
            "description_width": "",
            "_view_module": "@jupyter-widgets/base",
            "_model_module_version": "1.5.0",
            "_view_count": null,
            "_view_module_version": "1.2.0",
            "_model_module": "@jupyter-widgets/controls"
          },
          "model_module_version": "1.5.0"
        },
        "0b270964d887492a8dfbbbf447946672": {
          "model_module": "@jupyter-widgets/base",
          "model_name": "LayoutModel",
          "state": {
            "_view_name": "LayoutView",
            "grid_template_rows": null,
            "right": null,
            "justify_content": null,
            "_view_module": "@jupyter-widgets/base",
            "overflow": null,
            "_model_module_version": "1.2.0",
            "_view_count": null,
            "flex_flow": null,
            "width": null,
            "min_width": null,
            "border": null,
            "align_items": null,
            "bottom": null,
            "_model_module": "@jupyter-widgets/base",
            "top": null,
            "grid_column": null,
            "overflow_y": null,
            "overflow_x": null,
            "grid_auto_flow": null,
            "grid_area": null,
            "grid_template_columns": null,
            "flex": null,
            "_model_name": "LayoutModel",
            "justify_items": null,
            "grid_row": null,
            "max_height": null,
            "align_content": null,
            "visibility": null,
            "align_self": null,
            "height": null,
            "min_height": null,
            "padding": null,
            "grid_auto_rows": null,
            "grid_gap": null,
            "max_width": null,
            "order": null,
            "_view_module_version": "1.2.0",
            "grid_template_areas": null,
            "object_position": null,
            "object_fit": null,
            "grid_auto_columns": null,
            "margin": null,
            "display": null,
            "left": null
          },
          "model_module_version": "1.2.0"
        },
        "d9dbb39f3b58420cba53fdcb7205d830": {
          "model_module": "@jupyter-widgets/controls",
          "model_name": "HBoxModel",
          "state": {
            "_view_name": "HBoxView",
            "_dom_classes": [],
            "_model_name": "HBoxModel",
            "_view_module": "@jupyter-widgets/controls",
            "_model_module_version": "1.5.0",
            "_view_count": null,
            "_view_module_version": "1.5.0",
            "box_style": "",
            "layout": "IPY_MODEL_f009aa9e3b0d420fb9538cd1e7118ee8",
            "_model_module": "@jupyter-widgets/controls",
            "children": [
              "IPY_MODEL_107fc4ca0d814c7089916e1b56745402",
              "IPY_MODEL_d8af0e8da82a49d7949ea3adb00d07e6"
            ]
          },
          "model_module_version": "1.5.0"
        },
        "f009aa9e3b0d420fb9538cd1e7118ee8": {
          "model_module": "@jupyter-widgets/base",
          "model_name": "LayoutModel",
          "state": {
            "_view_name": "LayoutView",
            "grid_template_rows": null,
            "right": null,
            "justify_content": null,
            "_view_module": "@jupyter-widgets/base",
            "overflow": null,
            "_model_module_version": "1.2.0",
            "_view_count": null,
            "flex_flow": null,
            "width": null,
            "min_width": null,
            "border": null,
            "align_items": null,
            "bottom": null,
            "_model_module": "@jupyter-widgets/base",
            "top": null,
            "grid_column": null,
            "overflow_y": null,
            "overflow_x": null,
            "grid_auto_flow": null,
            "grid_area": null,
            "grid_template_columns": null,
            "flex": null,
            "_model_name": "LayoutModel",
            "justify_items": null,
            "grid_row": null,
            "max_height": null,
            "align_content": null,
            "visibility": null,
            "align_self": null,
            "height": null,
            "min_height": null,
            "padding": null,
            "grid_auto_rows": null,
            "grid_gap": null,
            "max_width": null,
            "order": null,
            "_view_module_version": "1.2.0",
            "grid_template_areas": null,
            "object_position": null,
            "object_fit": null,
            "grid_auto_columns": null,
            "margin": null,
            "display": null,
            "left": null
          },
          "model_module_version": "1.2.0"
        },
        "107fc4ca0d814c7089916e1b56745402": {
          "model_module": "@jupyter-widgets/controls",
          "model_name": "FloatProgressModel",
          "state": {
            "_view_name": "ProgressView",
            "style": "IPY_MODEL_8a07be8883bb4fea842c3a3f1b479640",
            "_dom_classes": [],
            "description": "Downloading: 100%",
            "_model_name": "FloatProgressModel",
            "bar_style": "success",
            "max": 1083389348,
            "_view_module": "@jupyter-widgets/controls",
            "_model_module_version": "1.5.0",
            "value": 1083389348,
            "_view_count": null,
            "_view_module_version": "1.5.0",
            "orientation": "horizontal",
            "min": 0,
            "description_tooltip": null,
            "_model_module": "@jupyter-widgets/controls",
            "layout": "IPY_MODEL_802a6625bbf2480ea7998848a053d767"
          },
          "model_module_version": "1.5.0"
        },
        "d8af0e8da82a49d7949ea3adb00d07e6": {
          "model_module": "@jupyter-widgets/controls",
          "model_name": "HTMLModel",
          "state": {
            "_view_name": "HTMLView",
            "style": "IPY_MODEL_c915505b62684bec9c35f50232f71511",
            "_dom_classes": [],
            "description": "",
            "_model_name": "HTMLModel",
            "placeholder": "​",
            "_view_module": "@jupyter-widgets/controls",
            "_model_module_version": "1.5.0",
            "value": " 1.08G/1.08G [00:14&lt;00:00, 73.1MB/s]",
            "_view_count": null,
            "_view_module_version": "1.5.0",
            "description_tooltip": null,
            "_model_module": "@jupyter-widgets/controls",
            "layout": "IPY_MODEL_4a6d164032e44b7187c0967b4dbc40cf"
          },
          "model_module_version": "1.5.0"
        },
        "8a07be8883bb4fea842c3a3f1b479640": {
          "model_module": "@jupyter-widgets/controls",
          "model_name": "ProgressStyleModel",
          "state": {
            "_view_name": "StyleView",
            "_model_name": "ProgressStyleModel",
            "description_width": "initial",
            "_view_module": "@jupyter-widgets/base",
            "_model_module_version": "1.5.0",
            "_view_count": null,
            "_view_module_version": "1.2.0",
            "bar_color": null,
            "_model_module": "@jupyter-widgets/controls"
          },
          "model_module_version": "1.5.0"
        },
        "802a6625bbf2480ea7998848a053d767": {
          "model_module": "@jupyter-widgets/base",
          "model_name": "LayoutModel",
          "state": {
            "_view_name": "LayoutView",
            "grid_template_rows": null,
            "right": null,
            "justify_content": null,
            "_view_module": "@jupyter-widgets/base",
            "overflow": null,
            "_model_module_version": "1.2.0",
            "_view_count": null,
            "flex_flow": null,
            "width": null,
            "min_width": null,
            "border": null,
            "align_items": null,
            "bottom": null,
            "_model_module": "@jupyter-widgets/base",
            "top": null,
            "grid_column": null,
            "overflow_y": null,
            "overflow_x": null,
            "grid_auto_flow": null,
            "grid_area": null,
            "grid_template_columns": null,
            "flex": null,
            "_model_name": "LayoutModel",
            "justify_items": null,
            "grid_row": null,
            "max_height": null,
            "align_content": null,
            "visibility": null,
            "align_self": null,
            "height": null,
            "min_height": null,
            "padding": null,
            "grid_auto_rows": null,
            "grid_gap": null,
            "max_width": null,
            "order": null,
            "_view_module_version": "1.2.0",
            "grid_template_areas": null,
            "object_position": null,
            "object_fit": null,
            "grid_auto_columns": null,
            "margin": null,
            "display": null,
            "left": null
          },
          "model_module_version": "1.2.0"
        },
        "c915505b62684bec9c35f50232f71511": {
          "model_module": "@jupyter-widgets/controls",
          "model_name": "DescriptionStyleModel",
          "state": {
            "_view_name": "StyleView",
            "_model_name": "DescriptionStyleModel",
            "description_width": "",
            "_view_module": "@jupyter-widgets/base",
            "_model_module_version": "1.5.0",
            "_view_count": null,
            "_view_module_version": "1.2.0",
            "_model_module": "@jupyter-widgets/controls"
          },
          "model_module_version": "1.5.0"
        },
        "4a6d164032e44b7187c0967b4dbc40cf": {
          "model_module": "@jupyter-widgets/base",
          "model_name": "LayoutModel",
          "state": {
            "_view_name": "LayoutView",
            "grid_template_rows": null,
            "right": null,
            "justify_content": null,
            "_view_module": "@jupyter-widgets/base",
            "overflow": null,
            "_model_module_version": "1.2.0",
            "_view_count": null,
            "flex_flow": null,
            "width": null,
            "min_width": null,
            "border": null,
            "align_items": null,
            "bottom": null,
            "_model_module": "@jupyter-widgets/base",
            "top": null,
            "grid_column": null,
            "overflow_y": null,
            "overflow_x": null,
            "grid_auto_flow": null,
            "grid_area": null,
            "grid_template_columns": null,
            "flex": null,
            "_model_name": "LayoutModel",
            "justify_items": null,
            "grid_row": null,
            "max_height": null,
            "align_content": null,
            "visibility": null,
            "align_self": null,
            "height": null,
            "min_height": null,
            "padding": null,
            "grid_auto_rows": null,
            "grid_gap": null,
            "max_width": null,
            "order": null,
            "_view_module_version": "1.2.0",
            "grid_template_areas": null,
            "object_position": null,
            "object_fit": null,
            "grid_auto_columns": null,
            "margin": null,
            "display": null,
            "left": null
          },
          "model_module_version": "1.2.0"
        }
      }
    }
  },
  "cells": [
    {
      "cell_type": "markdown",
      "metadata": {
        "id": "view-in-github",
        "colab_type": "text"
      },
      "source": [
        "<a href=\"https://colab.research.google.com/github/jrhumberto/cd/blob/main/parte1_analise_sentimentos.ipynb\" target=\"_parent\"><img src=\"https://colab.research.google.com/assets/colab-badge.svg\" alt=\"Open In Colab\"/></a>"
      ]
    },
    {
      "cell_type": "markdown",
      "metadata": {
        "id": "_CKVom0xYrrR"
      },
      "source": [
        "# Suport Vector Machine (SVM)"
      ]
    },
    {
      "cell_type": "markdown",
      "metadata": {
        "id": "IyVv4tThYnsD"
      },
      "source": [
        "## 1 - A partir daqui apresentamos os bancos de dados utilizados para análise de sentimentos. O objetivo final é o treinamento de um classificador  inicialmente focado para o português. O repositório correspondente a essa implementação é  clonado do github para utilização do dataset contido no arquivo \".csv\" através da biblioteca Pandas."
      ]
    },
    {
      "cell_type": "code",
      "metadata": {
        "id": "6OBcrbblYnsE",
        "outputId": "8dc3ecc0-b52f-4402-ea02-ebd831041090",
        "colab": {
          "base_uri": "https://localhost:8080/",
          "height": 118
        }
      },
      "source": [
        "!git clone https://github.com/LucaswasTaken/Acessibilidade_Parte_1_Analise_de_Sentimentos.git"
      ],
      "execution_count": null,
      "outputs": [
        {
          "output_type": "stream",
          "text": [
            "Cloning into 'Caffe_Analise_de_Sentimentos'...\n",
            "remote: Enumerating objects: 76, done.\u001b[K\n",
            "remote: Counting objects: 100% (76/76), done.\u001b[K\n",
            "remote: Compressing objects: 100% (76/76), done.\u001b[K\n",
            "remote: Total 76 (delta 36), reused 0 (delta 0), pack-reused 0\u001b[K\n",
            "Unpacking objects: 100% (76/76), done.\n"
          ],
          "name": "stdout"
        }
      ]
    },
    {
      "cell_type": "code",
      "metadata": {
        "id": "PfPkbIdZYnsG"
      },
      "source": [
        "import pandas as pd"
      ],
      "execution_count": null,
      "outputs": []
    },
    {
      "cell_type": "code",
      "metadata": {
        "id": "otJrVTcEYnsH"
      },
      "source": [
        "data = pd.read_csv('/content/Caffe_Analise_de_Sentimentos/dataset_sentimentos_augmented.csv').dropna()"
      ],
      "execution_count": null,
      "outputs": []
    },
    {
      "cell_type": "code",
      "metadata": {
        "id": "vMHRmhxGxME7",
        "outputId": "6f0ac999-fa6c-4ec4-b315-625093d5e658",
        "colab": {
          "base_uri": "https://localhost:8080/",
          "height": 402
        }
      },
      "source": [
        "data"
      ],
      "execution_count": null,
      "outputs": [
        {
          "output_type": "execute_result",
          "data": {
            "text/html": [
              "<div>\n",
              "<style scoped>\n",
              "    .dataframe tbody tr th:only-of-type {\n",
              "        vertical-align: middle;\n",
              "    }\n",
              "\n",
              "    .dataframe tbody tr th {\n",
              "        vertical-align: top;\n",
              "    }\n",
              "\n",
              "    .dataframe thead th {\n",
              "        text-align: right;\n",
              "    }\n",
              "</style>\n",
              "<table border=\"1\" class=\"dataframe\">\n",
              "  <thead>\n",
              "    <tr style=\"text-align: right;\">\n",
              "      <th></th>\n",
              "      <th>Unnamed: 0</th>\n",
              "      <th>Frase</th>\n",
              "      <th>Sentimento</th>\n",
              "    </tr>\n",
              "  </thead>\n",
              "  <tbody>\n",
              "    <tr>\n",
              "      <th>0</th>\n",
              "      <td>0</td>\n",
              "      <td>não precisei pagar o ingresso</td>\n",
              "      <td>alegria</td>\n",
              "    </tr>\n",
              "    <tr>\n",
              "      <th>1</th>\n",
              "      <td>1</td>\n",
              "      <td>se eu ajeitar tudo fica bem</td>\n",
              "      <td>alegria</td>\n",
              "    </tr>\n",
              "    <tr>\n",
              "      <th>2</th>\n",
              "      <td>2</td>\n",
              "      <td>minha fortuna ultrapassa a sua</td>\n",
              "      <td>alegria</td>\n",
              "    </tr>\n",
              "    <tr>\n",
              "      <th>3</th>\n",
              "      <td>3</td>\n",
              "      <td>sou muito afortunado</td>\n",
              "      <td>alegria</td>\n",
              "    </tr>\n",
              "    <tr>\n",
              "      <th>4</th>\n",
              "      <td>4</td>\n",
              "      <td>e benefico para todos esta nova medida</td>\n",
              "      <td>alegria</td>\n",
              "    </tr>\n",
              "    <tr>\n",
              "      <th>...</th>\n",
              "      <td>...</td>\n",
              "      <td>...</td>\n",
              "      <td>...</td>\n",
              "    </tr>\n",
              "    <tr>\n",
              "      <th>220</th>\n",
              "      <td>220</td>\n",
              "      <td>como com a compulsão após a depressão</td>\n",
              "      <td>tristeza</td>\n",
              "    </tr>\n",
              "    <tr>\n",
              "      <th>221</th>\n",
              "      <td>221</td>\n",
              "      <td>Estou me desencorajando de viver</td>\n",
              "      <td>tristeza</td>\n",
              "    </tr>\n",
              "    <tr>\n",
              "      <th>222</th>\n",
              "      <td>222</td>\n",
              "      <td>ele desencoraja meus desejos</td>\n",
              "      <td>tristeza</td>\n",
              "    </tr>\n",
              "    <tr>\n",
              "      <th>223</th>\n",
              "      <td>223</td>\n",
              "      <td>isto é deprimente por dentro</td>\n",
              "      <td>tristeza</td>\n",
              "    </tr>\n",
              "    <tr>\n",
              "      <th>224</th>\n",
              "      <td>224</td>\n",
              "      <td>Acho que isto é defeituoso</td>\n",
              "      <td>tristeza</td>\n",
              "    </tr>\n",
              "  </tbody>\n",
              "</table>\n",
              "<p>225 rows × 3 columns</p>\n",
              "</div>"
            ],
            "text/plain": [
              "     Unnamed: 0                                   Frase Sentimento\n",
              "0             0           não precisei pagar o ingresso    alegria\n",
              "1             1             se eu ajeitar tudo fica bem    alegria\n",
              "2             2          minha fortuna ultrapassa a sua    alegria\n",
              "3             3                    sou muito afortunado    alegria\n",
              "4             4  e benefico para todos esta nova medida    alegria\n",
              "..          ...                                     ...        ...\n",
              "220         220   como com a compulsão após a depressão   tristeza\n",
              "221         221        Estou me desencorajando de viver   tristeza\n",
              "222         222            ele desencoraja meus desejos   tristeza\n",
              "223         223            isto é deprimente por dentro   tristeza\n",
              "224         224              Acho que isto é defeituoso   tristeza\n",
              "\n",
              "[225 rows x 3 columns]"
            ]
          },
          "metadata": {
            "tags": []
          },
          "execution_count": 5
        }
      ]
    },
    {
      "cell_type": "code",
      "metadata": {
        "id": "lgckO0ApYnsL",
        "outputId": "38fac9ce-44b2-45e0-b359-ee0ca90861f0",
        "colab": {
          "base_uri": "https://localhost:8080/",
          "height": 34
        }
      },
      "source": [
        "data['Sentimento'].unique()"
      ],
      "execution_count": null,
      "outputs": [
        {
          "output_type": "execute_result",
          "data": {
            "text/plain": [
              "array(['alegria', 'raiva', 'tristeza'], dtype=object)"
            ]
          },
          "metadata": {
            "tags": []
          },
          "execution_count": 6
        }
      ]
    },
    {
      "cell_type": "markdown",
      "metadata": {
        "id": "6mE3nbA7sAqB"
      },
      "source": [
        "## 2 - Tratamento e tokenização vetorial dos dados"
      ]
    },
    {
      "cell_type": "markdown",
      "metadata": {
        "id": "Ft-WVEO6siw7"
      },
      "source": [
        "Remoção das stopwords, pontuação e acentos"
      ]
    },
    {
      "cell_type": "code",
      "metadata": {
        "id": "RDFS5ZHjs1i7",
        "outputId": "a9e44f42-0eaa-4466-f766-c5672d293b98",
        "colab": {
          "base_uri": "https://localhost:8080/"
        }
      },
      "source": [
        "!pip install unidecode"
      ],
      "execution_count": null,
      "outputs": [
        {
          "output_type": "stream",
          "text": [
            "Collecting unidecode\n",
            "\u001b[?25l  Downloading https://files.pythonhosted.org/packages/d0/42/d9edfed04228bacea2d824904cae367ee9efd05e6cce7ceaaedd0b0ad964/Unidecode-1.1.1-py2.py3-none-any.whl (238kB)\n",
            "\r\u001b[K     |█▍                              | 10kB 22.6MB/s eta 0:00:01\r\u001b[K     |██▊                             | 20kB 2.8MB/s eta 0:00:01\r\u001b[K     |████▏                           | 30kB 3.6MB/s eta 0:00:01\r\u001b[K     |█████▌                          | 40kB 3.9MB/s eta 0:00:01\r\u001b[K     |██████▉                         | 51kB 3.3MB/s eta 0:00:01\r\u001b[K     |████████▎                       | 61kB 3.7MB/s eta 0:00:01\r\u001b[K     |█████████▋                      | 71kB 4.2MB/s eta 0:00:01\r\u001b[K     |███████████                     | 81kB 4.4MB/s eta 0:00:01\r\u001b[K     |████████████▍                   | 92kB 4.7MB/s eta 0:00:01\r\u001b[K     |█████████████▊                  | 102kB 4.6MB/s eta 0:00:01\r\u001b[K     |███████████████▏                | 112kB 4.6MB/s eta 0:00:01\r\u001b[K     |████████████████▌               | 122kB 4.6MB/s eta 0:00:01\r\u001b[K     |█████████████████▉              | 133kB 4.6MB/s eta 0:00:01\r\u001b[K     |███████████████████▎            | 143kB 4.6MB/s eta 0:00:01\r\u001b[K     |████████████████████▋           | 153kB 4.6MB/s eta 0:00:01\r\u001b[K     |██████████████████████          | 163kB 4.6MB/s eta 0:00:01\r\u001b[K     |███████████████████████▍        | 174kB 4.6MB/s eta 0:00:01\r\u001b[K     |████████████████████████▊       | 184kB 4.6MB/s eta 0:00:01\r\u001b[K     |██████████████████████████▏     | 194kB 4.6MB/s eta 0:00:01\r\u001b[K     |███████████████████████████▌    | 204kB 4.6MB/s eta 0:00:01\r\u001b[K     |████████████████████████████▉   | 215kB 4.6MB/s eta 0:00:01\r\u001b[K     |██████████████████████████████▎ | 225kB 4.6MB/s eta 0:00:01\r\u001b[K     |███████████████████████████████▋| 235kB 4.6MB/s eta 0:00:01\r\u001b[K     |████████████████████████████████| 245kB 4.6MB/s \n",
            "\u001b[?25hInstalling collected packages: unidecode\n",
            "Successfully installed unidecode-1.1.1\n"
          ],
          "name": "stdout"
        }
      ]
    },
    {
      "cell_type": "code",
      "metadata": {
        "id": "UV1GyORCsIa4",
        "outputId": "df5a54e5-669e-4ab0-de16-aa9047194d35",
        "colab": {
          "base_uri": "https://localhost:8080/"
        }
      },
      "source": [
        "import nltk\n",
        "import re\n",
        "nltk.download('punkt')\n",
        "nltk.download('stopwords')\n",
        "import string\n",
        "from nltk.corpus import stopwords\n",
        "from unidecode import unidecode\n",
        "\n",
        "\n",
        "clean_text = []\n",
        "for text in data['Frase']:\n",
        "  text = unidecode(text.lower())\n",
        "  text= re.sub(r'\\[[0-9]*\\]', ' ', text)\n",
        "  text = re.sub(r'\\s+', ' ', text)\n",
        "  text = re.sub('[^a-zA-Z]', ' ', text )\n",
        "  text = re.sub(r'\\s+', ' ', text)  \n",
        "  text = re.sub('[%s]' % re.escape(string.punctuation), ' ', text)\n",
        "  clean_text.append(text)\n",
        "\n",
        "data['clean_text'] = clean_text"
      ],
      "execution_count": null,
      "outputs": [
        {
          "output_type": "stream",
          "text": [
            "[nltk_data] Downloading package punkt to /root/nltk_data...\n",
            "[nltk_data]   Unzipping tokenizers/punkt.zip.\n",
            "[nltk_data] Downloading package stopwords to /root/nltk_data...\n",
            "[nltk_data]   Unzipping corpora/stopwords.zip.\n"
          ],
          "name": "stdout"
        }
      ]
    },
    {
      "cell_type": "code",
      "metadata": {
        "id": "ucGo3YBpsGTe"
      },
      "source": [
        "y = data['Sentimento']\n",
        "X = data['clean_text']"
      ],
      "execution_count": null,
      "outputs": []
    },
    {
      "cell_type": "markdown",
      "metadata": {
        "id": "8Zaq7x0ZtBXk"
      },
      "source": [
        "Separação de dados de treino e dados de teste"
      ]
    },
    {
      "cell_type": "code",
      "metadata": {
        "id": "_XDZrbfttHuk"
      },
      "source": [
        "from sklearn.model_selection import train_test_split\n",
        "X_train, X_test, y_train, y_test = train_test_split(X, y, test_size=0.2, random_state=42)"
      ],
      "execution_count": null,
      "outputs": []
    },
    {
      "cell_type": "markdown",
      "metadata": {
        "id": "YjR0kwsitTZz"
      },
      "source": [
        "Tokenização e aplicação da vetorização TF-IDF"
      ]
    },
    {
      "cell_type": "code",
      "metadata": {
        "id": "U2J6MFPRtYMi",
        "outputId": "5d25d696-53d1-4dd3-af0c-6e64438dc9b0",
        "colab": {
          "base_uri": "https://localhost:8080/"
        }
      },
      "source": [
        "from sklearn.feature_extraction.text import TfidfVectorizer\n",
        "tf = TfidfVectorizer(stop_words = stopwords.words('portuguese'))\n",
        "X_train_tf = tf.fit_transform(X_train) # ler vocabulario e vetorizar o corpus\n",
        "X_test_tf = tf.transform(X_test) # transformar o vocabulario de teste a partir da emsma transformação\n",
        "# dimensões do vetor de treinamento\n",
        "print(X_train_tf.toarray().shape)"
      ],
      "execution_count": null,
      "outputs": [
        {
          "output_type": "stream",
          "text": [
            "(180, 331)\n"
          ],
          "name": "stdout"
        }
      ]
    },
    {
      "cell_type": "markdown",
      "metadata": {
        "id": "SaDjgkZGtpmc"
      },
      "source": [
        "## 3 - Treinamento do classificador SVM"
      ]
    },
    {
      "cell_type": "code",
      "metadata": {
        "id": "4ZqhqLq5twPL"
      },
      "source": [
        "from sklearn import svm\n",
        "\n",
        "clf = svm.SVC()\n",
        "clf.fit(X_train_tf, y_train)\n",
        "\n",
        "y_train_svm_nb = clf.predict(X_train_tf)\n",
        "y_pred_svm_nb = clf.predict(X_test_tf)"
      ],
      "execution_count": null,
      "outputs": []
    },
    {
      "cell_type": "markdown",
      "metadata": {
        "id": "rOEOwD-Ut0up"
      },
      "source": [
        "## 4 - Avaliação da matriz de confusão e métricas para o conjunto de treinamento e de testes"
      ]
    },
    {
      "cell_type": "markdown",
      "metadata": {
        "id": "b6--W1lUuLls"
      },
      "source": [
        "Conjunto de treinamento"
      ]
    },
    {
      "cell_type": "code",
      "metadata": {
        "id": "_B0epIO_uOo5",
        "outputId": "bdd5e661-af85-445e-857a-2bfe0e2ec186",
        "colab": {
          "base_uri": "https://localhost:8080/",
          "height": 315
        }
      },
      "source": [
        "from sklearn.metrics import confusion_matrix\n",
        "from sklearn.metrics import f1_score, accuracy_score, precision_score\n",
        "from sklearn.metrics import accuracy_score\n",
        "import matplotlib.pyplot as plt\n",
        "import seaborn as sns\n",
        "%matplotlib inline\n",
        "\n",
        "cm = confusion_matrix(y_train, y_train_svm_nb)\n",
        "sns.heatmap(cm, annot=True, fmt='d', annot_kws={'fontsize':20}, cmap=\"YlGnBu\");\n",
        "print('F1 Score: ', f1_score(y_train, y_train_svm_nb, average='macro'))\n",
        "print('Accuracy: ', accuracy_score(y_train, y_train_svm_nb))\n",
        "print('Precision: ', precision_score(y_train, y_train_svm_nb, average='macro'))"
      ],
      "execution_count": null,
      "outputs": [
        {
          "output_type": "stream",
          "text": [
            "F1 Score:  1.0\n",
            "Accuracy:  1.0\n",
            "Precision:  1.0\n"
          ],
          "name": "stdout"
        },
        {
          "output_type": "display_data",
          "data": {
            "image/png": "[encoded data removed]",
            "text/plain": [
              "<Figure size 432x288 with 2 Axes>"
            ]
          },
          "metadata": {
            "tags": [],
            "needs_background": "light"
          }
        }
      ]
    },
    {
      "cell_type": "markdown",
      "metadata": {
        "id": "LUby_RJQuO5a"
      },
      "source": [
        "Conjunto de testes"
      ]
    },
    {
      "cell_type": "code",
      "metadata": {
        "id": "qYocXrHqtzPS",
        "outputId": "107b2dda-e212-496d-9945-7824555359ea",
        "colab": {
          "base_uri": "https://localhost:8080/",
          "height": 315
        }
      },
      "source": [
        "from sklearn.metrics import confusion_matrix\n",
        "from sklearn.metrics import f1_score, accuracy_score, precision_score\n",
        "from sklearn.metrics import accuracy_score\n",
        "import matplotlib.pyplot as plt\n",
        "import seaborn as sns\n",
        "%matplotlib inline\n",
        "\n",
        "cm = confusion_matrix(y_test, y_pred_svm_nb)\n",
        "sns.heatmap(cm, annot=True, fmt='d', annot_kws={'fontsize':20}, cmap=\"YlGnBu\");\n",
        "print('F1 Score: ', f1_score(y_test, y_pred_svm_nb, average='macro'))\n",
        "print('Accuracy: ', accuracy_score(y_test, y_pred_svm_nb))\n",
        "print('Precision: ', precision_score(y_test, y_pred_svm_nb, average='macro'))"
      ],
      "execution_count": null,
      "outputs": [
        {
          "output_type": "stream",
          "text": [
            "F1 Score:  0.8076190476190476\n",
            "Accuracy:  0.8\n",
            "Precision:  0.8636363636363636\n"
          ],
          "name": "stdout"
        },
        {
          "output_type": "display_data",
          "data": {
            "image/png": "[encoded data removed]",
            "text/plain": [
              "<Figure size 432x288 with 2 Axes>"
            ]
          },
          "metadata": {
            "tags": [],
            "needs_background": "light"
          }
        }
      ]
    },
    {
      "cell_type": "markdown",
      "metadata": {
        "id": "J_lJ_fFMBMgD"
      },
      "source": [
        "# Rede profunda baseada em LSTM"
      ]
    },
    {
      "cell_type": "markdown",
      "metadata": {
        "id": "xluYecehBMgF"
      },
      "source": [
        "## 1 - A partir daqui apresentamos os bancos de dados utilizados para análise de sentimentos. O objetivo final é o treinamento de um classificador  inicialmente focado para o português. O repositório correspondente a essa implementação é  clonado do github para utilização do dataset contido no arquivo \".csv\" através da biblioteca Pandas."
      ]
    },
    {
      "cell_type": "code",
      "metadata": {
        "id": "7DhOnUrwBMgH",
        "outputId": "8fc6255f-f1ab-4a06-e266-f0b230740ec0",
        "colab": {
          "base_uri": "https://localhost:8080/",
          "height": 134
        }
      },
      "source": [
        "!git clone https://github.com/LucaswasTaken/Acessibilidade_Parte_1_Analise_de_Sentimentos.git"
      ],
      "execution_count": null,
      "outputs": [
        {
          "output_type": "stream",
          "text": [
            "Cloning into 'Acessibilidade_Parte_1_Analise_de_Sentimentos'...\n",
            "remote: Enumerating objects: 103, done.\u001b[K\n",
            "remote: Counting objects: 100% (103/103), done.\u001b[K\n",
            "remote: Compressing objects: 100% (103/103), done.\u001b[K\n",
            "remote: Total 103 (delta 49), reused 0 (delta 0), pack-reused 0\u001b[K\n",
            "Receiving objects: 100% (103/103), 652.00 KiB | 6.52 MiB/s, done.\n",
            "Resolving deltas: 100% (49/49), done.\n"
          ],
          "name": "stdout"
        }
      ]
    },
    {
      "cell_type": "code",
      "metadata": {
        "id": "lDM-pJAeBMgN"
      },
      "source": [
        "import pandas as pd"
      ],
      "execution_count": null,
      "outputs": []
    },
    {
      "cell_type": "code",
      "metadata": {
        "id": "GcUuPZl7BMgO"
      },
      "source": [
        "data = pd.read_csv('/content/Acessibilidade_Parte_1_Analise_de_Sentimentos/dataset_sentimentos_augmented.csv').dropna()"
      ],
      "execution_count": null,
      "outputs": []
    },
    {
      "cell_type": "code",
      "metadata": {
        "id": "9mU4kAknBMgQ",
        "outputId": "caba9db6-4c2e-4bcf-aa3e-48962dd108c3",
        "colab": {
          "base_uri": "https://localhost:8080/",
          "height": 402
        }
      },
      "source": [
        "data"
      ],
      "execution_count": null,
      "outputs": [
        {
          "output_type": "execute_result",
          "data": {
            "text/html": [
              "<div>\n",
              "<style scoped>\n",
              "    .dataframe tbody tr th:only-of-type {\n",
              "        vertical-align: middle;\n",
              "    }\n",
              "\n",
              "    .dataframe tbody tr th {\n",
              "        vertical-align: top;\n",
              "    }\n",
              "\n",
              "    .dataframe thead th {\n",
              "        text-align: right;\n",
              "    }\n",
              "</style>\n",
              "<table border=\"1\" class=\"dataframe\">\n",
              "  <thead>\n",
              "    <tr style=\"text-align: right;\">\n",
              "      <th></th>\n",
              "      <th>Unnamed: 0</th>\n",
              "      <th>Frase</th>\n",
              "      <th>Sentimento</th>\n",
              "    </tr>\n",
              "  </thead>\n",
              "  <tbody>\n",
              "    <tr>\n",
              "      <th>0</th>\n",
              "      <td>0</td>\n",
              "      <td>não precisei pagar o ingresso</td>\n",
              "      <td>alegria</td>\n",
              "    </tr>\n",
              "    <tr>\n",
              "      <th>1</th>\n",
              "      <td>1</td>\n",
              "      <td>se eu ajeitar tudo fica bem</td>\n",
              "      <td>alegria</td>\n",
              "    </tr>\n",
              "    <tr>\n",
              "      <th>2</th>\n",
              "      <td>2</td>\n",
              "      <td>minha fortuna ultrapassa a sua</td>\n",
              "      <td>alegria</td>\n",
              "    </tr>\n",
              "    <tr>\n",
              "      <th>3</th>\n",
              "      <td>3</td>\n",
              "      <td>sou muito afortunado</td>\n",
              "      <td>alegria</td>\n",
              "    </tr>\n",
              "    <tr>\n",
              "      <th>4</th>\n",
              "      <td>4</td>\n",
              "      <td>e benefico para todos esta nova medida</td>\n",
              "      <td>alegria</td>\n",
              "    </tr>\n",
              "    <tr>\n",
              "      <th>...</th>\n",
              "      <td>...</td>\n",
              "      <td>...</td>\n",
              "      <td>...</td>\n",
              "    </tr>\n",
              "    <tr>\n",
              "      <th>220</th>\n",
              "      <td>220</td>\n",
              "      <td>como com a compulsão após a depressão</td>\n",
              "      <td>tristeza</td>\n",
              "    </tr>\n",
              "    <tr>\n",
              "      <th>221</th>\n",
              "      <td>221</td>\n",
              "      <td>Estou me desencorajando de viver</td>\n",
              "      <td>tristeza</td>\n",
              "    </tr>\n",
              "    <tr>\n",
              "      <th>222</th>\n",
              "      <td>222</td>\n",
              "      <td>ele desencoraja meus desejos</td>\n",
              "      <td>tristeza</td>\n",
              "    </tr>\n",
              "    <tr>\n",
              "      <th>223</th>\n",
              "      <td>223</td>\n",
              "      <td>isto é deprimente por dentro</td>\n",
              "      <td>tristeza</td>\n",
              "    </tr>\n",
              "    <tr>\n",
              "      <th>224</th>\n",
              "      <td>224</td>\n",
              "      <td>Acho que isto é defeituoso</td>\n",
              "      <td>tristeza</td>\n",
              "    </tr>\n",
              "  </tbody>\n",
              "</table>\n",
              "<p>225 rows × 3 columns</p>\n",
              "</div>"
            ],
            "text/plain": [
              "     Unnamed: 0                                   Frase Sentimento\n",
              "0             0           não precisei pagar o ingresso    alegria\n",
              "1             1             se eu ajeitar tudo fica bem    alegria\n",
              "2             2          minha fortuna ultrapassa a sua    alegria\n",
              "3             3                    sou muito afortunado    alegria\n",
              "4             4  e benefico para todos esta nova medida    alegria\n",
              "..          ...                                     ...        ...\n",
              "220         220   como com a compulsão após a depressão   tristeza\n",
              "221         221        Estou me desencorajando de viver   tristeza\n",
              "222         222            ele desencoraja meus desejos   tristeza\n",
              "223         223            isto é deprimente por dentro   tristeza\n",
              "224         224              Acho que isto é defeituoso   tristeza\n",
              "\n",
              "[225 rows x 3 columns]"
            ]
          },
          "metadata": {
            "tags": []
          },
          "execution_count": 9
        }
      ]
    },
    {
      "cell_type": "code",
      "metadata": {
        "id": "WBZKahh-BMgS",
        "outputId": "48289f0f-f8fb-4bc0-96f7-3afb97f47ac8",
        "colab": {
          "base_uri": "https://localhost:8080/",
          "height": 34
        }
      },
      "source": [
        "data['Sentimento'].unique()"
      ],
      "execution_count": null,
      "outputs": [
        {
          "output_type": "execute_result",
          "data": {
            "text/plain": [
              "array(['alegria', 'raiva', 'tristeza'], dtype=object)"
            ]
          },
          "metadata": {
            "tags": []
          },
          "execution_count": 10
        }
      ]
    },
    {
      "cell_type": "markdown",
      "metadata": {
        "id": "p3_P40LmBMgU"
      },
      "source": [
        "## 2 - Tratamento e tokenização vetorial dos dados"
      ]
    },
    {
      "cell_type": "markdown",
      "metadata": {
        "id": "w6OiM1rJBMgV"
      },
      "source": [
        "Remoção das stopwords, pontuação e acentos"
      ]
    },
    {
      "cell_type": "code",
      "metadata": {
        "id": "Izc1YPXyBMgV",
        "outputId": "e15b0e2d-dd09-4c18-f267-a790e3a7a4b5",
        "colab": {
          "base_uri": "https://localhost:8080/",
          "height": 121
        }
      },
      "source": [
        "!pip install unidecode"
      ],
      "execution_count": null,
      "outputs": [
        {
          "output_type": "stream",
          "text": [
            "Collecting unidecode\n",
            "\u001b[?25l  Downloading https://files.pythonhosted.org/packages/d0/42/d9edfed04228bacea2d824904cae367ee9efd05e6cce7ceaaedd0b0ad964/Unidecode-1.1.1-py2.py3-none-any.whl (238kB)\n",
            "\u001b[K     |████████████████████████████████| 245kB 3.4MB/s \n",
            "\u001b[?25hInstalling collected packages: unidecode\n",
            "Successfully installed unidecode-1.1.1\n"
          ],
          "name": "stdout"
        }
      ]
    },
    {
      "cell_type": "code",
      "metadata": {
        "id": "JNOae0IoBMgX",
        "outputId": "6ae88cc5-6daf-4f62-cef1-cbc893a18155",
        "colab": {
          "base_uri": "https://localhost:8080/",
          "height": 84
        }
      },
      "source": [
        "import nltk\n",
        "import re\n",
        "nltk.download('punkt')\n",
        "nltk.download('stopwords')\n",
        "import string\n",
        "from nltk.corpus import stopwords\n",
        "from unidecode import unidecode\n",
        "from tensorflow.keras.preprocessing.sequence import pad_sequences\n",
        "\n",
        "clean_text = []\n",
        "for text in data['Frase']:\n",
        "  text = unidecode(text.lower())\n",
        "  text= re.sub(r'\\[[0-9]*\\]', ' ', text)\n",
        "  text = re.sub(r'\\s+', ' ', text)\n",
        "  text = re.sub('[^a-zA-Z]', ' ', text )\n",
        "  text = re.sub(r'\\s+', ' ', text)  \n",
        "  text = re.sub('[%s]' % re.escape(string.punctuation), ' ', text)\n",
        "  clean_text.append(text)\n",
        "\n",
        "data['clean_text'] = clean_text\n",
        "\n",
        "y = []\n",
        "for i in range(len(data['Sentimento'])):\n",
        "  if(data['Sentimento'].iloc[i]=='alegria'):\n",
        "    y.append(2)\n",
        "  elif(data['Sentimento'].iloc[i]=='tristeza'):\n",
        "    y.append(1)\n",
        "  else:\n",
        "    y.append(0)"
      ],
      "execution_count": null,
      "outputs": [
        {
          "output_type": "stream",
          "text": [
            "[nltk_data] Downloading package punkt to /root/nltk_data...\n",
            "[nltk_data]   Unzipping tokenizers/punkt.zip.\n",
            "[nltk_data] Downloading package stopwords to /root/nltk_data...\n",
            "[nltk_data]   Unzipping corpora/stopwords.zip.\n"
          ],
          "name": "stdout"
        }
      ]
    },
    {
      "cell_type": "markdown",
      "metadata": {
        "id": "9Mjzu8igKv6u"
      },
      "source": [
        "## 3 - Geração das sequencias utilizadas pela rede LSTM recorrente"
      ]
    },
    {
      "cell_type": "code",
      "metadata": {
        "id": "1aTQG3jtBMgZ"
      },
      "source": [
        "import pickle\n",
        "import numpy as np\n",
        "from tensorflow.keras.preprocessing.text import Tokenizer\n",
        "from tensorflow.keras.utils import to_categorical\n",
        "from tensorflow.keras.preprocessing.sequence import pad_sequences\n",
        "from tensorflow.keras.models import Sequential\n",
        "from tensorflow.keras.layers import Dense\n",
        "from tensorflow.keras.layers import LSTM\n",
        "from tensorflow.keras.layers import Dropout\n",
        "from tensorflow.keras.layers import Embedding\n",
        "\n",
        "class Preprocessing(): \n",
        "    def __init__(self,input_text,categorias):\n",
        "        self.data = input_text\n",
        "        self.classes = categorias\n",
        "        self.vocab_size = None\n",
        "        self.encoded_data = None\n",
        "        self.max_length = None\n",
        "        self.sequences = None\n",
        "        self.sequencesy = None\n",
        "        self.x = None\n",
        "        self.y = None\n",
        "        self.tokenizer = None\n",
        "        \n",
        "    def encode_data(self):\n",
        "        self.tokenizer = Tokenizer()\n",
        "        self.tokenizer.fit_on_texts(self.data)\n",
        "        with open('tokenizer.pickle', 'wb') as handle:\n",
        "          pickle.dump(self.tokenizer, handle, protocol=pickle.HIGHEST_PROTOCOL)\n",
        "        self.encoded_data = self.tokenizer.texts_to_sequences(self.data)\n",
        "        # print(self.encoded_data)\n",
        "        self.vocab_size = len(self.tokenizer.word_counts)+1\n",
        "\n",
        "    def generate_sequence(self):\n",
        "        seq_list = list()\n",
        "        seq_listy = list()\n",
        "        for i in range(len(self.encoded_data)):\n",
        "            item = self.encoded_data[i]\n",
        "            l = len(item)\n",
        "            for id in range(1,l):\n",
        "                seq_list.append(item[:id+1])\n",
        "                seq_listy.append(self.classes[i])\n",
        "        self.max_length = max([len(seq) for seq in seq_list])\n",
        "        self.sequences = pad_sequences(seq_list, maxlen=self.max_length, padding='pre')\n",
        "        self.sequences = np.array(self.sequences)\n",
        "        print(self.sequences)\n",
        "        self.sequencesy  = seq_listy\n",
        "    def get_data(self):\n",
        "        self.x = self.sequences\n",
        "        self.y = self.sequencesy\n",
        "        self.y = to_categorical(self.y,num_classes=3)"
      ],
      "execution_count": null,
      "outputs": []
    },
    {
      "cell_type": "code",
      "metadata": {
        "id": "CbWunPF7J7-f",
        "outputId": "c9383d8f-cc51-4bb3-b5c0-3852ad2ed6fc",
        "colab": {
          "base_uri": "https://localhost:8080/",
          "height": 134
        }
      },
      "source": [
        "pr = Preprocessing(data['clean_text'].values,y)\n",
        "pr.encode_data()\n",
        "pr.generate_sequence()\n",
        "pr.get_data()"
      ],
      "execution_count": null,
      "outputs": [
        {
          "output_type": "stream",
          "text": [
            "[[  0   0   0 ...   0   3 230]\n",
            " [  0   0   0 ...   3 230  63]\n",
            " [  0   0   0 ... 230  63   5]\n",
            " ...\n",
            " [  0   0   0 ... 226   9  82]\n",
            " [  0   0   0 ...   9  82   2]\n",
            " [  0   0   0 ...  82   2 227]]\n"
          ],
          "name": "stdout"
        }
      ]
    },
    {
      "cell_type": "markdown",
      "metadata": {
        "id": "4JajaSxxBMgb"
      },
      "source": [
        "## 4 - Criando modelo LSTM para treinamento e separação de dados de treino e dados de teste"
      ]
    },
    {
      "cell_type": "code",
      "metadata": {
        "id": "BtMWs0cNLzLw"
      },
      "source": [
        "from sklearn.model_selection import train_test_split\n",
        "import tensorflow as tf\n",
        "class Model():\n",
        "    def __init__(self):\n",
        "        self.model = None\n",
        "        self.history = None\n",
        "        self.x = None\n",
        "        self.y = None\n",
        "        self.input_train = None\n",
        "        self.input_test = None\n",
        "        self.output_train = None\n",
        "        self.output_test = None\n",
        "        self.vocab_size = pr.vocab_size\n",
        "        self.max_len = pr.max_length\n",
        "        \n",
        "        \n",
        "    def create_model(self):\n",
        "        self.model = Sequential()\n",
        "        self.model.add(Embedding(self.vocab_size,10,input_length=self.max_len))\n",
        "        self.model.add(LSTM(100))\n",
        "        self.model.add(Dropout(0.1))\n",
        "        self.model.add(Dense(3,activation='softmax'))\n",
        "        self.model.compile(loss='categorical_crossentropy',optimizer='adam',metrics=['accuracy'])\n",
        "        print(self.model.summary())\n",
        "    def run(self,epochs,batch_size):\n",
        "        seed = 7\n",
        "        np.random.seed(seed)\n",
        "        self.input_train, self.input_test, self.output_train, self.output_test = train_test_split(self.x, self.y, test_size=0.2, random_state=seed, stratify=self.y)\n",
        "        self.history = self.model.fit(self.input_train, self.output_train,validation_data=(self.input_test,self.output_test), epochs=epochs,batch_size=batch_size,validation_split=0.2)\n",
        "        \n",
        "    def save(self):\n",
        "        self.model.save(\"class_prediction_model.h5\")"
      ],
      "execution_count": null,
      "outputs": []
    },
    {
      "cell_type": "code",
      "metadata": {
        "id": "7dKF6Kx1L2LJ",
        "outputId": "6ceb9d7c-1ec9-42d1-8138-76d01fe2c08c",
        "colab": {
          "base_uri": "https://localhost:8080/",
          "height": 302
        }
      },
      "source": [
        "model_obj = Model()\n",
        "model_obj.x = pr.x\n",
        "model_obj.y = pr.y\n",
        "model_obj.create_model()"
      ],
      "execution_count": null,
      "outputs": [
        {
          "output_type": "stream",
          "text": [
            "Model: \"sequential\"\n",
            "_________________________________________________________________\n",
            "Layer (type)                 Output Shape              Param #   \n",
            "=================================================================\n",
            "embedding (Embedding)        (None, 11, 10)            4390      \n",
            "_________________________________________________________________\n",
            "lstm (LSTM)                  (None, 100)               44400     \n",
            "_________________________________________________________________\n",
            "dropout (Dropout)            (None, 100)               0         \n",
            "_________________________________________________________________\n",
            "dense (Dense)                (None, 3)                 303       \n",
            "=================================================================\n",
            "Total params: 49,093\n",
            "Trainable params: 49,093\n",
            "Non-trainable params: 0\n",
            "_________________________________________________________________\n",
            "None\n"
          ],
          "name": "stdout"
        }
      ]
    },
    {
      "cell_type": "markdown",
      "metadata": {
        "id": "gf442H5cL-jA"
      },
      "source": [
        "##5 - Treinamento do modelo LSTM"
      ]
    },
    {
      "cell_type": "code",
      "metadata": {
        "id": "ASlUHzfXL8_Z",
        "outputId": "d28b3f82-1a7b-4cc3-e5d5-fb92f5cc99f9",
        "colab": {
          "base_uri": "https://localhost:8080/",
          "height": 185
        }
      },
      "source": [
        "model_obj.run(30,100)\n",
        "model_obj.save()"
      ],
      "execution_count": null,
      "outputs": [
        {
          "output_type": "stream",
          "text": [
            "Epoch 1/5\n",
            "7/7 [==============================] - 0s 25ms/step - loss: 0.2265 - accuracy: 0.9242 - val_loss: 0.2352 - val_accuracy: 0.9273\n",
            "Epoch 2/5\n",
            "7/7 [==============================] - 0s 21ms/step - loss: 0.2041 - accuracy: 0.9348 - val_loss: 0.1740 - val_accuracy: 0.9273\n",
            "Epoch 3/5\n",
            "7/7 [==============================] - 0s 22ms/step - loss: 0.1621 - accuracy: 0.9470 - val_loss: 0.1724 - val_accuracy: 0.9212\n",
            "Epoch 4/5\n",
            "7/7 [==============================] - 0s 21ms/step - loss: 0.1643 - accuracy: 0.9364 - val_loss: 0.1530 - val_accuracy: 0.9394\n",
            "Epoch 5/5\n",
            "7/7 [==============================] - 0s 24ms/step - loss: 0.1591 - accuracy: 0.9439 - val_loss: 0.1523 - val_accuracy: 0.9455\n"
          ],
          "name": "stdout"
        }
      ]
    },
    {
      "cell_type": "code",
      "metadata": {
        "id": "Cv8U_eDtNac-",
        "outputId": "24692e1f-45c5-44b9-e23a-591fb9de4e5c",
        "colab": {
          "base_uri": "https://localhost:8080/",
          "height": 34
        }
      },
      "source": [
        "model_obj.output_test[2]"
      ],
      "execution_count": null,
      "outputs": [
        {
          "output_type": "execute_result",
          "data": {
            "text/plain": [
              "array([1., 0., 0.], dtype=float32)"
            ]
          },
          "metadata": {
            "tags": []
          },
          "execution_count": 32
        }
      ]
    },
    {
      "cell_type": "markdown",
      "metadata": {
        "id": "zphsO9HwMOTM"
      },
      "source": [
        "##6 - Predição dos dados de teste e métricas de avaliação"
      ]
    },
    {
      "cell_type": "code",
      "metadata": {
        "id": "bSvI3XAfMaK3"
      },
      "source": [
        "class Prediction():\n",
        "    def __init__(self,tokenizer,max_len):\n",
        "        self.model = None\n",
        "        self.tokenizer = tokenizer\n",
        "        self.idx2word = {v:k for k,v in self.tokenizer.word_index.items()}\n",
        "        self.max_length = max_len+1\n",
        "    \n",
        "    def load_model(self):\n",
        "        self.model = load_model(\"class_prediction_model.h5\")\n",
        "        \n",
        "    def predict_words(self,encoded_data,num_words):\n",
        "        padded_data = pad_sequences([encoded_data],maxlen = self.max_length-1,padding='pre')\n",
        "        y_preds = self.model.predict(padded_data)\n",
        "        return y_preds"
      ],
      "execution_count": null,
      "outputs": []
    },
    {
      "cell_type": "code",
      "metadata": {
        "id": "0axYypgQMcxF"
      },
      "source": [
        "from tensorflow.keras.models import load_model\n",
        "pred = Prediction(pr.tokenizer,pr.max_length)    \n",
        "pred.load_model()"
      ],
      "execution_count": null,
      "outputs": []
    },
    {
      "cell_type": "code",
      "metadata": {
        "id": "wnlzijoKMqjX",
        "outputId": "91997322-ac0c-47f4-9657-75ad71ccb379",
        "colab": {
          "base_uri": "https://localhost:8080/",
          "height": 315
        }
      },
      "source": [
        "y_pred_class = []\n",
        "y_real_clas = []\n",
        "for i in range(len(model_obj.output_test)):\n",
        "  y_pred = pred.predict_words(model_obj.input_test[i],1)\n",
        "  y_pred_class.append(np.argmax(y_pred))\n",
        "  y_real_clas.append(np.argmax(model_obj.output_test[i]))\n",
        "from sklearn.metrics import confusion_matrix\n",
        "from sklearn.metrics import f1_score, accuracy_score, precision_score\n",
        "from sklearn.metrics import accuracy_score\n",
        "import matplotlib.pyplot as plt\n",
        "import seaborn as sns\n",
        "%matplotlib inline\n",
        "\n",
        "cm = confusion_matrix(y_real_clas, y_pred_class)\n",
        "sns.heatmap(cm, annot=True, fmt='d', annot_kws={'fontsize':20}, cmap=\"YlGnBu\");\n",
        "print('F1 Score: ', f1_score(y_real_clas, y_pred_class, average='macro'))\n",
        "print('Accuracy: ', accuracy_score(y_real_clas, y_pred_class))\n",
        "print('Precision: ', precision_score(y_real_clas, y_pred_class, average='macro'))"
      ],
      "execution_count": null,
      "outputs": [
        {
          "output_type": "stream",
          "text": [
            "F1 Score:  0.9152969363846166\n",
            "Accuracy:  0.9178743961352657\n",
            "Precision:  0.9181547200145129\n"
          ],
          "name": "stdout"
        },
        {
          "output_type": "display_data",
          "data": {
            "image/png": "[encoded data removed]",
            "text/plain": [
              "<Figure size 432x288 with 2 Axes>"
            ]
          },
          "metadata": {
            "tags": [],
            "needs_background": "light"
          }
        }
      ]
    },
    {
      "cell_type": "markdown",
      "metadata": {
        "id": "MZ3Vm1IV4ycA"
      },
      "source": [
        "# Bert"
      ]
    },
    {
      "cell_type": "markdown",
      "metadata": {
        "id": "Hgz7QD90MKkT"
      },
      "source": [
        "## 1 -As primeiras celulas apresentam as configurações do Bert."
      ]
    },
    {
      "cell_type": "code",
      "metadata": {
        "id": "E9FwPcUFIQi3",
        "outputId": "8d55e518-1594-4361-9fc9-385ff991b0e5",
        "colab": {
          "base_uri": "https://localhost:8080/"
        }
      },
      "source": [
        "!pip install transformers"
      ],
      "execution_count": null,
      "outputs": [
        {
          "output_type": "stream",
          "text": [
            "Collecting transformers\n",
            "  Using cached https://files.pythonhosted.org/packages/19/22/aff234f4a841f8999e68a7a94bdd4b60b4cebcfeca5d67d61cd08c9179de/transformers-3.3.1-py3-none-any.whl\n",
            "Requirement already satisfied: regex!=2019.12.17 in /usr/local/lib/python3.6/dist-packages (from transformers) (2019.12.20)\n",
            "Collecting sacremoses\n",
            "\u001b[?25l  Downloading https://files.pythonhosted.org/packages/7d/34/09d19aff26edcc8eb2a01bed8e98f13a1537005d31e95233fd48216eed10/sacremoses-0.0.43.tar.gz (883kB)\n",
            "\u001b[K     |████████████████████████████████| 890kB 3.1MB/s \n",
            "\u001b[?25hRequirement already satisfied: requests in /usr/local/lib/python3.6/dist-packages (from transformers) (2.23.0)\n",
            "Requirement already satisfied: filelock in /usr/local/lib/python3.6/dist-packages (from transformers) (3.0.12)\n",
            "Collecting tokenizers==0.8.1.rc2\n",
            "\u001b[?25l  Downloading https://files.pythonhosted.org/packages/80/83/8b9fccb9e48eeb575ee19179e2bdde0ee9a1904f97de5f02d19016b8804f/tokenizers-0.8.1rc2-cp36-cp36m-manylinux1_x86_64.whl (3.0MB)\n",
            "\u001b[K     |████████████████████████████████| 3.0MB 24.6MB/s \n",
            "\u001b[?25hRequirement already satisfied: tqdm>=4.27 in /usr/local/lib/python3.6/dist-packages (from transformers) (4.41.1)\n",
            "Requirement already satisfied: numpy in /usr/local/lib/python3.6/dist-packages (from transformers) (1.18.5)\n",
            "Collecting sentencepiece!=0.1.92\n",
            "\u001b[?25l  Downloading https://files.pythonhosted.org/packages/d4/a4/d0a884c4300004a78cca907a6ff9a5e9fe4f090f5d95ab341c53d28cbc58/sentencepiece-0.1.91-cp36-cp36m-manylinux1_x86_64.whl (1.1MB)\n",
            "\u001b[K     |████████████████████████████████| 1.1MB 48.0MB/s \n",
            "\u001b[?25hRequirement already satisfied: packaging in /usr/local/lib/python3.6/dist-packages (from transformers) (20.4)\n",
            "Requirement already satisfied: dataclasses; python_version < \"3.7\" in /usr/local/lib/python3.6/dist-packages (from transformers) (0.7)\n",
            "Requirement already satisfied: six in /usr/local/lib/python3.6/dist-packages (from sacremoses->transformers) (1.15.0)\n",
            "Requirement already satisfied: click in /usr/local/lib/python3.6/dist-packages (from sacremoses->transformers) (7.1.2)\n",
            "Requirement already satisfied: joblib in /usr/local/lib/python3.6/dist-packages (from sacremoses->transformers) (0.16.0)\n",
            "Requirement already satisfied: idna<3,>=2.5 in /usr/local/lib/python3.6/dist-packages (from requests->transformers) (2.10)\n",
            "Requirement already satisfied: certifi>=2017.4.17 in /usr/local/lib/python3.6/dist-packages (from requests->transformers) (2020.6.20)\n",
            "Requirement already satisfied: chardet<4,>=3.0.2 in /usr/local/lib/python3.6/dist-packages (from requests->transformers) (3.0.4)\n",
            "Requirement already satisfied: urllib3!=1.25.0,!=1.25.1,<1.26,>=1.21.1 in /usr/local/lib/python3.6/dist-packages (from requests->transformers) (1.24.3)\n",
            "Requirement already satisfied: pyparsing>=2.0.2 in /usr/local/lib/python3.6/dist-packages (from packaging->transformers) (2.4.7)\n",
            "Building wheels for collected packages: sacremoses\n",
            "  Building wheel for sacremoses (setup.py) ... \u001b[?25l\u001b[?25hdone\n",
            "  Created wheel for sacremoses: filename=sacremoses-0.0.43-cp36-none-any.whl size=893257 sha256=5455bb1f83c3967227b0b083010b8b5bedffd1a252885292e7646a700fe8f41d\n",
            "  Stored in directory: /root/.cache/pip/wheels/29/3c/fd/7ce5c3f0666dab31a50123635e6fb5e19ceb42ce38d4e58f45\n",
            "Successfully built sacremoses\n",
            "Installing collected packages: sacremoses, tokenizers, sentencepiece, transformers\n",
            "Successfully installed sacremoses-0.0.43 sentencepiece-0.1.91 tokenizers-0.8.1rc2 transformers-3.3.1\n"
          ],
          "name": "stdout"
        }
      ]
    },
    {
      "cell_type": "code",
      "metadata": {
        "id": "pVjfpuqvJBDC",
        "outputId": "5c5b054a-2968-4a72-ab04-1a16052057f1",
        "colab": {
          "base_uri": "https://localhost:8080/"
        }
      },
      "source": [
        "import tensorflow as tf\n",
        "import transformers #importando o pacote para uso de transformer  (bert)\n",
        "\n",
        "# Tentando detectar o hardware. O Bert funcionará melhor se a placa de vídeo for uma TPU ou tiver tensor cores\n",
        "# Tentativa de detecção da TPU\n",
        "try:\n",
        "    tpu = tf.distribute.cluster_resolver.TPUClusterResolver()\n",
        "    print('Running on TPU ', tpu.master())\n",
        "except ValueError:\n",
        "    tpu = None\n",
        "if tpu:\n",
        "    tf.config.experimental_connect_to_cluster(tpu)\n",
        "    tf.tpu.experimental.initialize_tpu_system(tpu)\n",
        "    strategy = tf.distribute.experimental.TPUStrategy(tpu)\n",
        "\n",
        "\n",
        "#Caso não ache a TPU, utilizar dispositivo disponível\n",
        "else:\n",
        "    strategy = tf.distribute.get_strategy()\n",
        "print(\"REPLICAS: \", strategy.num_replicas_in_sync)"
      ],
      "execution_count": null,
      "outputs": [
        {
          "output_type": "stream",
          "text": [
            "INFO:absl:Entering into master device scope: /job:worker/replica:0/task:0/device:CPU:0\n"
          ],
          "name": "stderr"
        },
        {
          "output_type": "stream",
          "text": [
            "Running on TPU  grpc://10.15.160.218:8470\n",
            "INFO:tensorflow:Initializing the TPU system: grpc://10.15.160.218:8470\n"
          ],
          "name": "stdout"
        },
        {
          "output_type": "stream",
          "text": [
            "INFO:tensorflow:Initializing the TPU system: grpc://10.15.160.218:8470\n"
          ],
          "name": "stderr"
        },
        {
          "output_type": "stream",
          "text": [
            "INFO:tensorflow:Clearing out eager caches\n"
          ],
          "name": "stdout"
        },
        {
          "output_type": "stream",
          "text": [
            "INFO:tensorflow:Clearing out eager caches\n"
          ],
          "name": "stderr"
        },
        {
          "output_type": "stream",
          "text": [
            "INFO:tensorflow:Finished initializing TPU system.\n"
          ],
          "name": "stdout"
        },
        {
          "output_type": "stream",
          "text": [
            "INFO:tensorflow:Finished initializing TPU system.\n",
            "WARNING:absl:`tf.distribute.experimental.TPUStrategy` is deprecated, please use  the non experimental symbol `tf.distribute.TPUStrategy` instead.\n"
          ],
          "name": "stderr"
        },
        {
          "output_type": "stream",
          "text": [
            "INFO:tensorflow:Found TPU system:\n"
          ],
          "name": "stdout"
        },
        {
          "output_type": "stream",
          "text": [
            "INFO:tensorflow:Found TPU system:\n"
          ],
          "name": "stderr"
        },
        {
          "output_type": "stream",
          "text": [
            "INFO:tensorflow:*** Num TPU Cores: 8\n"
          ],
          "name": "stdout"
        },
        {
          "output_type": "stream",
          "text": [
            "INFO:tensorflow:*** Num TPU Cores: 8\n"
          ],
          "name": "stderr"
        },
        {
          "output_type": "stream",
          "text": [
            "INFO:tensorflow:*** Num TPU Workers: 1\n"
          ],
          "name": "stdout"
        },
        {
          "output_type": "stream",
          "text": [
            "INFO:tensorflow:*** Num TPU Workers: 1\n"
          ],
          "name": "stderr"
        },
        {
          "output_type": "stream",
          "text": [
            "INFO:tensorflow:*** Num TPU Cores Per Worker: 8\n"
          ],
          "name": "stdout"
        },
        {
          "output_type": "stream",
          "text": [
            "INFO:tensorflow:*** Num TPU Cores Per Worker: 8\n"
          ],
          "name": "stderr"
        },
        {
          "output_type": "stream",
          "text": [
            "INFO:tensorflow:*** Available Device: _DeviceAttributes(/job:localhost/replica:0/task:0/device:CPU:0, CPU, 0, 0)\n"
          ],
          "name": "stdout"
        },
        {
          "output_type": "stream",
          "text": [
            "INFO:tensorflow:*** Available Device: _DeviceAttributes(/job:localhost/replica:0/task:0/device:CPU:0, CPU, 0, 0)\n"
          ],
          "name": "stderr"
        },
        {
          "output_type": "stream",
          "text": [
            "INFO:tensorflow:*** Available Device: _DeviceAttributes(/job:localhost/replica:0/task:0/device:XLA_CPU:0, XLA_CPU, 0, 0)\n"
          ],
          "name": "stdout"
        },
        {
          "output_type": "stream",
          "text": [
            "INFO:tensorflow:*** Available Device: _DeviceAttributes(/job:localhost/replica:0/task:0/device:XLA_CPU:0, XLA_CPU, 0, 0)\n"
          ],
          "name": "stderr"
        },
        {
          "output_type": "stream",
          "text": [
            "INFO:tensorflow:*** Available Device: _DeviceAttributes(/job:worker/replica:0/task:0/device:CPU:0, CPU, 0, 0)\n"
          ],
          "name": "stdout"
        },
        {
          "output_type": "stream",
          "text": [
            "INFO:tensorflow:*** Available Device: _DeviceAttributes(/job:worker/replica:0/task:0/device:CPU:0, CPU, 0, 0)\n"
          ],
          "name": "stderr"
        },
        {
          "output_type": "stream",
          "text": [
            "INFO:tensorflow:*** Available Device: _DeviceAttributes(/job:worker/replica:0/task:0/device:TPU:0, TPU, 0, 0)\n"
          ],
          "name": "stdout"
        },
        {
          "output_type": "stream",
          "text": [
            "INFO:tensorflow:*** Available Device: _DeviceAttributes(/job:worker/replica:0/task:0/device:TPU:0, TPU, 0, 0)\n"
          ],
          "name": "stderr"
        },
        {
          "output_type": "stream",
          "text": [
            "INFO:tensorflow:*** Available Device: _DeviceAttributes(/job:worker/replica:0/task:0/device:TPU:1, TPU, 0, 0)\n"
          ],
          "name": "stdout"
        },
        {
          "output_type": "stream",
          "text": [
            "INFO:tensorflow:*** Available Device: _DeviceAttributes(/job:worker/replica:0/task:0/device:TPU:1, TPU, 0, 0)\n"
          ],
          "name": "stderr"
        },
        {
          "output_type": "stream",
          "text": [
            "INFO:tensorflow:*** Available Device: _DeviceAttributes(/job:worker/replica:0/task:0/device:TPU:2, TPU, 0, 0)\n"
          ],
          "name": "stdout"
        },
        {
          "output_type": "stream",
          "text": [
            "INFO:tensorflow:*** Available Device: _DeviceAttributes(/job:worker/replica:0/task:0/device:TPU:2, TPU, 0, 0)\n"
          ],
          "name": "stderr"
        },
        {
          "output_type": "stream",
          "text": [
            "INFO:tensorflow:*** Available Device: _DeviceAttributes(/job:worker/replica:0/task:0/device:TPU:3, TPU, 0, 0)\n"
          ],
          "name": "stdout"
        },
        {
          "output_type": "stream",
          "text": [
            "INFO:tensorflow:*** Available Device: _DeviceAttributes(/job:worker/replica:0/task:0/device:TPU:3, TPU, 0, 0)\n"
          ],
          "name": "stderr"
        },
        {
          "output_type": "stream",
          "text": [
            "INFO:tensorflow:*** Available Device: _DeviceAttributes(/job:worker/replica:0/task:0/device:TPU:4, TPU, 0, 0)\n"
          ],
          "name": "stdout"
        },
        {
          "output_type": "stream",
          "text": [
            "INFO:tensorflow:*** Available Device: _DeviceAttributes(/job:worker/replica:0/task:0/device:TPU:4, TPU, 0, 0)\n"
          ],
          "name": "stderr"
        },
        {
          "output_type": "stream",
          "text": [
            "INFO:tensorflow:*** Available Device: _DeviceAttributes(/job:worker/replica:0/task:0/device:TPU:5, TPU, 0, 0)\n"
          ],
          "name": "stdout"
        },
        {
          "output_type": "stream",
          "text": [
            "INFO:tensorflow:*** Available Device: _DeviceAttributes(/job:worker/replica:0/task:0/device:TPU:5, TPU, 0, 0)\n"
          ],
          "name": "stderr"
        },
        {
          "output_type": "stream",
          "text": [
            "INFO:tensorflow:*** Available Device: _DeviceAttributes(/job:worker/replica:0/task:0/device:TPU:6, TPU, 0, 0)\n"
          ],
          "name": "stdout"
        },
        {
          "output_type": "stream",
          "text": [
            "INFO:tensorflow:*** Available Device: _DeviceAttributes(/job:worker/replica:0/task:0/device:TPU:6, TPU, 0, 0)\n"
          ],
          "name": "stderr"
        },
        {
          "output_type": "stream",
          "text": [
            "INFO:tensorflow:*** Available Device: _DeviceAttributes(/job:worker/replica:0/task:0/device:TPU:7, TPU, 0, 0)\n"
          ],
          "name": "stdout"
        },
        {
          "output_type": "stream",
          "text": [
            "INFO:tensorflow:*** Available Device: _DeviceAttributes(/job:worker/replica:0/task:0/device:TPU:7, TPU, 0, 0)\n"
          ],
          "name": "stderr"
        },
        {
          "output_type": "stream",
          "text": [
            "INFO:tensorflow:*** Available Device: _DeviceAttributes(/job:worker/replica:0/task:0/device:TPU_SYSTEM:0, TPU_SYSTEM, 0, 0)\n"
          ],
          "name": "stdout"
        },
        {
          "output_type": "stream",
          "text": [
            "INFO:tensorflow:*** Available Device: _DeviceAttributes(/job:worker/replica:0/task:0/device:TPU_SYSTEM:0, TPU_SYSTEM, 0, 0)\n"
          ],
          "name": "stderr"
        },
        {
          "output_type": "stream",
          "text": [
            "INFO:tensorflow:*** Available Device: _DeviceAttributes(/job:worker/replica:0/task:0/device:XLA_CPU:0, XLA_CPU, 0, 0)\n"
          ],
          "name": "stdout"
        },
        {
          "output_type": "stream",
          "text": [
            "INFO:tensorflow:*** Available Device: _DeviceAttributes(/job:worker/replica:0/task:0/device:XLA_CPU:0, XLA_CPU, 0, 0)\n"
          ],
          "name": "stderr"
        },
        {
          "output_type": "stream",
          "text": [
            "REPLICAS:  8\n"
          ],
          "name": "stdout"
        }
      ]
    },
    {
      "cell_type": "markdown",
      "metadata": {
        "id": "kCgE6e5YOWWa"
      },
      "source": [
        "## 2 - A partir daqui apresentamos os bancos de dados utilizados para análise de sentimentos. O objetivo final é o treinamento de um classificador  inicialmente focado para o português. O repositório correspondente a essa implementação é  clonado do github para utilização do dataset contido no arquivo \".csv\" através da biblioteca Pandas."
      ]
    },
    {
      "cell_type": "code",
      "metadata": {
        "id": "_ecevzW8LmMS",
        "outputId": "b06184fc-32ee-4e8c-c483-d1b7370a5891",
        "colab": {
          "base_uri": "https://localhost:8080/"
        }
      },
      "source": [
        "!git clone https://github.com/LucaswasTaken/Acessibilidade_Parte_1_Analise_de_Sentimentos.git"
      ],
      "execution_count": null,
      "outputs": [
        {
          "output_type": "stream",
          "text": [
            "fatal: destination path 'Caffe_Analise_de_Sentimentos' already exists and is not an empty directory.\n"
          ],
          "name": "stdout"
        }
      ]
    },
    {
      "cell_type": "code",
      "metadata": {
        "id": "goEp4xZ4YDHK"
      },
      "source": [
        "import pandas as pd"
      ],
      "execution_count": null,
      "outputs": []
    },
    {
      "cell_type": "code",
      "metadata": {
        "id": "4k9WKkdqYFVV"
      },
      "source": [
        "data = pd.read_csv('/content/Caffe_Analise_de_Sentimentos/dataset_sentimentos_augmented.csv').dropna()"
      ],
      "execution_count": null,
      "outputs": []
    },
    {
      "cell_type": "code",
      "metadata": {
        "id": "l9kCOYCXYKoU",
        "outputId": "58811322-4a7f-4b9d-b847-aa3be5968df5",
        "colab": {
          "base_uri": "https://localhost:8080/"
        }
      },
      "source": [
        "data"
      ],
      "execution_count": null,
      "outputs": [
        {
          "output_type": "execute_result",
          "data": {
            "text/html": [
              "<div>\n",
              "<style scoped>\n",
              "    .dataframe tbody tr th:only-of-type {\n",
              "        vertical-align: middle;\n",
              "    }\n",
              "\n",
              "    .dataframe tbody tr th {\n",
              "        vertical-align: top;\n",
              "    }\n",
              "\n",
              "    .dataframe thead th {\n",
              "        text-align: right;\n",
              "    }\n",
              "</style>\n",
              "<table border=\"1\" class=\"dataframe\">\n",
              "  <thead>\n",
              "    <tr style=\"text-align: right;\">\n",
              "      <th></th>\n",
              "      <th>Unnamed: 0</th>\n",
              "      <th>Frase</th>\n",
              "      <th>Sentimento</th>\n",
              "    </tr>\n",
              "  </thead>\n",
              "  <tbody>\n",
              "    <tr>\n",
              "      <th>0</th>\n",
              "      <td>0</td>\n",
              "      <td>não precisei pagar o ingresso</td>\n",
              "      <td>alegria</td>\n",
              "    </tr>\n",
              "    <tr>\n",
              "      <th>1</th>\n",
              "      <td>1</td>\n",
              "      <td>se eu ajeitar tudo fica bem</td>\n",
              "      <td>alegria</td>\n",
              "    </tr>\n",
              "    <tr>\n",
              "      <th>2</th>\n",
              "      <td>2</td>\n",
              "      <td>minha fortuna ultrapassa a sua</td>\n",
              "      <td>alegria</td>\n",
              "    </tr>\n",
              "    <tr>\n",
              "      <th>3</th>\n",
              "      <td>3</td>\n",
              "      <td>sou muito afortunado</td>\n",
              "      <td>alegria</td>\n",
              "    </tr>\n",
              "    <tr>\n",
              "      <th>4</th>\n",
              "      <td>4</td>\n",
              "      <td>e benefico para todos esta nova medida</td>\n",
              "      <td>alegria</td>\n",
              "    </tr>\n",
              "    <tr>\n",
              "      <th>...</th>\n",
              "      <td>...</td>\n",
              "      <td>...</td>\n",
              "      <td>...</td>\n",
              "    </tr>\n",
              "    <tr>\n",
              "      <th>220</th>\n",
              "      <td>220</td>\n",
              "      <td>como com a compulsão após a depressão</td>\n",
              "      <td>tristeza</td>\n",
              "    </tr>\n",
              "    <tr>\n",
              "      <th>221</th>\n",
              "      <td>221</td>\n",
              "      <td>Estou me desencorajando de viver</td>\n",
              "      <td>tristeza</td>\n",
              "    </tr>\n",
              "    <tr>\n",
              "      <th>222</th>\n",
              "      <td>222</td>\n",
              "      <td>ele desencoraja meus desejos</td>\n",
              "      <td>tristeza</td>\n",
              "    </tr>\n",
              "    <tr>\n",
              "      <th>223</th>\n",
              "      <td>223</td>\n",
              "      <td>isto é deprimente por dentro</td>\n",
              "      <td>tristeza</td>\n",
              "    </tr>\n",
              "    <tr>\n",
              "      <th>224</th>\n",
              "      <td>224</td>\n",
              "      <td>Acho que isto é defeituoso</td>\n",
              "      <td>tristeza</td>\n",
              "    </tr>\n",
              "  </tbody>\n",
              "</table>\n",
              "<p>225 rows × 3 columns</p>\n",
              "</div>"
            ],
            "text/plain": [
              "     Unnamed: 0                                   Frase Sentimento\n",
              "0             0           não precisei pagar o ingresso    alegria\n",
              "1             1             se eu ajeitar tudo fica bem    alegria\n",
              "2             2          minha fortuna ultrapassa a sua    alegria\n",
              "3             3                    sou muito afortunado    alegria\n",
              "4             4  e benefico para todos esta nova medida    alegria\n",
              "..          ...                                     ...        ...\n",
              "220         220   como com a compulsão após a depressão   tristeza\n",
              "221         221        Estou me desencorajando de viver   tristeza\n",
              "222         222            ele desencoraja meus desejos   tristeza\n",
              "223         223            isto é deprimente por dentro   tristeza\n",
              "224         224              Acho que isto é defeituoso   tristeza\n",
              "\n",
              "[225 rows x 3 columns]"
            ]
          },
          "metadata": {
            "tags": []
          },
          "execution_count": 9
        }
      ]
    },
    {
      "cell_type": "code",
      "metadata": {
        "id": "3_0dD916LlKY",
        "outputId": "ab6042f9-adc3-4ba7-e5f6-9c23bf25d3ce",
        "colab": {
          "base_uri": "https://localhost:8080/"
        }
      },
      "source": [
        "data['Sentimento'].unique()"
      ],
      "execution_count": null,
      "outputs": [
        {
          "output_type": "execute_result",
          "data": {
            "text/plain": [
              "array(['alegria', 'raiva', 'tristeza'], dtype=object)"
            ]
          },
          "metadata": {
            "tags": []
          },
          "execution_count": 10
        }
      ]
    },
    {
      "cell_type": "markdown",
      "metadata": {
        "id": "O5lmTpBabCMW"
      },
      "source": [
        "## 3 - Preprocessamento do texto: antes de definir e treinar uma rede classificatória utilizando o tensorflow+bert, primeiramente alguns tratamentos nos textos são feitos utilizando a biblioteca nltk. Tratamentos esses que incluem: remoção de números, remoção de letras maiusculas, remoção de stop-words (palavras mais comuns da lingua) e tokenização."
      ]
    },
    {
      "cell_type": "code",
      "metadata": {
        "id": "D9BYZGR1fzFD",
        "outputId": "d3e116e5-e01b-48d0-fbcd-4c99d7a40391",
        "colab": {
          "base_uri": "https://localhost:8080/"
        }
      },
      "source": [
        "!pip install unidecode"
      ],
      "execution_count": null,
      "outputs": [
        {
          "output_type": "stream",
          "text": [
            "Collecting unidecode\n",
            "\u001b[?25l  Downloading https://files.pythonhosted.org/packages/d0/42/d9edfed04228bacea2d824904cae367ee9efd05e6cce7ceaaedd0b0ad964/Unidecode-1.1.1-py2.py3-none-any.whl (238kB)\n",
            "\r\u001b[K     |█▍                              | 10kB 7.7MB/s eta 0:00:01\r\u001b[K     |██▊                             | 20kB 2.0MB/s eta 0:00:01\r\u001b[K     |████▏                           | 30kB 2.1MB/s eta 0:00:01\r\u001b[K     |█████▌                          | 40kB 2.5MB/s eta 0:00:01\r\u001b[K     |██████▉                         | 51kB 2.2MB/s eta 0:00:01\r\u001b[K     |████████▎                       | 61kB 2.6MB/s eta 0:00:01\r\u001b[K     |█████████▋                      | 71kB 2.8MB/s eta 0:00:01\r\u001b[K     |███████████                     | 81kB 3.0MB/s eta 0:00:01\r\u001b[K     |████████████▍                   | 92kB 3.2MB/s eta 0:00:01\r\u001b[K     |█████████████▊                  | 102kB 3.0MB/s eta 0:00:01\r\u001b[K     |███████████████▏                | 112kB 3.0MB/s eta 0:00:01\r\u001b[K     |████████████████▌               | 122kB 3.0MB/s eta 0:00:01\r\u001b[K     |█████████████████▉              | 133kB 3.0MB/s eta 0:00:01\r\u001b[K     |███████████████████▎            | 143kB 3.0MB/s eta 0:00:01\r\u001b[K     |████████████████████▋           | 153kB 3.0MB/s eta 0:00:01\r\u001b[K     |██████████████████████          | 163kB 3.0MB/s eta 0:00:01\r\u001b[K     |███████████████████████▍        | 174kB 3.0MB/s eta 0:00:01\r\u001b[K     |████████████████████████▊       | 184kB 3.0MB/s eta 0:00:01\r\u001b[K     |██████████████████████████▏     | 194kB 3.0MB/s eta 0:00:01\r\u001b[K     |███████████████████████████▌    | 204kB 3.0MB/s eta 0:00:01\r\u001b[K     |████████████████████████████▉   | 215kB 3.0MB/s eta 0:00:01\r\u001b[K     |██████████████████████████████▎ | 225kB 3.0MB/s eta 0:00:01\r\u001b[K     |███████████████████████████████▋| 235kB 3.0MB/s eta 0:00:01\r\u001b[K     |████████████████████████████████| 245kB 3.0MB/s \n",
            "\u001b[?25hInstalling collected packages: unidecode\n",
            "Successfully installed unidecode-1.1.1\n"
          ],
          "name": "stdout"
        }
      ]
    },
    {
      "cell_type": "code",
      "metadata": {
        "id": "UbTIRVUkaedw",
        "outputId": "69c3d387-9788-471d-cd7d-07750c1730af",
        "colab": {
          "base_uri": "https://localhost:8080/"
        }
      },
      "source": [
        "import nltk\n",
        "import re\n",
        "nltk.download('punkt')\n",
        "nltk.download('stopwords')\n",
        "import string\n",
        "from nltk.tokenize import word_tokenize\n",
        "from nltk.corpus import stopwords\n",
        "from unidecode import unidecode"
      ],
      "execution_count": null,
      "outputs": [
        {
          "output_type": "stream",
          "text": [
            "[nltk_data] Downloading package punkt to /root/nltk_data...\n",
            "[nltk_data]   Unzipping tokenizers/punkt.zip.\n",
            "[nltk_data] Downloading package stopwords to /root/nltk_data...\n",
            "[nltk_data]   Unzipping corpora/stopwords.zip.\n"
          ],
          "name": "stdout"
        }
      ]
    },
    {
      "cell_type": "code",
      "metadata": {
        "id": "jGVRo4MTdcAP",
        "outputId": "287b06ee-ff3f-4004-b1b4-4b4f7117b729",
        "colab": {
          "base_uri": "https://localhost:8080/"
        }
      },
      "source": [
        "token_text = []\n",
        "clean_text = []\n",
        "for text in data['Frase']:\n",
        "  text = unidecode(text.lower())\n",
        "  text= re.sub(r'\\[[0-9]*\\]', ' ', text)\n",
        "  text = re.sub(r'\\s+', ' ', text)\n",
        "  text = re.sub('[^a-zA-Z]', ' ', text )\n",
        "  text = re.sub(r'\\s+', ' ', text)  \n",
        "  text = re.sub('[%s]' % re.escape(string.punctuation), ' ', text)\n",
        "  token_text.append(word_tokenize(text))\n",
        "  clean_text.append(text)\n",
        "data['tokens'] = token_text\n",
        "data['clean_text'] = clean_text\n",
        "data['text'] = data['clean_text'].apply(lambda descr: str(descr).lower())\n",
        "print(data['tokens'])"
      ],
      "execution_count": null,
      "outputs": [
        {
          "output_type": "stream",
          "text": [
            "0                 [nao, precisei, pagar, o, ingresso]\n",
            "1                  [se, eu, ajeitar, tudo, fica, bem]\n",
            "2                [minha, fortuna, ultrapassa, a, sua]\n",
            "3                            [sou, muito, afortunado]\n",
            "4      [e, benefico, para, todos, esta, nova, medida]\n",
            "                            ...                      \n",
            "220     [como, com, a, compulsao, apos, a, depressao]\n",
            "221            [estou, me, desencorajando, de, viver]\n",
            "222                 [ele, desencoraja, meus, desejos]\n",
            "223                [isto, e, deprimente, por, dentro]\n",
            "224                  [acho, que, isto, e, defeituoso]\n",
            "Name: tokens, Length: 225, dtype: object\n"
          ],
          "name": "stdout"
        }
      ]
    },
    {
      "cell_type": "code",
      "metadata": {
        "id": "rN3d661hgQ93"
      },
      "source": [
        "from sklearn.feature_extraction.text import TfidfVectorizer\n",
        "import numpy as np\n",
        "from sklearn.model_selection import train_test_split\n",
        "from sklearn.preprocessing import LabelEncoder\n",
        "\n",
        "#vetorizar os dados de sentimento\n",
        "encoder = LabelEncoder()\n",
        "data['sencoded'] = encoder.fit_transform(data['Sentimento'])\n",
        "\n",
        "#calcular o tamanho maximo entre as frases de treino e teste\n",
        "data['text_len'] = data['tokens'].apply(lambda x: len(x))"
      ],
      "execution_count": null,
      "outputs": []
    },
    {
      "cell_type": "code",
      "metadata": {
        "id": "lTQuGajsJqgM"
      },
      "source": [
        "#maior tamanho dentre as frases (dobrado por segurança)\n",
        "msize = 2*int(max(data['text_len']))"
      ],
      "execution_count": null,
      "outputs": []
    },
    {
      "cell_type": "code",
      "metadata": {
        "id": "sLBZf1SlIvwL",
        "outputId": "d63267a8-6472-4440-b01c-3de2d2b49628",
        "colab": {
          "base_uri": "https://localhost:8080/",
          "referenced_widgets": [
            "c826053f421242488cb6d52d46c63648",
            "f704a327072e4f4eb7de070c04b27926",
            "2910ce6b5e634eb3b296dc0d8bd7010a",
            "70e0454ea1184ccbbc6226e56b2bba2b",
            "2cd70cca69bc4ab1a59dae60e749aa4f",
            "4e1e169845ed4155a6f1781443b04749",
            "56e35fb1300048a4a01bacaf5e1012ca",
            "2d06621add5b403789a64442623d7ccd"
          ]
        }
      },
      "source": [
        "#Tokenização utilizando Bert\n",
        "def regular_encode(texts, tokenizer, maxlen=512):\n",
        "    enc_di = tokenizer.batch_encode_plus(\n",
        "        texts, \n",
        "        return_attention_masks=False, \n",
        "        return_token_type_ids=False,\n",
        "        pad_to_max_length=True,\n",
        "        max_length=maxlen\n",
        "    )\n",
        "    \n",
        "    return np.array(enc_di['input_ids'])\n",
        "\n",
        "#utilização da camada embarcada pre-treinada multilingual (que inclui portugues)\n",
        "tokenizer = transformers.BertTokenizer.from_pretrained('bert-base-multilingual-cased')"
      ],
      "execution_count": null,
      "outputs": [
        {
          "output_type": "display_data",
          "data": {
            "application/vnd.jupyter.widget-view+json": {
              "model_id": "c826053f421242488cb6d52d46c63648",
              "version_minor": 0,
              "version_major": 2
            },
            "text/plain": [
              "HBox(children=(FloatProgress(value=0.0, description='Downloading', max=995526.0, style=ProgressStyle(descripti…"
            ]
          },
          "metadata": {
            "tags": []
          }
        },
        {
          "output_type": "stream",
          "text": [
            "\n"
          ],
          "name": "stdout"
        }
      ]
    },
    {
      "cell_type": "code",
      "metadata": {
        "id": "KiauhXflrZ4l"
      },
      "source": [
        "#divisão do dataset em dados de treino e dados de teste\n",
        "from sklearn.model_selection import train_test_split\n",
        "X_train, X_test, y_train, y_test = train_test_split(data['text'], data['sencoded'], test_size=0.3, random_state=42)"
      ],
      "execution_count": null,
      "outputs": []
    },
    {
      "cell_type": "code",
      "metadata": {
        "id": "CWWI43MiJXcg",
        "outputId": "93e97460-a226-4570-c325-42b29664ef60",
        "colab": {
          "base_uri": "https://localhost:8080/"
        }
      },
      "source": [
        "#tokezando os textos em one hot vectors usando tf.keras.utils.to_categorical. Numero de classes igual a 3\n",
        "Xtrain_encoded = regular_encode(X_train.astype('str'), tokenizer, maxlen=msize)\n",
        "ytrain_encoded = tf.keras.utils.to_categorical(y_train, num_classes=3,dtype = 'int32')\n",
        "Xtest_encoded = regular_encode(X_test.astype('str'), tokenizer, maxlen=msize)\n",
        "ytest_encoded = tf.keras.utils.to_categorical(y_test, num_classes=3,dtype = 'int32')"
      ],
      "execution_count": null,
      "outputs": [
        {
          "output_type": "stream",
          "text": [
            "Truncation was not explicitely activated but `max_length` is provided a specific value, please use `truncation=True` to explicitely truncate examples to max length. Defaulting to 'longest_first' truncation strategy. If you encode pairs of sequences (GLUE-style) with the tokenizer you can select this strategy more precisely by providing a specific strategy to `truncation`.\n",
            "/usr/local/lib/python3.6/dist-packages/transformers/tokenization_utils_base.py:1773: FutureWarning: The `pad_to_max_length` argument is deprecated and will be removed in a future version, use `padding=True` or `padding='longest'` to pad to the longest sequence in the batch, or use `padding='max_length'` to pad to a max length. In this case, you can give a specific length with `max_length` (e.g. `max_length=45`) or leave max_length to None to pad to the maximal input size of the model (e.g. 512 for Bert).\n",
            "  FutureWarning,\n",
            "Keyword arguments {'return_attention_masks': False} not recognized.\n",
            "Keyword arguments {'return_attention_masks': False} not recognized.\n",
            "Keyword arguments {'return_attention_masks': False} not recognized.\n",
            "Keyword arguments {'return_attention_masks': False} not recognized.\n",
            "Keyword arguments {'return_attention_masks': False} not recognized.\n",
            "Keyword arguments {'return_attention_masks': False} not recognized.\n",
            "Keyword arguments {'return_attention_masks': False} not recognized.\n",
            "Keyword arguments {'return_attention_masks': False} not recognized.\n",
            "Keyword arguments {'return_attention_masks': False} not recognized.\n",
            "Keyword arguments {'return_attention_masks': False} not recognized.\n",
            "Keyword arguments {'return_attention_masks': False} not recognized.\n",
            "Keyword arguments {'return_attention_masks': False} not recognized.\n",
            "Keyword arguments {'return_attention_masks': False} not recognized.\n",
            "Keyword arguments {'return_attention_masks': False} not recognized.\n",
            "Keyword arguments {'return_attention_masks': False} not recognized.\n",
            "Keyword arguments {'return_attention_masks': False} not recognized.\n",
            "Keyword arguments {'return_attention_masks': False} not recognized.\n",
            "Keyword arguments {'return_attention_masks': False} not recognized.\n",
            "Keyword arguments {'return_attention_masks': False} not recognized.\n",
            "Keyword arguments {'return_attention_masks': False} not recognized.\n",
            "Keyword arguments {'return_attention_masks': False} not recognized.\n",
            "Keyword arguments {'return_attention_masks': False} not recognized.\n",
            "Keyword arguments {'return_attention_masks': False} not recognized.\n",
            "Keyword arguments {'return_attention_masks': False} not recognized.\n",
            "Keyword arguments {'return_attention_masks': False} not recognized.\n",
            "Keyword arguments {'return_attention_masks': False} not recognized.\n",
            "Keyword arguments {'return_attention_masks': False} not recognized.\n",
            "Keyword arguments {'return_attention_masks': False} not recognized.\n",
            "Keyword arguments {'return_attention_masks': False} not recognized.\n",
            "Keyword arguments {'return_attention_masks': False} not recognized.\n",
            "Keyword arguments {'return_attention_masks': False} not recognized.\n",
            "Keyword arguments {'return_attention_masks': False} not recognized.\n",
            "Keyword arguments {'return_attention_masks': False} not recognized.\n",
            "Keyword arguments {'return_attention_masks': False} not recognized.\n",
            "Keyword arguments {'return_attention_masks': False} not recognized.\n",
            "Keyword arguments {'return_attention_masks': False} not recognized.\n",
            "Keyword arguments {'return_attention_masks': False} not recognized.\n",
            "Keyword arguments {'return_attention_masks': False} not recognized.\n",
            "Keyword arguments {'return_attention_masks': False} not recognized.\n",
            "Keyword arguments {'return_attention_masks': False} not recognized.\n",
            "Keyword arguments {'return_attention_masks': False} not recognized.\n",
            "Keyword arguments {'return_attention_masks': False} not recognized.\n",
            "Keyword arguments {'return_attention_masks': False} not recognized.\n",
            "Keyword arguments {'return_attention_masks': False} not recognized.\n",
            "Keyword arguments {'return_attention_masks': False} not recognized.\n",
            "Keyword arguments {'return_attention_masks': False} not recognized.\n",
            "Keyword arguments {'return_attention_masks': False} not recognized.\n",
            "Keyword arguments {'return_attention_masks': False} not recognized.\n",
            "Keyword arguments {'return_attention_masks': False} not recognized.\n",
            "Keyword arguments {'return_attention_masks': False} not recognized.\n",
            "Keyword arguments {'return_attention_masks': False} not recognized.\n",
            "Keyword arguments {'return_attention_masks': False} not recognized.\n",
            "Keyword arguments {'return_attention_masks': False} not recognized.\n",
            "Keyword arguments {'return_attention_masks': False} not recognized.\n",
            "Keyword arguments {'return_attention_masks': False} not recognized.\n",
            "Keyword arguments {'return_attention_masks': False} not recognized.\n",
            "Keyword arguments {'return_attention_masks': False} not recognized.\n",
            "Keyword arguments {'return_attention_masks': False} not recognized.\n",
            "Keyword arguments {'return_attention_masks': False} not recognized.\n",
            "Keyword arguments {'return_attention_masks': False} not recognized.\n",
            "Keyword arguments {'return_attention_masks': False} not recognized.\n",
            "Keyword arguments {'return_attention_masks': False} not recognized.\n",
            "Keyword arguments {'return_attention_masks': False} not recognized.\n",
            "Keyword arguments {'return_attention_masks': False} not recognized.\n",
            "Keyword arguments {'return_attention_masks': False} not recognized.\n",
            "Keyword arguments {'return_attention_masks': False} not recognized.\n",
            "Keyword arguments {'return_attention_masks': False} not recognized.\n",
            "Keyword arguments {'return_attention_masks': False} not recognized.\n",
            "Keyword arguments {'return_attention_masks': False} not recognized.\n",
            "Keyword arguments {'return_attention_masks': False} not recognized.\n",
            "Keyword arguments {'return_attention_masks': False} not recognized.\n",
            "Keyword arguments {'return_attention_masks': False} not recognized.\n",
            "Keyword arguments {'return_attention_masks': False} not recognized.\n",
            "Keyword arguments {'return_attention_masks': False} not recognized.\n",
            "Keyword arguments {'return_attention_masks': False} not recognized.\n",
            "Keyword arguments {'return_attention_masks': False} not recognized.\n",
            "Keyword arguments {'return_attention_masks': False} not recognized.\n",
            "Keyword arguments {'return_attention_masks': False} not recognized.\n",
            "Keyword arguments {'return_attention_masks': False} not recognized.\n",
            "Keyword arguments {'return_attention_masks': False} not recognized.\n",
            "Keyword arguments {'return_attention_masks': False} not recognized.\n",
            "Keyword arguments {'return_attention_masks': False} not recognized.\n",
            "Keyword arguments {'return_attention_masks': False} not recognized.\n",
            "Keyword arguments {'return_attention_masks': False} not recognized.\n",
            "Keyword arguments {'return_attention_masks': False} not recognized.\n",
            "Keyword arguments {'return_attention_masks': False} not recognized.\n",
            "Keyword arguments {'return_attention_masks': False} not recognized.\n",
            "Keyword arguments {'return_attention_masks': False} not recognized.\n",
            "Keyword arguments {'return_attention_masks': False} not recognized.\n",
            "Keyword arguments {'return_attention_masks': False} not recognized.\n",
            "Keyword arguments {'return_attention_masks': False} not recognized.\n",
            "Keyword arguments {'return_attention_masks': False} not recognized.\n",
            "Keyword arguments {'return_attention_masks': False} not recognized.\n",
            "Keyword arguments {'return_attention_masks': False} not recognized.\n",
            "Keyword arguments {'return_attention_masks': False} not recognized.\n",
            "Keyword arguments {'return_attention_masks': False} not recognized.\n",
            "Keyword arguments {'return_attention_masks': False} not recognized.\n",
            "Keyword arguments {'return_attention_masks': False} not recognized.\n",
            "Keyword arguments {'return_attention_masks': False} not recognized.\n",
            "Keyword arguments {'return_attention_masks': False} not recognized.\n",
            "Keyword arguments {'return_attention_masks': False} not recognized.\n",
            "Keyword arguments {'return_attention_masks': False} not recognized.\n",
            "Keyword arguments {'return_attention_masks': False} not recognized.\n",
            "Keyword arguments {'return_attention_masks': False} not recognized.\n",
            "Keyword arguments {'return_attention_masks': False} not recognized.\n",
            "Keyword arguments {'return_attention_masks': False} not recognized.\n",
            "Keyword arguments {'return_attention_masks': False} not recognized.\n",
            "Keyword arguments {'return_attention_masks': False} not recognized.\n",
            "Keyword arguments {'return_attention_masks': False} not recognized.\n",
            "Keyword arguments {'return_attention_masks': False} not recognized.\n",
            "Keyword arguments {'return_attention_masks': False} not recognized.\n",
            "Keyword arguments {'return_attention_masks': False} not recognized.\n",
            "Keyword arguments {'return_attention_masks': False} not recognized.\n",
            "Keyword arguments {'return_attention_masks': False} not recognized.\n",
            "Keyword arguments {'return_attention_masks': False} not recognized.\n",
            "Keyword arguments {'return_attention_masks': False} not recognized.\n",
            "Keyword arguments {'return_attention_masks': False} not recognized.\n",
            "Keyword arguments {'return_attention_masks': False} not recognized.\n",
            "Keyword arguments {'return_attention_masks': False} not recognized.\n",
            "Keyword arguments {'return_attention_masks': False} not recognized.\n",
            "Keyword arguments {'return_attention_masks': False} not recognized.\n",
            "Keyword arguments {'return_attention_masks': False} not recognized.\n",
            "Keyword arguments {'return_attention_masks': False} not recognized.\n",
            "Keyword arguments {'return_attention_masks': False} not recognized.\n",
            "Keyword arguments {'return_attention_masks': False} not recognized.\n",
            "Keyword arguments {'return_attention_masks': False} not recognized.\n",
            "Keyword arguments {'return_attention_masks': False} not recognized.\n",
            "Keyword arguments {'return_attention_masks': False} not recognized.\n",
            "Keyword arguments {'return_attention_masks': False} not recognized.\n",
            "Keyword arguments {'return_attention_masks': False} not recognized.\n",
            "Keyword arguments {'return_attention_masks': False} not recognized.\n",
            "Keyword arguments {'return_attention_masks': False} not recognized.\n",
            "Keyword arguments {'return_attention_masks': False} not recognized.\n",
            "Keyword arguments {'return_attention_masks': False} not recognized.\n",
            "Keyword arguments {'return_attention_masks': False} not recognized.\n",
            "Keyword arguments {'return_attention_masks': False} not recognized.\n",
            "Keyword arguments {'return_attention_masks': False} not recognized.\n",
            "Keyword arguments {'return_attention_masks': False} not recognized.\n",
            "Keyword arguments {'return_attention_masks': False} not recognized.\n",
            "Keyword arguments {'return_attention_masks': False} not recognized.\n",
            "Keyword arguments {'return_attention_masks': False} not recognized.\n",
            "Keyword arguments {'return_attention_masks': False} not recognized.\n",
            "Keyword arguments {'return_attention_masks': False} not recognized.\n",
            "Keyword arguments {'return_attention_masks': False} not recognized.\n",
            "Keyword arguments {'return_attention_masks': False} not recognized.\n",
            "Keyword arguments {'return_attention_masks': False} not recognized.\n",
            "Keyword arguments {'return_attention_masks': False} not recognized.\n",
            "Keyword arguments {'return_attention_masks': False} not recognized.\n",
            "Keyword arguments {'return_attention_masks': False} not recognized.\n",
            "Keyword arguments {'return_attention_masks': False} not recognized.\n",
            "Keyword arguments {'return_attention_masks': False} not recognized.\n",
            "Keyword arguments {'return_attention_masks': False} not recognized.\n",
            "Keyword arguments {'return_attention_masks': False} not recognized.\n",
            "Keyword arguments {'return_attention_masks': False} not recognized.\n",
            "Keyword arguments {'return_attention_masks': False} not recognized.\n",
            "Keyword arguments {'return_attention_masks': False} not recognized.\n",
            "Keyword arguments {'return_attention_masks': False} not recognized.\n",
            "Truncation was not explicitely activated but `max_length` is provided a specific value, please use `truncation=True` to explicitely truncate examples to max length. Defaulting to 'longest_first' truncation strategy. If you encode pairs of sequences (GLUE-style) with the tokenizer you can select this strategy more precisely by providing a specific strategy to `truncation`.\n",
            "Keyword arguments {'return_attention_masks': False} not recognized.\n",
            "Keyword arguments {'return_attention_masks': False} not recognized.\n",
            "Keyword arguments {'return_attention_masks': False} not recognized.\n",
            "Keyword arguments {'return_attention_masks': False} not recognized.\n",
            "Keyword arguments {'return_attention_masks': False} not recognized.\n",
            "Keyword arguments {'return_attention_masks': False} not recognized.\n",
            "Keyword arguments {'return_attention_masks': False} not recognized.\n",
            "Keyword arguments {'return_attention_masks': False} not recognized.\n",
            "Keyword arguments {'return_attention_masks': False} not recognized.\n",
            "Keyword arguments {'return_attention_masks': False} not recognized.\n",
            "Keyword arguments {'return_attention_masks': False} not recognized.\n",
            "Keyword arguments {'return_attention_masks': False} not recognized.\n",
            "Keyword arguments {'return_attention_masks': False} not recognized.\n",
            "Keyword arguments {'return_attention_masks': False} not recognized.\n",
            "Keyword arguments {'return_attention_masks': False} not recognized.\n",
            "Keyword arguments {'return_attention_masks': False} not recognized.\n",
            "Keyword arguments {'return_attention_masks': False} not recognized.\n",
            "Keyword arguments {'return_attention_masks': False} not recognized.\n",
            "Keyword arguments {'return_attention_masks': False} not recognized.\n",
            "Keyword arguments {'return_attention_masks': False} not recognized.\n",
            "Keyword arguments {'return_attention_masks': False} not recognized.\n",
            "Keyword arguments {'return_attention_masks': False} not recognized.\n",
            "Keyword arguments {'return_attention_masks': False} not recognized.\n",
            "Keyword arguments {'return_attention_masks': False} not recognized.\n",
            "Keyword arguments {'return_attention_masks': False} not recognized.\n",
            "Keyword arguments {'return_attention_masks': False} not recognized.\n",
            "Keyword arguments {'return_attention_masks': False} not recognized.\n",
            "Keyword arguments {'return_attention_masks': False} not recognized.\n",
            "Keyword arguments {'return_attention_masks': False} not recognized.\n",
            "Keyword arguments {'return_attention_masks': False} not recognized.\n",
            "Keyword arguments {'return_attention_masks': False} not recognized.\n",
            "Keyword arguments {'return_attention_masks': False} not recognized.\n",
            "Keyword arguments {'return_attention_masks': False} not recognized.\n",
            "Keyword arguments {'return_attention_masks': False} not recognized.\n",
            "Keyword arguments {'return_attention_masks': False} not recognized.\n",
            "Keyword arguments {'return_attention_masks': False} not recognized.\n",
            "Keyword arguments {'return_attention_masks': False} not recognized.\n",
            "Keyword arguments {'return_attention_masks': False} not recognized.\n",
            "Keyword arguments {'return_attention_masks': False} not recognized.\n",
            "Keyword arguments {'return_attention_masks': False} not recognized.\n",
            "Keyword arguments {'return_attention_masks': False} not recognized.\n",
            "Keyword arguments {'return_attention_masks': False} not recognized.\n",
            "Keyword arguments {'return_attention_masks': False} not recognized.\n",
            "Keyword arguments {'return_attention_masks': False} not recognized.\n",
            "Keyword arguments {'return_attention_masks': False} not recognized.\n",
            "Keyword arguments {'return_attention_masks': False} not recognized.\n",
            "Keyword arguments {'return_attention_masks': False} not recognized.\n",
            "Keyword arguments {'return_attention_masks': False} not recognized.\n",
            "Keyword arguments {'return_attention_masks': False} not recognized.\n",
            "Keyword arguments {'return_attention_masks': False} not recognized.\n",
            "Keyword arguments {'return_attention_masks': False} not recognized.\n",
            "Keyword arguments {'return_attention_masks': False} not recognized.\n",
            "Keyword arguments {'return_attention_masks': False} not recognized.\n",
            "Keyword arguments {'return_attention_masks': False} not recognized.\n",
            "Keyword arguments {'return_attention_masks': False} not recognized.\n",
            "Keyword arguments {'return_attention_masks': False} not recognized.\n",
            "Keyword arguments {'return_attention_masks': False} not recognized.\n",
            "Keyword arguments {'return_attention_masks': False} not recognized.\n",
            "Keyword arguments {'return_attention_masks': False} not recognized.\n",
            "Keyword arguments {'return_attention_masks': False} not recognized.\n",
            "Keyword arguments {'return_attention_masks': False} not recognized.\n",
            "Keyword arguments {'return_attention_masks': False} not recognized.\n",
            "Keyword arguments {'return_attention_masks': False} not recognized.\n",
            "Keyword arguments {'return_attention_masks': False} not recognized.\n",
            "Keyword arguments {'return_attention_masks': False} not recognized.\n",
            "Keyword arguments {'return_attention_masks': False} not recognized.\n",
            "Keyword arguments {'return_attention_masks': False} not recognized.\n",
            "Keyword arguments {'return_attention_masks': False} not recognized.\n"
          ],
          "name": "stderr"
        }
      ]
    },
    {
      "cell_type": "markdown",
      "metadata": {
        "id": "5-5s4zZCuD3x"
      },
      "source": [
        "## 4 - Construindo a rede transformer"
      ]
    },
    {
      "cell_type": "code",
      "metadata": {
        "id": "USEn9WHauIDC"
      },
      "source": [
        "def build_model(transformer, loss='categorical_crossentropy', max_len=512):\n",
        "    input_word_ids = tf.keras.layers.Input(shape=(max_len,), dtype=tf.int32, name=\"input_word_ids\")\n",
        "    sequence_output = transformer(input_word_ids)[0]\n",
        "    cls_token = sequence_output[:, 0, :]\n",
        "    #adicionando dropout para evitar overfitting\n",
        "    x = tf.keras.layers.Dropout(0.3)(cls_token)\n",
        "    #Usando uma camada densa intermediaria com 10 neuronios, e uma camada densa final com 3 (numero de classes)\n",
        "    x = tf.keras.layers.Dense(10)(x)\n",
        "    out = tf.keras.layers.Dense(3, activation='softmax')(x)\n",
        "    model = tf.keras.Model(inputs=input_word_ids, outputs=out)\n",
        "    #usando a função de perda categorical crossentropy para esse problema de classificação many-to-many\n",
        "    model.compile(tf.keras.optimizers.Adam(lr=3e-5), loss=loss, metrics=['accuracy'])\n",
        "    return model"
      ],
      "execution_count": null,
      "outputs": []
    },
    {
      "cell_type": "code",
      "metadata": {
        "id": "DNpTIaxl4U25",
        "outputId": "4ee76093-6868-485e-809e-3d791d15457a",
        "colab": {
          "base_uri": "https://localhost:8080/",
          "referenced_widgets": [
            "94f00e9eac2e4305a59e260df02af803",
            "79babde7fa3f4a929a290fab8899d1a9",
            "654eb4fddc67463aa7a9388488215e2c",
            "48b7db0f855a4e81a3479b97bd9699f9",
            "f7ab6f7775ae4e0aba775ab0abfc855a",
            "21a0ed55e35046618d8b870c30689940",
            "ed08b63d925c457aa26120c597adb138",
            "0b270964d887492a8dfbbbf447946672",
            "d9dbb39f3b58420cba53fdcb7205d830",
            "f009aa9e3b0d420fb9538cd1e7118ee8",
            "107fc4ca0d814c7089916e1b56745402",
            "d8af0e8da82a49d7949ea3adb00d07e6",
            "8a07be8883bb4fea842c3a3f1b479640",
            "802a6625bbf2480ea7998848a053d767",
            "c915505b62684bec9c35f50232f71511",
            "4a6d164032e44b7187c0967b4dbc40cf"
          ]
        }
      },
      "source": [
        "#montando o modelo na tpu (utilizando a camada embarcada pre-treinada do Bert multilingual)\n",
        "with strategy.scope():\n",
        "    transformer_layer = transformers.TFAutoModel.from_pretrained('bert-base-multilingual-cased')\n",
        "    model = build_model(transformer_layer, max_len=msize)\n",
        "model.summary()"
      ],
      "execution_count": null,
      "outputs": [
        {
          "output_type": "display_data",
          "data": {
            "application/vnd.jupyter.widget-view+json": {
              "model_id": "94f00e9eac2e4305a59e260df02af803",
              "version_minor": 0,
              "version_major": 2
            },
            "text/plain": [
              "HBox(children=(FloatProgress(value=0.0, description='Downloading', max=625.0, style=ProgressStyle(description_…"
            ]
          },
          "metadata": {
            "tags": []
          }
        },
        {
          "output_type": "stream",
          "text": [
            "\n"
          ],
          "name": "stdout"
        },
        {
          "output_type": "display_data",
          "data": {
            "application/vnd.jupyter.widget-view+json": {
              "model_id": "d9dbb39f3b58420cba53fdcb7205d830",
              "version_minor": 0,
              "version_major": 2
            },
            "text/plain": [
              "HBox(children=(FloatProgress(value=0.0, description='Downloading', max=1083389348.0, style=ProgressStyle(descr…"
            ]
          },
          "metadata": {
            "tags": []
          }
        },
        {
          "output_type": "stream",
          "text": [
            "\n"
          ],
          "name": "stdout"
        },
        {
          "output_type": "stream",
          "text": [
            "Some weights of the model checkpoint at bert-base-multilingual-cased were not used when initializing TFBertModel: ['mlm___cls', 'nsp___cls']\n",
            "- This IS expected if you are initializing TFBertModel from the checkpoint of a model trained on another task or with another architecture (e.g. initializing a BertForSequenceClassification model from a BertForPretraining model).\n",
            "- This IS NOT expected if you are initializing TFBertModel from the checkpoint of a model that you expect to be exactly identical (initializing a BertForSequenceClassification model from a BertForSequenceClassification model).\n",
            "All the weights of TFBertModel were initialized from the model checkpoint at bert-base-multilingual-cased.\n",
            "If your task is similar to the task the model of the checkpoint was trained on, you can already use TFBertModel for predictions without further training.\n"
          ],
          "name": "stderr"
        },
        {
          "output_type": "stream",
          "text": [
            "Model: \"functional_1\"\n",
            "_________________________________________________________________\n",
            "Layer (type)                 Output Shape              Param #   \n",
            "=================================================================\n",
            "input_word_ids (InputLayer)  [(None, 22)]              0         \n",
            "_________________________________________________________________\n",
            "tf_bert_model (TFBertModel)  ((None, 22, 768), (None,  177853440 \n",
            "_________________________________________________________________\n",
            "tf_op_layer_strided_slice (T [(None, 768)]             0         \n",
            "_________________________________________________________________\n",
            "dropout_37 (Dropout)         (None, 768)               0         \n",
            "_________________________________________________________________\n",
            "dense (Dense)                (None, 10)                7690      \n",
            "_________________________________________________________________\n",
            "dense_1 (Dense)              (None, 3)                 33        \n",
            "=================================================================\n",
            "Total params: 177,861,163\n",
            "Trainable params: 177,861,163\n",
            "Non-trainable params: 0\n",
            "_________________________________________________________________\n"
          ],
          "name": "stdout"
        }
      ]
    },
    {
      "cell_type": "code",
      "metadata": {
        "id": "kab_HaIx3bZC"
      },
      "source": [
        "#criando datasets de treino e teste para o bert\n",
        "BATCH_SIZE = 8*strategy.num_replicas_in_sync\n",
        "AUTO = tf.data.experimental.AUTOTUNE \n",
        "train_dataset = (\n",
        "    tf.data.Dataset\n",
        "    .from_tensor_slices((Xtrain_encoded, ytrain_encoded))\n",
        "    .repeat()\n",
        "    .shuffle(2048)\n",
        "    .batch(BATCH_SIZE)\n",
        "    .prefetch(AUTO)\n",
        ")\n",
        "test_dataset = (\n",
        "    tf.data.Dataset\n",
        "    .from_tensor_slices(Xtest_encoded)\n",
        "    .batch(BATCH_SIZE)\n",
        ")"
      ],
      "execution_count": null,
      "outputs": []
    },
    {
      "cell_type": "markdown",
      "metadata": {
        "id": "jLO2Y7G8N5a1"
      },
      "source": [
        "## 5 - Determiando os parametros de treinamento e treinando"
      ]
    },
    {
      "cell_type": "code",
      "metadata": {
        "id": "-zE6IHAS9R9e",
        "outputId": "fd1b212e-31cf-4106-b6fe-b7665abe5794",
        "colab": {
          "base_uri": "https://localhost:8080/"
        }
      },
      "source": [
        "#determinando parametros de treinamento e treinando\n",
        "#treinando por 10 epochs\n",
        "n_steps = Xtrain_encoded.shape[0] // BATCH_SIZE\n",
        "train_history = model.fit(\n",
        "    train_dataset,\n",
        "    steps_per_epoch=n_steps,\n",
        "    epochs=25\n",
        ")"
      ],
      "execution_count": null,
      "outputs": [
        {
          "output_type": "stream",
          "text": [
            "Epoch 1/25\n",
            "WARNING:tensorflow:From /usr/local/lib/python3.6/dist-packages/tensorflow/python/data/ops/multi_device_iterator_ops.py:601: get_next_as_optional (from tensorflow.python.data.ops.iterator_ops) is deprecated and will be removed in a future version.\n",
            "Instructions for updating:\n",
            "Use `tf.data.Iterator.get_next_as_optional()` instead.\n"
          ],
          "name": "stdout"
        },
        {
          "output_type": "stream",
          "text": [
            "WARNING:tensorflow:From /usr/local/lib/python3.6/dist-packages/tensorflow/python/data/ops/multi_device_iterator_ops.py:601: get_next_as_optional (from tensorflow.python.data.ops.iterator_ops) is deprecated and will be removed in a future version.\n",
            "Instructions for updating:\n",
            "Use `tf.data.Iterator.get_next_as_optional()` instead.\n"
          ],
          "name": "stderr"
        },
        {
          "output_type": "stream",
          "text": [
            "WARNING:tensorflow:Gradients do not exist for variables ['tf_bert_model/bert/pooler/dense/kernel:0', 'tf_bert_model/bert/pooler/dense/bias:0'] when minimizing the loss.\n"
          ],
          "name": "stdout"
        },
        {
          "output_type": "stream",
          "text": [
            "WARNING:tensorflow:Gradients do not exist for variables ['tf_bert_model/bert/pooler/dense/kernel:0', 'tf_bert_model/bert/pooler/dense/bias:0'] when minimizing the loss.\n"
          ],
          "name": "stderr"
        },
        {
          "output_type": "stream",
          "text": [
            "WARNING:tensorflow:Gradients do not exist for variables ['tf_bert_model/bert/pooler/dense/kernel:0', 'tf_bert_model/bert/pooler/dense/bias:0'] when minimizing the loss.\n"
          ],
          "name": "stdout"
        },
        {
          "output_type": "stream",
          "text": [
            "WARNING:tensorflow:Gradients do not exist for variables ['tf_bert_model/bert/pooler/dense/kernel:0', 'tf_bert_model/bert/pooler/dense/bias:0'] when minimizing the loss.\n"
          ],
          "name": "stderr"
        },
        {
          "output_type": "stream",
          "text": [
            "WARNING:tensorflow:Gradients do not exist for variables ['tf_bert_model/bert/pooler/dense/kernel:0', 'tf_bert_model/bert/pooler/dense/bias:0'] when minimizing the loss.\n"
          ],
          "name": "stdout"
        },
        {
          "output_type": "stream",
          "text": [
            "WARNING:tensorflow:Gradients do not exist for variables ['tf_bert_model/bert/pooler/dense/kernel:0', 'tf_bert_model/bert/pooler/dense/bias:0'] when minimizing the loss.\n"
          ],
          "name": "stderr"
        },
        {
          "output_type": "stream",
          "text": [
            "WARNING:tensorflow:Gradients do not exist for variables ['tf_bert_model/bert/pooler/dense/kernel:0', 'tf_bert_model/bert/pooler/dense/bias:0'] when minimizing the loss.\n"
          ],
          "name": "stdout"
        },
        {
          "output_type": "stream",
          "text": [
            "WARNING:tensorflow:Gradients do not exist for variables ['tf_bert_model/bert/pooler/dense/kernel:0', 'tf_bert_model/bert/pooler/dense/bias:0'] when minimizing the loss.\n"
          ],
          "name": "stderr"
        },
        {
          "output_type": "stream",
          "text": [
            "2/2 [==============================] - ETA: 0s - loss: 1.2736 - accuracy: 0.3516 WARNING:tensorflow:Callbacks method `on_train_batch_end` is slow compared to the batch time (batch time: 0.0101s vs `on_train_batch_end` time: 0.0885s). Check your callbacks.\n"
          ],
          "name": "stdout"
        },
        {
          "output_type": "stream",
          "text": [
            "WARNING:tensorflow:Callbacks method `on_train_batch_end` is slow compared to the batch time (batch time: 0.0101s vs `on_train_batch_end` time: 0.0885s). Check your callbacks.\n"
          ],
          "name": "stderr"
        },
        {
          "output_type": "stream",
          "text": [
            "\b\b\b\b\b\b\b\b\b\b\b\b\b\b\b\b\b\b\b\b\b\b\b\b\b\b\b\b\b\b\b\b\b\b\b\b\b\b\b\b\b\b\b\b\b\b\b\b\b\b\b\b\b\b\b\b\b\b\b\b\b\b\b\b\b\b\b\b\b\b\b\b\b\b\b\b\b\b\b\b\r2/2 [==============================] - 32s 16s/step - loss: 1.2736 - accuracy: 0.3516\n",
            "Epoch 2/25\n",
            "2/2 [==============================] - 0s 94ms/step - loss: 1.2073 - accuracy: 0.3281\n",
            "Epoch 3/25\n",
            "2/2 [==============================] - 0s 93ms/step - loss: 1.0767 - accuracy: 0.4766\n",
            "Epoch 4/25\n",
            "2/2 [==============================] - 0s 93ms/step - loss: 1.1118 - accuracy: 0.4219\n",
            "Epoch 5/25\n",
            "2/2 [==============================] - 0s 94ms/step - loss: 1.1405 - accuracy: 0.3203\n",
            "Epoch 6/25\n",
            "2/2 [==============================] - 0s 93ms/step - loss: 1.1004 - accuracy: 0.3906\n",
            "Epoch 7/25\n",
            "2/2 [==============================] - 0s 95ms/step - loss: 1.0649 - accuracy: 0.4688\n",
            "Epoch 8/25\n",
            "2/2 [==============================] - 0s 95ms/step - loss: 1.1352 - accuracy: 0.4219\n",
            "Epoch 9/25\n",
            "2/2 [==============================] - 0s 93ms/step - loss: 0.9335 - accuracy: 0.5547\n",
            "Epoch 10/25\n",
            "2/2 [==============================] - 0s 93ms/step - loss: 0.8567 - accuracy: 0.5859\n",
            "Epoch 11/25\n",
            "2/2 [==============================] - 0s 94ms/step - loss: 0.6676 - accuracy: 0.7500\n",
            "Epoch 12/25\n",
            "2/2 [==============================] - 0s 93ms/step - loss: 0.5043 - accuracy: 0.8203\n",
            "Epoch 13/25\n",
            "2/2 [==============================] - 0s 93ms/step - loss: 0.4258 - accuracy: 0.8438\n",
            "Epoch 14/25\n",
            "2/2 [==============================] - 0s 93ms/step - loss: 0.3617 - accuracy: 0.8984\n",
            "Epoch 15/25\n",
            "2/2 [==============================] - 0s 94ms/step - loss: 0.1896 - accuracy: 0.9766\n",
            "Epoch 16/25\n",
            "2/2 [==============================] - 0s 94ms/step - loss: 0.1257 - accuracy: 0.9766\n",
            "Epoch 17/25\n",
            "2/2 [==============================] - 0s 97ms/step - loss: 0.0513 - accuracy: 0.9922\n",
            "Epoch 18/25\n",
            "2/2 [==============================] - 0s 97ms/step - loss: 0.0282 - accuracy: 1.0000\n",
            "Epoch 19/25\n",
            "2/2 [==============================] - 0s 94ms/step - loss: 0.0183 - accuracy: 1.0000\n",
            "Epoch 20/25\n",
            "2/2 [==============================] - 0s 95ms/step - loss: 0.0160 - accuracy: 1.0000\n",
            "Epoch 21/25\n",
            "2/2 [==============================] - 0s 96ms/step - loss: 0.0149 - accuracy: 0.9922\n",
            "Epoch 22/25\n",
            "2/2 [==============================] - 0s 93ms/step - loss: 0.0094 - accuracy: 1.0000\n",
            "Epoch 23/25\n",
            "2/2 [==============================] - 0s 93ms/step - loss: 0.0014 - accuracy: 1.0000\n",
            "Epoch 24/25\n",
            "2/2 [==============================] - 0s 93ms/step - loss: 7.1727e-04 - accuracy: 1.0000\n",
            "Epoch 25/25\n",
            "2/2 [==============================] - 0s 93ms/step - loss: 0.0060 - accuracy: 1.0000\n"
          ],
          "name": "stdout"
        }
      ]
    },
    {
      "cell_type": "markdown",
      "metadata": {
        "id": "NSc-94fbRsKi"
      },
      "source": [
        "## 6 - Avaliação dos resultados"
      ]
    },
    {
      "cell_type": "code",
      "metadata": {
        "id": "huUY4BN1RYpp",
        "outputId": "31eb1f6e-2b22-4740-a3b1-f287f42cc6e0",
        "colab": {
          "base_uri": "https://localhost:8080/",
          "height": 87
        }
      },
      "source": [
        "#making predictions\n",
        "preds = model.predict(test_dataset,verbose = 1)\n",
        "#converting the one hot vector output to a linear numpy array.\n",
        "pred_classes = np.argmax(preds, axis = 1)"
      ],
      "execution_count": null,
      "outputs": [
        {
          "output_type": "stream",
          "text": [
            "2/2 [==============================] - ETA: 0sWARNING:tensorflow:Callbacks method `on_predict_batch_end` is slow compared to the batch time (batch time: 0.0029s vs `on_predict_batch_end` time: 2.9767s). Check your callbacks.\n"
          ],
          "name": "stdout"
        },
        {
          "output_type": "stream",
          "text": [
            "WARNING:tensorflow:Callbacks method `on_predict_batch_end` is slow compared to the batch time (batch time: 0.0029s vs `on_predict_batch_end` time: 2.9767s). Check your callbacks.\n"
          ],
          "name": "stderr"
        },
        {
          "output_type": "stream",
          "text": [
            "\b\b\b\b\b\b\b\b\b\b\b\b\b\b\b\b\b\b\b\b\b\b\b\b\b\b\b\b\b\b\b\b\b\b\b\b\b\b\b\b\b\b\b\b\b\b\r2/2 [==============================] - 8s 4s/step\n"
          ],
          "name": "stdout"
        }
      ]
    },
    {
      "cell_type": "code",
      "metadata": {
        "id": "b36vBaYVNo29"
      },
      "source": [
        "#extracting the classes from the label encoder\n",
        "encoded_classes = encoder.classes_\n",
        "#mapping the encoded output to actual categories\n",
        "predicted_category = [encoded_classes[x] for x in pred_classes]\n",
        "true_category = [encoded_classes[x] for x in y_test]"
      ],
      "execution_count": null,
      "outputs": []
    },
    {
      "cell_type": "code",
      "metadata": {
        "id": "8gMXf5J7RNgw",
        "outputId": "07c7afc9-60ce-4a4f-8747-a564b7a4eca6",
        "colab": {
          "base_uri": "https://localhost:8080/",
          "height": 195
        }
      },
      "source": [
        "result_df = pd.DataFrame({'description':X_test,'true_category':true_category, 'predicted_category':predicted_category})\n",
        "result_df.head()"
      ],
      "execution_count": null,
      "outputs": [
        {
          "output_type": "execute_result",
          "data": {
            "text/html": [
              "<div>\n",
              "<style scoped>\n",
              "    .dataframe tbody tr th:only-of-type {\n",
              "        vertical-align: middle;\n",
              "    }\n",
              "\n",
              "    .dataframe tbody tr th {\n",
              "        vertical-align: top;\n",
              "    }\n",
              "\n",
              "    .dataframe thead th {\n",
              "        text-align: right;\n",
              "    }\n",
              "</style>\n",
              "<table border=\"1\" class=\"dataframe\">\n",
              "  <thead>\n",
              "    <tr style=\"text-align: right;\">\n",
              "      <th></th>\n",
              "      <th>description</th>\n",
              "      <th>true_category</th>\n",
              "      <th>predicted_category</th>\n",
              "    </tr>\n",
              "  </thead>\n",
              "  <tbody>\n",
              "    <tr>\n",
              "      <th>9</th>\n",
              "      <td>delicadamente ele a colocou para dormir</td>\n",
              "      <td>alegria</td>\n",
              "      <td>alegria</td>\n",
              "    </tr>\n",
              "    <tr>\n",
              "      <th>184</th>\n",
              "      <td>eu te amaldicoo e sua familia</td>\n",
              "      <td>raiva</td>\n",
              "      <td>alegria</td>\n",
              "    </tr>\n",
              "    <tr>\n",
              "      <th>120</th>\n",
              "      <td>os remedios me derrubam na cama</td>\n",
              "      <td>tristeza</td>\n",
              "      <td>tristeza</td>\n",
              "    </tr>\n",
              "    <tr>\n",
              "      <th>207</th>\n",
              "      <td>sinto me deslocado na sala de aula</td>\n",
              "      <td>tristeza</td>\n",
              "      <td>tristeza</td>\n",
              "    </tr>\n",
              "    <tr>\n",
              "      <th>148</th>\n",
              "      <td>agradeco imensamente seu apoio nestes dias</td>\n",
              "      <td>alegria</td>\n",
              "      <td>alegria</td>\n",
              "    </tr>\n",
              "  </tbody>\n",
              "</table>\n",
              "</div>"
            ],
            "text/plain": [
              "                                    description  ... predicted_category\n",
              "9       delicadamente ele a colocou para dormir  ...            alegria\n",
              "184               eu te amaldicoo e sua familia  ...            alegria\n",
              "120             os remedios me derrubam na cama  ...           tristeza\n",
              "207          sinto me deslocado na sala de aula  ...           tristeza\n",
              "148  agradeco imensamente seu apoio nestes dias  ...            alegria\n",
              "\n",
              "[5 rows x 3 columns]"
            ]
          },
          "metadata": {
            "tags": []
          },
          "execution_count": 25
        }
      ]
    },
    {
      "cell_type": "code",
      "metadata": {
        "id": "u9ukdzpsRgcw",
        "outputId": "cee5ada1-fb86-4730-90d2-171c317382af",
        "colab": {
          "base_uri": "https://localhost:8080/",
          "height": 315
        }
      },
      "source": [
        "from sklearn.metrics import confusion_matrix\n",
        "from sklearn.metrics import f1_score, accuracy_score, precision_score\n",
        "from sklearn.metrics import accuracy_score\n",
        "import matplotlib.pyplot as plt\n",
        "import seaborn as sns\n",
        "%matplotlib inline\n",
        "\n",
        "cm = confusion_matrix(result_df['true_category'], result_df['predicted_category'])\n",
        "sns.heatmap(cm, annot=True, fmt='d', annot_kws={'fontsize':20}, cmap=\"YlGnBu\");\n",
        "print('F1 Score: ', f1_score(result_df['true_category'], result_df['predicted_category'], average='macro'))\n",
        "print('Accuracy: ', accuracy_score(result_df['true_category'], result_df['predicted_category']))\n",
        "print('Precision: ', precision_score(result_df['true_category'], result_df['predicted_category'], average='macro'))"
      ],
      "execution_count": null,
      "outputs": [
        {
          "output_type": "stream",
          "text": [
            "F1 Score:  0.8498575498575498\n",
            "Accuracy:  0.8529411764705882\n",
            "Precision:  0.8615649963689179\n"
          ],
          "name": "stdout"
        },
        {
          "output_type": "display_data",
          "data": {
            "image/png": "[encoded data removed]",
            "text/plain": [
              "<Figure size 432x288 with 2 Axes>"
            ]
          },
          "metadata": {
            "tags": [],
            "needs_background": "light"
          }
        }
      ]
    },
    {
      "cell_type": "markdown",
      "metadata": {
        "id": "u_YjZUfe42L-"
      },
      "source": [
        "# EXTRA: Text Augmentation (GPT-2)"
      ]
    },
    {
      "cell_type": "code",
      "metadata": {
        "id": "x_1eIn6948P-",
        "outputId": "4e938734-bc6d-436d-e482-e67e62b36edc",
        "colab": {
          "base_uri": "https://localhost:8080/",
          "height": 185
        }
      },
      "source": [
        "%tensorflow_version 1.x\n",
        "!pip install -q gpt-2-simple\n",
        "import gpt_2_simple as gpt2\n",
        "from datetime import datetime\n",
        "from google.colab import files"
      ],
      "execution_count": null,
      "outputs": [
        {
          "output_type": "stream",
          "text": [
            "TensorFlow 1.x selected.\n",
            "  Building wheel for gpt-2-simple (setup.py) ... \u001b[?25l\u001b[?25hdone\n",
            "WARNING:tensorflow:\n",
            "The TensorFlow contrib module will not be included in TensorFlow 2.0.\n",
            "For more information, please see:\n",
            "  * https://github.com/tensorflow/community/blob/master/rfcs/20180907-contrib-sunset.md\n",
            "  * https://github.com/tensorflow/addons\n",
            "  * https://github.com/tensorflow/io (for I/O related ops)\n",
            "If you depend on functionality not listed there, please file an issue.\n",
            "\n"
          ],
          "name": "stdout"
        }
      ]
    },
    {
      "cell_type": "code",
      "metadata": {
        "id": "EmfUy8hY5Hx8",
        "outputId": "06b90da4-0d58-4c5b-a9d3-b7164c8a177f",
        "colab": {
          "base_uri": "https://localhost:8080/",
          "height": 134
        }
      },
      "source": [
        "gpt2.download_gpt2(model_name=\"124M\")"
      ],
      "execution_count": null,
      "outputs": [
        {
          "output_type": "stream",
          "text": [
            "Fetching checkpoint: 1.05Mit [00:00, 311Mit/s]                                                      \n",
            "Fetching encoder.json: 1.05Mit [00:00, 96.3Mit/s]                                                   \n",
            "Fetching hparams.json: 1.05Mit [00:00, 413Mit/s]                                                    \n",
            "Fetching model.ckpt.data-00000-of-00001: 498Mit [00:07, 67.6Mit/s]                                  \n",
            "Fetching model.ckpt.index: 1.05Mit [00:00, 262Mit/s]                                                \n",
            "Fetching model.ckpt.meta: 1.05Mit [00:00, 146Mit/s]                                                 \n",
            "Fetching vocab.bpe: 1.05Mit [00:00, 130Mit/s]                                                       \n"
          ],
          "name": "stderr"
        }
      ]
    },
    {
      "cell_type": "code",
      "metadata": {
        "id": "lS1NeANg5P9k"
      },
      "source": [
        "file_name = \"/content/dataset_sentimentos_traduzido.csv\""
      ],
      "execution_count": null,
      "outputs": []
    },
    {
      "cell_type": "code",
      "metadata": {
        "id": "kxOgTl4v5j4F"
      },
      "source": [
        "sess = gpt2.start_tf_sess()\n",
        "\n",
        "gpt2.finetune(sess,\n",
        "              dataset=file_name,\n",
        "              model_name='124M',\n",
        "              steps=500,\n",
        "              restore_from='fresh',\n",
        "              run_name='run1',\n",
        "              print_every=10,\n",
        "              sample_every=40,\n",
        "              save_every=100\n",
        "              )"
      ],
      "execution_count": null,
      "outputs": []
    },
    {
      "cell_type": "code",
      "metadata": {
        "id": "tmHlfcc85_f0"
      },
      "source": [
        "gpt2.generate_to_file(sess,\n",
        "                      destination_path='dataset_sentimentos_augmented.txt',\n",
        "                      length=2000,\n",
        "                      temperature=0.7,\n",
        "                      nsamples=300,\n",
        "                      batch_size=20\n",
        "                      )"
      ],
      "execution_count": null,
      "outputs": []
    },
    {
      "cell_type": "code",
      "metadata": {
        "id": "RVnjWi54IYDI"
      },
      "source": [
        "data = data.drop(['tweet_id', 'author'], axis=1)"
      ],
      "execution_count": null,
      "outputs": []
    },
    {
      "cell_type": "code",
      "metadata": {
        "id": "6l90EG62LSlv"
      },
      "source": [
        "data['sentiment'].unique()"
      ],
      "execution_count": null,
      "outputs": []
    },
    {
      "cell_type": "code",
      "metadata": {
        "id": "8_eoqGPFzi7R",
        "outputId": "086c98f2-6cbc-4bb1-87d0-558781a84656",
        "colab": {
          "base_uri": "https://localhost:8080/",
          "height": 402
        }
      },
      "source": [
        "data = data.sample(frac = 1).reset_index(drop=True).iloc[0:300]\n",
        "data"
      ],
      "execution_count": null,
      "outputs": [
        {
          "output_type": "execute_result",
          "data": {
            "text/html": [
              "<div>\n",
              "<style scoped>\n",
              "    .dataframe tbody tr th:only-of-type {\n",
              "        vertical-align: middle;\n",
              "    }\n",
              "\n",
              "    .dataframe tbody tr th {\n",
              "        vertical-align: top;\n",
              "    }\n",
              "\n",
              "    .dataframe thead th {\n",
              "        text-align: right;\n",
              "    }\n",
              "</style>\n",
              "<table border=\"1\" class=\"dataframe\">\n",
              "  <thead>\n",
              "    <tr style=\"text-align: right;\">\n",
              "      <th></th>\n",
              "      <th>sentiment</th>\n",
              "      <th>content</th>\n",
              "    </tr>\n",
              "  </thead>\n",
              "  <tbody>\n",
              "    <tr>\n",
              "      <th>0</th>\n",
              "      <td>happiness</td>\n",
              "      <td>@MrAhrenSean lol! ok ok it is a little absurd....</td>\n",
              "    </tr>\n",
              "    <tr>\n",
              "      <th>1</th>\n",
              "      <td>happiness</td>\n",
              "      <td>@kelsie_marie1 hey beautiful whats up?</td>\n",
              "    </tr>\n",
              "    <tr>\n",
              "      <th>2</th>\n",
              "      <td>happiness</td>\n",
              "      <td>i am listening this song &amp;quot;shattered&amp;quot;...</td>\n",
              "    </tr>\n",
              "    <tr>\n",
              "      <th>3</th>\n",
              "      <td>sadness</td>\n",
              "      <td>is way too sleepy to be awake</td>\n",
              "    </tr>\n",
              "    <tr>\n",
              "      <th>4</th>\n",
              "      <td>happiness</td>\n",
              "      <td>Wow, Hugh Jackman TOTALLY bulked up for Wolver...</td>\n",
              "    </tr>\n",
              "    <tr>\n",
              "      <th>...</th>\n",
              "      <td>...</td>\n",
              "      <td>...</td>\n",
              "    </tr>\n",
              "    <tr>\n",
              "      <th>295</th>\n",
              "      <td>happiness</td>\n",
              "      <td>Bumping Air Supply's Greastest Hits</td>\n",
              "    </tr>\n",
              "    <tr>\n",
              "      <th>296</th>\n",
              "      <td>sadness</td>\n",
              "      <td>@msdivineknight wish i could  want to stay and...</td>\n",
              "    </tr>\n",
              "    <tr>\n",
              "      <th>297</th>\n",
              "      <td>happiness</td>\n",
              "      <td>@KeepinUpWKris hope you have a great day tomor...</td>\n",
              "    </tr>\n",
              "    <tr>\n",
              "      <th>298</th>\n",
              "      <td>sadness</td>\n",
              "      <td>@BeateVeronica I'm jealous - I would love deer...</td>\n",
              "    </tr>\n",
              "    <tr>\n",
              "      <th>299</th>\n",
              "      <td>happiness</td>\n",
              "      <td>Got 5 new followers yesterday! Yay  Just need ...</td>\n",
              "    </tr>\n",
              "  </tbody>\n",
              "</table>\n",
              "<p>300 rows × 2 columns</p>\n",
              "</div>"
            ],
            "text/plain": [
              "     sentiment                                            content\n",
              "0    happiness  @MrAhrenSean lol! ok ok it is a little absurd....\n",
              "1    happiness             @kelsie_marie1 hey beautiful whats up?\n",
              "2    happiness  i am listening this song &quot;shattered&quot;...\n",
              "3      sadness                      is way too sleepy to be awake\n",
              "4    happiness  Wow, Hugh Jackman TOTALLY bulked up for Wolver...\n",
              "..         ...                                                ...\n",
              "295  happiness                Bumping Air Supply's Greastest Hits\n",
              "296    sadness  @msdivineknight wish i could  want to stay and...\n",
              "297  happiness  @KeepinUpWKris hope you have a great day tomor...\n",
              "298    sadness  @BeateVeronica I'm jealous - I would love deer...\n",
              "299  happiness  Got 5 new followers yesterday! Yay  Just need ...\n",
              "\n",
              "[300 rows x 2 columns]"
            ]
          },
          "metadata": {
            "tags": []
          },
          "execution_count": 32
        }
      ]
    },
    {
      "cell_type": "code",
      "metadata": {
        "id": "sB5vwZbqKvPf"
      },
      "source": [
        "data = data[data['sentiment']!='empty']\n",
        "data = data[data['sentiment']!='enthusiasm']\n",
        "data = data[data['sentiment']!='love']\n",
        "data = data[data['sentiment']!='neutral']\n",
        "data = data[data['sentiment']!='worry']\n",
        "data = data[data['sentiment']!='surprise']\n",
        "data = data[data['sentiment']!='hate']\n",
        "data = data[data['sentiment']!='boredom']\n",
        "data = data[data['sentiment']!='relief']\n",
        "data = data[data['sentiment']!='fun']"
      ],
      "execution_count": null,
      "outputs": []
    },
    {
      "cell_type": "code",
      "metadata": {
        "id": "XgZTfmuN0AER",
        "outputId": "7e554173-2ff4-4ba2-a0a6-c7bffd94bd97",
        "colab": {
          "base_uri": "https://localhost:8080/",
          "height": 402
        }
      },
      "source": [
        "cols = data.columns.tolist()\n",
        "cols = cols[-1:] + cols[:-1]\n",
        "data = data[cols]\n",
        "data"
      ],
      "execution_count": null,
      "outputs": [
        {
          "output_type": "execute_result",
          "data": {
            "text/html": [
              "<div>\n",
              "<style scoped>\n",
              "    .dataframe tbody tr th:only-of-type {\n",
              "        vertical-align: middle;\n",
              "    }\n",
              "\n",
              "    .dataframe tbody tr th {\n",
              "        vertical-align: top;\n",
              "    }\n",
              "\n",
              "    .dataframe thead th {\n",
              "        text-align: right;\n",
              "    }\n",
              "</style>\n",
              "<table border=\"1\" class=\"dataframe\">\n",
              "  <thead>\n",
              "    <tr style=\"text-align: right;\">\n",
              "      <th></th>\n",
              "      <th>content</th>\n",
              "      <th>sentiment</th>\n",
              "    </tr>\n",
              "  </thead>\n",
              "  <tbody>\n",
              "    <tr>\n",
              "      <th>0</th>\n",
              "      <td>@MrAhrenSean lol! ok ok it is a little absurd....</td>\n",
              "      <td>happiness</td>\n",
              "    </tr>\n",
              "    <tr>\n",
              "      <th>1</th>\n",
              "      <td>@kelsie_marie1 hey beautiful whats up?</td>\n",
              "      <td>happiness</td>\n",
              "    </tr>\n",
              "    <tr>\n",
              "      <th>2</th>\n",
              "      <td>i am listening this song &amp;quot;shattered&amp;quot;...</td>\n",
              "      <td>happiness</td>\n",
              "    </tr>\n",
              "    <tr>\n",
              "      <th>3</th>\n",
              "      <td>is way too sleepy to be awake</td>\n",
              "      <td>sadness</td>\n",
              "    </tr>\n",
              "    <tr>\n",
              "      <th>4</th>\n",
              "      <td>Wow, Hugh Jackman TOTALLY bulked up for Wolver...</td>\n",
              "      <td>happiness</td>\n",
              "    </tr>\n",
              "    <tr>\n",
              "      <th>...</th>\n",
              "      <td>...</td>\n",
              "      <td>...</td>\n",
              "    </tr>\n",
              "    <tr>\n",
              "      <th>295</th>\n",
              "      <td>Bumping Air Supply's Greastest Hits</td>\n",
              "      <td>happiness</td>\n",
              "    </tr>\n",
              "    <tr>\n",
              "      <th>296</th>\n",
              "      <td>@msdivineknight wish i could  want to stay and...</td>\n",
              "      <td>sadness</td>\n",
              "    </tr>\n",
              "    <tr>\n",
              "      <th>297</th>\n",
              "      <td>@KeepinUpWKris hope you have a great day tomor...</td>\n",
              "      <td>happiness</td>\n",
              "    </tr>\n",
              "    <tr>\n",
              "      <th>298</th>\n",
              "      <td>@BeateVeronica I'm jealous - I would love deer...</td>\n",
              "      <td>sadness</td>\n",
              "    </tr>\n",
              "    <tr>\n",
              "      <th>299</th>\n",
              "      <td>Got 5 new followers yesterday! Yay  Just need ...</td>\n",
              "      <td>happiness</td>\n",
              "    </tr>\n",
              "  </tbody>\n",
              "</table>\n",
              "<p>300 rows × 2 columns</p>\n",
              "</div>"
            ],
            "text/plain": [
              "                                               content  sentiment\n",
              "0    @MrAhrenSean lol! ok ok it is a little absurd....  happiness\n",
              "1               @kelsie_marie1 hey beautiful whats up?  happiness\n",
              "2    i am listening this song &quot;shattered&quot;...  happiness\n",
              "3                        is way too sleepy to be awake    sadness\n",
              "4    Wow, Hugh Jackman TOTALLY bulked up for Wolver...  happiness\n",
              "..                                                 ...        ...\n",
              "295                Bumping Air Supply's Greastest Hits  happiness\n",
              "296  @msdivineknight wish i could  want to stay and...    sadness\n",
              "297  @KeepinUpWKris hope you have a great day tomor...  happiness\n",
              "298  @BeateVeronica I'm jealous - I would love deer...    sadness\n",
              "299  Got 5 new followers yesterday! Yay  Just need ...  happiness\n",
              "\n",
              "[300 rows x 2 columns]"
            ]
          },
          "metadata": {
            "tags": []
          },
          "execution_count": 35
        }
      ]
    },
    {
      "cell_type": "code",
      "metadata": {
        "id": "NK91ib6q0kfL"
      },
      "source": [
        "data.to_csv('ataset_sentimentos_augmented.csv')"
      ],
      "execution_count": null,
      "outputs": []
    }
  ]
}